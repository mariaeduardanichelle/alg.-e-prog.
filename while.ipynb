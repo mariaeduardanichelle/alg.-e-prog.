{
  "nbformat": 4,
  "nbformat_minor": 0,
  "metadata": {
    "colab": {
      "provenance": [],
      "include_colab_link": true
    },
    "kernelspec": {
      "name": "python3",
      "display_name": "Python 3"
    },
    "language_info": {
      "name": "python"
    }
  },
  "cells": [
    {
      "cell_type": "markdown",
      "metadata": {
        "id": "view-in-github",
        "colab_type": "text"
      },
      "source": [
        "<a href=\"https://colab.research.google.com/github/mariaeduardanichelle/alg.-e-prog./blob/main/while.ipynb\" target=\"_parent\"><img src=\"https://colab.research.google.com/assets/colab-badge.svg\" alt=\"Open In Colab\"/></a>"
      ]
    },
    {
      "cell_type": "markdown",
      "source": [
        "1. Faça um algoritmo que:\n",
        "* leia 20 números inteiros;\n",
        "* escreva os números que são negativos;\n",
        "* escreva a média dos números positivos."
      ],
      "metadata": {
        "id": "u0bm-Z3-dSvA"
      }
    },
    {
      "cell_type": "code",
      "source": [
        "negativos = list()\n",
        "positivos = list()\n",
        "cont = 0\n",
        "while cont != 20:\n",
        "  num = int(input('Digite um número: '))\n",
        "  cont+=1\n",
        "  if num >= 0:\n",
        "    positivos.append(num)\n",
        "  elif num < 0:\n",
        "    negativos.append(num)\n",
        "print(f'Os números positivos são {positivos}')\n",
        "print(f'Os números positivos são {negativos}')"
      ],
      "metadata": {
        "id": "Rz7VHshqdVUP",
        "colab": {
          "base_uri": "https://localhost:8080/"
        },
        "outputId": "83f4dc59-236f-480c-918e-f6d8a6734925"
      },
      "execution_count": null,
      "outputs": [
        {
          "output_type": "stream",
          "name": "stdout",
          "text": [
            "Digite um número: 1\n",
            "Digite um número: -2\n",
            "Digite um número: 3\n",
            "Digite um número: 4\n",
            "Digite um número: 5\n",
            "Digite um número: 6\n",
            "Digite um número: 7\n",
            "Digite um número: 8\n",
            "Digite um número: 9\n",
            "Digite um número: 10\n",
            "Digite um número: 11\n",
            "Digite um número: 12\n",
            "Digite um número: 13\n",
            "Digite um número: 14\n",
            "Digite um número: 15\n",
            "Digite um número: 16\n",
            "Digite um número: 17\n",
            "Digite um número: 18\n",
            "Digite um número: 19\n",
            "Digite um número: 20\n",
            "Os números positivos são [1, 3, 4, 5, 6, 7, 8, 9, 10, 11, 12, 13, 14, 15, 16, 17, 18, 19, 20]\n",
            "Os números positivos são [-2]\n"
          ]
        }
      ]
    },
    {
      "cell_type": "markdown",
      "source": [
        "2. Faça um algoritmo que leia 15 números inteiros e escreva, para cada número lido, se é\n",
        "par ou ímpar."
      ],
      "metadata": {
        "id": "sAmeonOFxL65"
      }
    },
    {
      "cell_type": "code",
      "source": [
        "cont = 0\n",
        "while cont != 15:\n",
        "  num = int(input('Digite um número: '))\n",
        "  cont += 1\n",
        "  if num!= 0:\n",
        "    if num % 2 == 0:\n",
        "      print(f'{num} é par')\n",
        "    else:\n",
        "      print(f'{num} é impar')\n",
        "  else:\n",
        "    print('O numero é zero')"
      ],
      "metadata": {
        "id": "7V0MC7ooe9S2",
        "colab": {
          "base_uri": "https://localhost:8080/"
        },
        "outputId": "00facb96-4108-4cb4-e104-52cceb07ee2f"
      },
      "execution_count": null,
      "outputs": [
        {
          "output_type": "stream",
          "name": "stdout",
          "text": [
            "Digite um número: 0\n",
            "O numero é zero\n",
            "Digite um número: 1\n",
            "1 é impar\n",
            "Digite um número: 2\n",
            "2 é par\n",
            "Digite um número: 3\n",
            "3 é impar\n",
            "Digite um número: 4\n",
            "4 é par\n",
            "Digite um número: 5\n",
            "5 é impar\n",
            "Digite um número: 6\n",
            "6 é par\n",
            "Digite um número: 7\n",
            "7 é impar\n",
            "Digite um número: 8\n",
            "8 é par\n",
            "Digite um número: 9\n",
            "9 é impar\n",
            "Digite um número: 10\n",
            "10 é par\n",
            "Digite um número: 11\n",
            "11 é impar\n",
            "Digite um número: 12\n",
            "12 é par\n",
            "Digite um número: 13\n",
            "13 é impar\n",
            "Digite um número: 14\n",
            "14 é par\n"
          ]
        }
      ]
    },
    {
      "cell_type": "markdown",
      "source": [
        "3. Dado um conjunto de valores inteiros positivos, determinar qual o menor e qual o\n",
        "maior valor do conjunto. Um número com valor “0” (zero) indica o fim dos dados e\n",
        "não deve ser considerado."
      ],
      "metadata": {
        "id": "dzbfx9VAz1Jb"
      }
    },
    {
      "cell_type": "code",
      "source": [
        "cont = 0\n",
        "num = 1\n",
        "while True:\n",
        "  num = int(input('Digite um número '))\n",
        "  cont += 1\n",
        "  while num < 0:\n",
        "    print('Número inválido')\n",
        "    num = int(input('Digite um número '))\n",
        "  if num == 0:\n",
        "    break\n",
        "  if cont == 1:\n",
        "    maior = num\n",
        "    menor = num\n",
        "  if num > maior:\n",
        "    maior = num\n",
        "  elif num < menor:\n",
        "    menor = num\n",
        "print(f'O maior número é {maior}')\n",
        "print(f'O menor número é {menor}')"
      ],
      "metadata": {
        "colab": {
          "base_uri": "https://localhost:8080/"
        },
        "id": "XUrsaac8z3YL",
        "outputId": "a9f96530-0c75-4ca4-be2b-b5fbe3e0268c"
      },
      "execution_count": null,
      "outputs": [
        {
          "output_type": "stream",
          "name": "stdout",
          "text": [
            "Digite um número 1\n",
            "Digite um número 2\n",
            "Digite um número 3\n",
            "Digite um número 0\n",
            "O maior número é 3\n",
            "O menor número é 1\n"
          ]
        }
      ]
    },
    {
      "cell_type": "markdown",
      "source": [
        "4. Faça um algoritmo que calcule e escreva a soma dos números pares e a soma dos\n",
        "números ímpares entre 1 e 100."
      ],
      "metadata": {
        "id": "kRaU97Vz41Js"
      }
    },
    {
      "cell_type": "code",
      "source": [
        "impar = par = 0\n",
        "for n in range(1, 101):\n",
        "  if n % 2 == 0:\n",
        "    par += n\n",
        "  elif n % 2 != 0:\n",
        "    impar += n\n",
        "print(f\"A soma dos pares é {par}\")\n",
        "print(f\"A soma dos ímpares é {impar}\")"
      ],
      "metadata": {
        "colab": {
          "base_uri": "https://localhost:8080/"
        },
        "id": "oMMv3l2Z46IU",
        "outputId": "6ce8727b-4234-4b6d-bee3-dcc376286789"
      },
      "execution_count": null,
      "outputs": [
        {
          "output_type": "stream",
          "name": "stdout",
          "text": [
            "A soma dos pares é 2550\n",
            "A soma dos ímpares é 2500\n"
          ]
        }
      ]
    },
    {
      "cell_type": "markdown",
      "source": [
        "5. Faça um algoritmo que leia a altura de 20 pessoas e calcule a média aritmética das\n",
        "alturas."
      ],
      "metadata": {
        "id": "z9xOqY5X6gUi"
      }
    },
    {
      "cell_type": "code",
      "source": [
        "pessoas = 0\n",
        "for a in range(1, 6):\n",
        "  altura = float(input(\"Digite um número: \"))\n",
        "  pessoas += altura\n",
        "media = pessoas / a\n",
        "print(f\"A média das alturas das pessoas é {media}\")"
      ],
      "metadata": {
        "colab": {
          "base_uri": "https://localhost:8080/"
        },
        "id": "1ORUdCkd6ie6",
        "outputId": "e19d5c96-9812-47f7-8c79-906eff6b69b8"
      },
      "execution_count": null,
      "outputs": [
        {
          "output_type": "stream",
          "name": "stdout",
          "text": [
            "Digite um número: 2\n",
            "Digite um número: 1.2\n",
            "Digite um número: 1.6\n",
            "Digite um número: 1.6\n",
            "Digite um número: 1.6\n",
            "A média das alturas das pessoas é 1.6\n"
          ]
        }
      ]
    },
    {
      "cell_type": "markdown",
      "source": [
        "6. Faça um algoritmo que leia n valores inteiros e escreva quantos desses valores são\n",
        "negativos."
      ],
      "metadata": {
        "id": "8j7p5JGN86FK"
      }
    },
    {
      "cell_type": "code",
      "source": [
        "n = int(input('Digite um valor: '))\n",
        "for i in range(1, n+1):\n",
        "  valor = float(input('Digite um valor: '))\n",
        "  if valor < 0:\n",
        "    print(f'{valor} é negativo!')\n",
        "  elif valor > 0:\n",
        "    print(f'{valor} é positivo!')\n",
        "  else:\n",
        "    print(f'É zero!')"
      ],
      "metadata": {
        "id": "o5V2iHHm9CXz",
        "colab": {
          "base_uri": "https://localhost:8080/"
        },
        "outputId": "34e40c7c-2383-4054-d02f-715163baba65"
      },
      "execution_count": null,
      "outputs": [
        {
          "output_type": "stream",
          "name": "stdout",
          "text": [
            "Digite um valor: 4\n",
            "Digite um valor: 1\n",
            "1.0 é positivo!\n",
            "Digite um valor: -2\n",
            "-2.0 é negativo!\n",
            "Digite um valor: 0\n",
            "É zero!\n",
            "Digite um valor: 5\n",
            "5.0 é positivo!\n"
          ]
        }
      ]
    },
    {
      "cell_type": "markdown",
      "source": [
        "7. Faça um algoritmo que leia a quantidade de tinta que uma caneta, e enquanto a\n",
        "caneta tiver tinta para escrever, escreva “Enquanto tem tinta a caneta escreve...”.\n",
        "Considere que a cada comando de escrita a caneta gasta 2% da tinta que possui."
      ],
      "metadata": {
        "id": "kZRAEjzSu4If"
      }
    },
    {
      "cell_type": "code",
      "source": [
        "tinta = float(input('Digite a quantidade de tinta que a caneta tem: '))\n",
        "cont = 0\n",
        "while tinta >= 1:\n",
        "  gasto = tinta * 0.02\n",
        "  tinta -= gasto\n",
        "  cont += 1\n",
        "  print(f'{cont} Enquanto tem tinta a caneta escreve...')\n",
        "print('A tinta acabou!')"
      ],
      "metadata": {
        "id": "RG4ctNQivJVd",
        "colab": {
          "base_uri": "https://localhost:8080/"
        },
        "outputId": "69ec5f14-23ef-495e-cbc0-ad81d92dd5af"
      },
      "execution_count": null,
      "outputs": [
        {
          "output_type": "stream",
          "name": "stdout",
          "text": [
            "Digite a quantidade de tinta que a caneta tem: 10\n",
            "1 Enquanto tem tinta a caneta escreve...\n",
            "2 Enquanto tem tinta a caneta escreve...\n",
            "3 Enquanto tem tinta a caneta escreve...\n",
            "4 Enquanto tem tinta a caneta escreve...\n",
            "5 Enquanto tem tinta a caneta escreve...\n",
            "6 Enquanto tem tinta a caneta escreve...\n",
            "7 Enquanto tem tinta a caneta escreve...\n",
            "8 Enquanto tem tinta a caneta escreve...\n",
            "9 Enquanto tem tinta a caneta escreve...\n",
            "10 Enquanto tem tinta a caneta escreve...\n",
            "11 Enquanto tem tinta a caneta escreve...\n",
            "12 Enquanto tem tinta a caneta escreve...\n",
            "13 Enquanto tem tinta a caneta escreve...\n",
            "14 Enquanto tem tinta a caneta escreve...\n",
            "15 Enquanto tem tinta a caneta escreve...\n",
            "16 Enquanto tem tinta a caneta escreve...\n",
            "17 Enquanto tem tinta a caneta escreve...\n",
            "18 Enquanto tem tinta a caneta escreve...\n",
            "19 Enquanto tem tinta a caneta escreve...\n",
            "20 Enquanto tem tinta a caneta escreve...\n",
            "21 Enquanto tem tinta a caneta escreve...\n",
            "22 Enquanto tem tinta a caneta escreve...\n",
            "23 Enquanto tem tinta a caneta escreve...\n",
            "24 Enquanto tem tinta a caneta escreve...\n",
            "25 Enquanto tem tinta a caneta escreve...\n",
            "26 Enquanto tem tinta a caneta escreve...\n",
            "27 Enquanto tem tinta a caneta escreve...\n",
            "28 Enquanto tem tinta a caneta escreve...\n",
            "29 Enquanto tem tinta a caneta escreve...\n",
            "30 Enquanto tem tinta a caneta escreve...\n",
            "31 Enquanto tem tinta a caneta escreve...\n",
            "32 Enquanto tem tinta a caneta escreve...\n",
            "33 Enquanto tem tinta a caneta escreve...\n",
            "34 Enquanto tem tinta a caneta escreve...\n",
            "35 Enquanto tem tinta a caneta escreve...\n",
            "36 Enquanto tem tinta a caneta escreve...\n",
            "37 Enquanto tem tinta a caneta escreve...\n",
            "38 Enquanto tem tinta a caneta escreve...\n",
            "39 Enquanto tem tinta a caneta escreve...\n",
            "40 Enquanto tem tinta a caneta escreve...\n",
            "41 Enquanto tem tinta a caneta escreve...\n",
            "42 Enquanto tem tinta a caneta escreve...\n",
            "43 Enquanto tem tinta a caneta escreve...\n",
            "44 Enquanto tem tinta a caneta escreve...\n",
            "45 Enquanto tem tinta a caneta escreve...\n",
            "46 Enquanto tem tinta a caneta escreve...\n",
            "47 Enquanto tem tinta a caneta escreve...\n",
            "48 Enquanto tem tinta a caneta escreve...\n",
            "49 Enquanto tem tinta a caneta escreve...\n",
            "50 Enquanto tem tinta a caneta escreve...\n",
            "51 Enquanto tem tinta a caneta escreve...\n",
            "52 Enquanto tem tinta a caneta escreve...\n",
            "53 Enquanto tem tinta a caneta escreve...\n",
            "54 Enquanto tem tinta a caneta escreve...\n",
            "55 Enquanto tem tinta a caneta escreve...\n",
            "56 Enquanto tem tinta a caneta escreve...\n",
            "57 Enquanto tem tinta a caneta escreve...\n",
            "58 Enquanto tem tinta a caneta escreve...\n",
            "59 Enquanto tem tinta a caneta escreve...\n",
            "60 Enquanto tem tinta a caneta escreve...\n",
            "61 Enquanto tem tinta a caneta escreve...\n",
            "62 Enquanto tem tinta a caneta escreve...\n",
            "63 Enquanto tem tinta a caneta escreve...\n",
            "64 Enquanto tem tinta a caneta escreve...\n",
            "65 Enquanto tem tinta a caneta escreve...\n",
            "66 Enquanto tem tinta a caneta escreve...\n",
            "67 Enquanto tem tinta a caneta escreve...\n",
            "68 Enquanto tem tinta a caneta escreve...\n",
            "69 Enquanto tem tinta a caneta escreve...\n",
            "70 Enquanto tem tinta a caneta escreve...\n",
            "71 Enquanto tem tinta a caneta escreve...\n",
            "72 Enquanto tem tinta a caneta escreve...\n",
            "73 Enquanto tem tinta a caneta escreve...\n",
            "74 Enquanto tem tinta a caneta escreve...\n",
            "75 Enquanto tem tinta a caneta escreve...\n",
            "76 Enquanto tem tinta a caneta escreve...\n",
            "77 Enquanto tem tinta a caneta escreve...\n",
            "78 Enquanto tem tinta a caneta escreve...\n",
            "79 Enquanto tem tinta a caneta escreve...\n",
            "80 Enquanto tem tinta a caneta escreve...\n",
            "81 Enquanto tem tinta a caneta escreve...\n",
            "82 Enquanto tem tinta a caneta escreve...\n",
            "83 Enquanto tem tinta a caneta escreve...\n",
            "84 Enquanto tem tinta a caneta escreve...\n",
            "85 Enquanto tem tinta a caneta escreve...\n",
            "86 Enquanto tem tinta a caneta escreve...\n",
            "87 Enquanto tem tinta a caneta escreve...\n",
            "88 Enquanto tem tinta a caneta escreve...\n",
            "89 Enquanto tem tinta a caneta escreve...\n",
            "90 Enquanto tem tinta a caneta escreve...\n",
            "91 Enquanto tem tinta a caneta escreve...\n",
            "92 Enquanto tem tinta a caneta escreve...\n",
            "93 Enquanto tem tinta a caneta escreve...\n",
            "94 Enquanto tem tinta a caneta escreve...\n",
            "95 Enquanto tem tinta a caneta escreve...\n",
            "96 Enquanto tem tinta a caneta escreve...\n",
            "97 Enquanto tem tinta a caneta escreve...\n",
            "98 Enquanto tem tinta a caneta escreve...\n",
            "99 Enquanto tem tinta a caneta escreve...\n",
            "100 Enquanto tem tinta a caneta escreve...\n",
            "101 Enquanto tem tinta a caneta escreve...\n",
            "102 Enquanto tem tinta a caneta escreve...\n",
            "103 Enquanto tem tinta a caneta escreve...\n",
            "104 Enquanto tem tinta a caneta escreve...\n",
            "105 Enquanto tem tinta a caneta escreve...\n",
            "106 Enquanto tem tinta a caneta escreve...\n",
            "107 Enquanto tem tinta a caneta escreve...\n",
            "108 Enquanto tem tinta a caneta escreve...\n",
            "109 Enquanto tem tinta a caneta escreve...\n",
            "110 Enquanto tem tinta a caneta escreve...\n",
            "111 Enquanto tem tinta a caneta escreve...\n",
            "112 Enquanto tem tinta a caneta escreve...\n",
            "113 Enquanto tem tinta a caneta escreve...\n",
            "114 Enquanto tem tinta a caneta escreve...\n",
            "A tinta acabou!\n"
          ]
        }
      ]
    },
    {
      "cell_type": "markdown",
      "source": [
        "8. Faça um algoritmo que leia n pares de valores, sendo o primeiro valor o número de\n",
        "inscrição do atleta e o segundo a altura (em cm) do atleta. Escreva:\n",
        "* o número de inscrição e a altura do atleta mais alto;\n",
        "* o número de inscrição e a altura do atleta mais baixo;\n",
        "* a altura média do grupo de atletas."
      ],
      "metadata": {
        "id": "nECxC92gHLm5"
      }
    },
    {
      "cell_type": "code",
      "source": [
        "n = int(input('Digite valores: '))\n",
        "media = maior_altura = maior_altura_inscricao = 0\n",
        "for i in range(1, n+1):\n",
        "  inscricao = input('Digite a inscrição do atleta: ')\n",
        "  altura = float(input('Diite a altura do atleta: '))\n",
        "  media += altura\n",
        "  if i == 1:\n",
        "    maior_altura = altura\n",
        "    maior_altura_inscricao = inscricao\n",
        "  else:\n",
        "    if altura > maior_altura:\n",
        "      maior_altura = altura\n",
        "      maior_altura_inscricao = inscricao\n",
        "media /= n\n",
        "print(f'A média é: {media}m')\n",
        "print(f'A maior altura é {maior_altura}, do atleta de inscrição {maior_altura_inscricao}')"
      ],
      "metadata": {
        "colab": {
          "base_uri": "https://localhost:8080/"
        },
        "id": "qsZSCxuFKaoV",
        "outputId": "6fe198e0-b45a-4e1b-de3b-5ed1e5d9797d"
      },
      "execution_count": null,
      "outputs": [
        {
          "output_type": "stream",
          "name": "stdout",
          "text": [
            "Digite valores: 2\n",
            "Digite a inscrição do atleta: 1\n",
            "Diite a altura do atleta: 1.9\n",
            "Digite a inscrição do atleta: 2\n",
            "Diite a altura do atleta: 8\n",
            "A média é: 4.95m\n",
            "A maior altura é 8.0, do atleta de inscrição 2\n"
          ]
        }
      ]
    },
    {
      "cell_type": "markdown",
      "source": [
        "9. Faça um algoritmo que calcule e imprima os valores de y, onde:\n",
        "\n",
        ", para x variando de 1.0 até 5.0, em intervalos de 0.1 unidades."
      ],
      "metadata": {
        "id": "AUM_I85wHV5k"
      }
    },
    {
      "cell_type": "code",
      "source": [
        "for x in range(1, 50+1):\n",
        "  x /= 100\n",
        "  y = (3 + 2 * x + 6 * x ** 2)/(1 + 9 * x + 16 * x ** 2)\n",
        "  print(f'valor de y = {y} para x = {x}')"
      ],
      "metadata": {
        "colab": {
          "base_uri": "https://localhost:8080/"
        },
        "id": "q5fJSxJnNDhm",
        "outputId": "1b61ab38-edde-45cc-fa48-eb86f53a4a0b"
      },
      "execution_count": null,
      "outputs": [
        {
          "output_type": "stream",
          "name": "stdout",
          "text": [
            "valor de y = 2.7671308171491384 para x = 0.01\n",
            "valor de y = 2.5643964935940664 para x = 0.02\n",
            "valor de y = 2.38663967611336 para x = 0.03\n",
            "valor de y = 2.2297921478060045 para x = 0.04\n",
            "valor de y = 2.0906040268456376 para x = 0.05\n",
            "valor de y = 1.9664496745117674 para x = 0.06\n",
            "valor de y = 1.8551861390774993 para x = 0.07\n",
            "valor de y = 1.7550482879719054 para x = 0.08\n",
            "valor de y = 1.6645700144359663 para x = 0.09\n",
            "valor de y = 1.5825242718446602 para x = 0.1\n",
            "valor de y = 1.5078769005312327 para x = 0.11\n",
            "valor de y = 1.4397506925207757 para x = 0.12\n",
            "valor de y = 1.3773971480085232 para x = 0.13\n",
            "valor de y = 1.3201740752253652 para x = 0.14\n",
            "valor de y = 1.2675276752767528 para x = 0.15\n",
            "valor de y = 1.218978102189781 para x = 0.16\n",
            "valor de y = 1.1741077396070043 para x = 0.17\n",
            "valor de y = 1.1325516186591893 para x = 0.18\n",
            "valor de y = 1.0939895364399563 para x = 0.19\n",
            "valor de y = 1.058139534883721 para x = 0.2\n",
            "valor de y = 1.0247524752475248 para x = 0.21\n",
            "valor de y = 0.9936075005327083 para x = 0.22\n",
            "valor de y = 0.9645082218363803 para x = 0.23\n",
            "valor de y = 0.9372794982359859 para x = 0.24\n",
            "valor de y = 0.9117647058823529 para x = 0.25\n",
            "valor de y = 0.8878234123394247 para x = 0.26\n",
            "valor de y = 0.8653293882168654 para x = 0.27\n",
            "valor de y = 0.8441689008042894 para x = 0.28\n",
            "valor de y = 0.8242392444910809 para x = 0.29\n",
            "valor de y = 0.8054474708171208 para x = 0.3\n",
            "valor de y = 0.7877092874840453 para x = 0.31\n",
            "valor de y = 0.7709481008988114 para x = 0.32\n",
            "valor de y = 0.7550941810797563 para x = 0.33\n",
            "valor de y = 0.7400839312305401 para x = 0.34\n",
            "valor de y = 0.7258592471358429 para x = 0.35\n",
            "valor de y = 0.7123669538773441 para x = 0.36\n",
            "valor de y = 0.6995583093061775 para x = 0.37\n",
            "valor de y = 0.6873885653155831 para x = 0.38\n",
            "valor de y = 0.6758165792960424 para x = 0.39\n",
            "valor de y = 0.6648044692737429 para x = 0.4\n",
            "valor de y = 0.6543173071711205 para x = 0.41\n",
            "valor de y = 0.6443228454172367 para x = 0.42\n",
            "valor de y = 0.6347912728015942 para x = 0.43\n",
            "valor de y = 0.625694996028594 para x = 0.44\n",
            "valor de y = 0.6170084439083233 para x = 0.45\n",
            "valor de y = 0.608707891526696 para x = 0.46\n",
            "valor de y = 0.6007713020857104 para x = 0.47\n",
            "valor de y = 0.5931781844022028 para x = 0.48\n",
            "valor de y = 0.5859094643088764 para x = 0.49\n",
            "valor de y = 0.5789473684210527 para x = 0.5\n"
          ]
        }
      ]
    },
    {
      "cell_type": "markdown",
      "source": [
        "10. Construir um algoritmo que calcule o fatorial de um número N."
      ],
      "metadata": {
        "id": "HNkoV1GJHaAa"
      }
    },
    {
      "cell_type": "code",
      "source": [
        "n = int(input('Digite um valor: '))\n",
        "fatorial = 1\n",
        "for f in range(1, n+1):\n",
        "  fatorial *= f\n",
        "print(f'{n}! = {fatorial}')"
      ],
      "metadata": {
        "colab": {
          "base_uri": "https://localhost:8080/"
        },
        "id": "vFv0gc4cPfT2",
        "outputId": "5b508265-0d00-4774-adc7-66210549234d"
      },
      "execution_count": null,
      "outputs": [
        {
          "output_type": "stream",
          "name": "stdout",
          "text": [
            "Digite um valor: 3\n",
            "3! = 6\n"
          ]
        }
      ]
    },
    {
      "cell_type": "markdown",
      "source": [
        "11. Faça um algoritmo que calcule e escreva a soma da seguinte série de 100 termos: 1+ 2 + 3 + 4 +!+100"
      ],
      "metadata": {
        "id": "6xcoKNk-HeVw"
      }
    },
    {
      "cell_type": "code",
      "source": [
        "soma = 0\n",
        "for n in range(1, 101):\n",
        "  soma += n\n",
        "  if n <100:\n",
        "    print(f'{n} + ', end='')\n",
        "  else:\n",
        "    print(f'{n} = ', end='')\n",
        "print(soma)"
      ],
      "metadata": {
        "colab": {
          "base_uri": "https://localhost:8080/"
        },
        "id": "eO6GvyWbQTlQ",
        "outputId": "7650225a-b97d-40cf-bc32-4903ae0a6c1d"
      },
      "execution_count": null,
      "outputs": [
        {
          "output_type": "stream",
          "name": "stdout",
          "text": [
            "1 + 2 + 3 + 4 + 5 + 6 + 7 + 8 + 9 + 10 + 11 + 12 + 13 + 14 + 15 + 16 + 17 + 18 + 19 + 20 + 21 + 22 + 23 + 24 + 25 + 26 + 27 + 28 + 29 + 30 + 31 + 32 + 33 + 34 + 35 + 36 + 37 + 38 + 39 + 40 + 41 + 42 + 43 + 44 + 45 + 46 + 47 + 48 + 49 + 50 + 51 + 52 + 53 + 54 + 55 + 56 + 57 + 58 + 59 + 60 + 61 + 62 + 63 + 64 + 65 + 66 + 67 + 68 + 69 + 70 + 71 + 72 + 73 + 74 + 75 + 76 + 77 + 78 + 79 + 80 + 81 + 82 + 83 + 84 + 85 + 86 + 87 + 88 + 89 + 90 + 91 + 92 + 93 + 94 + 95 + 96 + 97 + 98 + 99 + 100 = 5050\n"
          ]
        }
      ]
    },
    {
      "cell_type": "markdown",
      "source": [
        "12. Faça um algoritmo que calcule e escreva a soma da seguinte série de 100 termos: "
      ],
      "metadata": {
        "id": "lQKouSpzHlcK"
      }
    },
    {
      "cell_type": "code",
      "source": [
        "divisao = 0\n",
        "for n in range(1, 101):\n",
        "  divisao += 1/n\n",
        "  if n <100:\n",
        "    print(f'1/{n} + ', end='')\n",
        "  else:\n",
        "    print(f'1/{n} = ', end='')\n",
        "print(divisao)"
      ],
      "metadata": {
        "colab": {
          "base_uri": "https://localhost:8080/"
        },
        "id": "4raFbu-NRm7V",
        "outputId": "3e2fd8fb-4856-4243-94ff-c910b39f6df9"
      },
      "execution_count": null,
      "outputs": [
        {
          "output_type": "stream",
          "name": "stdout",
          "text": [
            "1/1 + 1/2 + 1/3 + 1/4 + 1/5 + 1/6 + 1/7 + 1/8 + 1/9 + 1/10 + 1/11 + 1/12 + 1/13 + 1/14 + 1/15 + 1/16 + 1/17 + 1/18 + 1/19 + 1/20 + 1/21 + 1/22 + 1/23 + 1/24 + 1/25 + 1/26 + 1/27 + 1/28 + 1/29 + 1/30 + 1/31 + 1/32 + 1/33 + 1/34 + 1/35 + 1/36 + 1/37 + 1/38 + 1/39 + 1/40 + 1/41 + 1/42 + 1/43 + 1/44 + 1/45 + 1/46 + 1/47 + 1/48 + 1/49 + 1/50 + 1/51 + 1/52 + 1/53 + 1/54 + 1/55 + 1/56 + 1/57 + 1/58 + 1/59 + 1/60 + 1/61 + 1/62 + 1/63 + 1/64 + 1/65 + 1/66 + 1/67 + 1/68 + 1/69 + 1/70 + 1/71 + 1/72 + 1/73 + 1/74 + 1/75 + 1/76 + 1/77 + 1/78 + 1/79 + 1/80 + 1/81 + 1/82 + 1/83 + 1/84 + 1/85 + 1/86 + 1/87 + 1/88 + 1/89 + 1/90 + 1/91 + 1/92 + 1/93 + 1/94 + 1/95 + 1/96 + 1/97 + 1/98 + 1/99 + 1/100 = 5.187377517639621\n"
          ]
        }
      ]
    },
    {
      "cell_type": "markdown",
      "source": [
        "13. Fazer um algoritmo para calcular o valor de S, dado por:"
      ],
      "metadata": {
        "id": "15QT2YqLHrf7"
      }
    },
    {
      "cell_type": "code",
      "source": [
        "n = int(input('Digite um valor: '))\n",
        "s = 0\n",
        "for a in range(1, n+1):\n",
        "  s += a / (n - (a - 1))\n",
        "print(s)"
      ],
      "metadata": {
        "colab": {
          "base_uri": "https://localhost:8080/"
        },
        "id": "Ukznl1MOSBHO",
        "outputId": "9e576103-e2b0-4dd4-d07a-32b8a8c013ea"
      },
      "execution_count": null,
      "outputs": [
        {
          "output_type": "stream",
          "name": "stdout",
          "text": [
            "Digite um valor: 5\n",
            "8.7\n"
          ]
        }
      ]
    },
    {
      "cell_type": "markdown",
      "source": [
        "14. O valor aproximado do número p pode ser calculado usando-se a série:"
      ],
      "metadata": {
        "id": "CVXqZZrCHvJB"
      }
    },
    {
      "cell_type": "code",
      "source": [
        "s = 0\n",
        "sinal = 0\n",
        "\n",
        "for denominador in range(1, 102, 2):\n",
        "  if sinal % 2 == 0:\n",
        "    s += 1 / denominador ** 3\n",
        "  else:\n",
        "    s -= 1 / denominador ** 3\n",
        "\n",
        "  sinal += 1\n",
        "\n",
        "pi = (s * 32) ** (1/3)\n",
        "print(pi)"
      ],
      "metadata": {
        "colab": {
          "base_uri": "https://localhost:8080/"
        },
        "id": "biHUknnKTf3i",
        "outputId": "0fb28388-67a7-4698-bc30-d3cc83d4ecec"
      },
      "execution_count": null,
      "outputs": [
        {
          "output_type": "stream",
          "name": "stdout",
          "text": [
            "3.1415931625082094\n"
          ]
        }
      ]
    }
  ]
}