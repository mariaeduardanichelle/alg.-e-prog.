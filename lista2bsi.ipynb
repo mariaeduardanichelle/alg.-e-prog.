{
  "nbformat": 4,
  "nbformat_minor": 0,
  "metadata": {
    "colab": {
      "provenance": [],
      "authorship_tag": "ABX9TyO1awJScCcgn7JAcapEAMMx",
      "include_colab_link": true
    },
    "kernelspec": {
      "name": "python3",
      "display_name": "Python 3"
    },
    "language_info": {
      "name": "python"
    }
  },
  "cells": [
    {
      "cell_type": "markdown",
      "metadata": {
        "id": "view-in-github",
        "colab_type": "text"
      },
      "source": [
        "<a href=\"https://colab.research.google.com/github/mariaeduardanichelle/alg.-e-prog./blob/main/lista2bsi.ipynb\" target=\"_parent\"><img src=\"https://colab.research.google.com/assets/colab-badge.svg\" alt=\"Open In Colab\"/></a>"
      ]
    },
    {
      "cell_type": "markdown",
      "source": [
        "2. Ler um valor e escrever se é positivo, negativo ou zero."
      ],
      "metadata": {
        "id": "DnxkYB90ZRD6"
      }
    },
    {
      "cell_type": "code",
      "execution_count": null,
      "metadata": {
        "colab": {
          "base_uri": "https://localhost:8080/"
        },
        "id": "RN4fxLLtYovf",
        "outputId": "f96fc1f6-f2fb-4c10-efbb-f620e06f54c6"
      },
      "outputs": [
        {
          "output_type": "stream",
          "name": "stdout",
          "text": [
            "Digite um valor: 0\n",
            "0 é zero\n"
          ]
        }
      ],
      "source": [
        "num = float(input('Digite um valor: '))\n",
        "if num > 0:\n",
        "  print(f'{num} é positivo')\n",
        "elif num < 0: \n",
        "  print(f'{num} é negativo')\n",
        "else:\n",
        "  print(f'{num:.0f} é zero')"
      ]
    },
    {
      "cell_type": "markdown",
      "source": [
        "3. Ler um valor e escrever a mensagem É MAIOR QUE 10! se o valor lido for maior que 10,\n",
        "caso contrário escrever NÃO É MAIOR QUE 10!"
      ],
      "metadata": {
        "id": "vBSizN3_aU-c"
      }
    },
    {
      "cell_type": "code",
      "source": [
        "num = float(input('Digite um valor: '))\n",
        "if num > 10:\n",
        "  print(f'{num} É MAIOR QUE 10!')\n",
        "else:\n",
        "  print(f'{num} NÃO É MAIOR QUE 10!')"
      ],
      "metadata": {
        "colab": {
          "base_uri": "https://localhost:8080/"
        },
        "id": "6rfywF74aXac",
        "outputId": "4537ac51-6353-4be7-ba1b-c61b1adcb198"
      },
      "execution_count": null,
      "outputs": [
        {
          "output_type": "stream",
          "name": "stdout",
          "text": [
            "Digite um valor: 9\n",
            "9.0 NÃO É MAIOR QUE 10!\n"
          ]
        }
      ]
    },
    {
      "cell_type": "markdown",
      "source": [
        "4. Calcule a soma de dois números, se o resultado for maior que 10, mostre-o na tela."
      ],
      "metadata": {
        "id": "Su-P393Va_AG"
      }
    },
    {
      "cell_type": "code",
      "source": [
        "num1 = float(input('Digite um número: '))\n",
        "num2 = float(input('Digite outro número: '))\n",
        "if num1 + num2 > 10:\n",
        "  print(num1 + num2)"
      ],
      "metadata": {
        "colab": {
          "base_uri": "https://localhost:8080/"
        },
        "id": "OSSQdTMSbD-W",
        "outputId": "004d3ec2-374b-4857-a79e-bc4d8f1b83a3"
      },
      "execution_count": null,
      "outputs": [
        {
          "output_type": "stream",
          "name": "stdout",
          "text": [
            "Digite um número: 5\n",
            "Digite outro número: 6\n",
            "11.0\n"
          ]
        }
      ]
    },
    {
      "cell_type": "markdown",
      "source": [
        "5. Entrar com um número e informar se ele é divisível por 5."
      ],
      "metadata": {
        "id": "kQwtjJ8rbha5"
      }
    },
    {
      "cell_type": "code",
      "source": [
        "num = float(input('Digite um número: '))\n",
        "if num % 5 == 0:\n",
        "  print(f'{num} é divisível por 5!')\n",
        "else:\n",
        "  print(f'{num} NÃO é divisível por 5!')"
      ],
      "metadata": {
        "colab": {
          "base_uri": "https://localhost:8080/"
        },
        "id": "t4eqNKKFbnPB",
        "outputId": "f42540c3-94c2-4a4b-8490-d4132e2857f4"
      },
      "execution_count": null,
      "outputs": [
        {
          "output_type": "stream",
          "name": "stdout",
          "text": [
            "Digite um número: 3\n",
            "3.0 NÃO é divisível por 5!\n"
          ]
        }
      ]
    },
    {
      "cell_type": "markdown",
      "source": [
        "6. Construir um algoritmo que indique se o número digitado está entre 20 e 90 ou não."
      ],
      "metadata": {
        "id": "F3RVBy-JcDgi"
      }
    },
    {
      "cell_type": "code",
      "source": [
        "num = float(input('Digite um número: '))\n",
        "if num > 20 and num < 90:\n",
        "  print(f'{num} está entre 20 e 90')\n",
        "else:\n",
        "  print(f'{num} NÃO está entre 20 e 90')"
      ],
      "metadata": {
        "id": "SrcVxBxWcHES"
      },
      "execution_count": null,
      "outputs": []
    },
    {
      "cell_type": "markdown",
      "source": [
        "7. Ler o ano atual e o ano de nascimento de uma pessoa. Escrever uma mensagem que\n",
        "diga se ela poderá ou não votar este ano (não é necessário considerar o mês em que a\n",
        "pessoa nasceu)."
      ],
      "metadata": {
        "id": "F10LoMK8dUNm"
      }
    },
    {
      "cell_type": "code",
      "source": [
        "from datetime import date\n",
        "anoatual = date.today().year\n",
        "anonasc = int(input('Digite a data de nascimento: '))\n",
        "idade = anoatual - anonasc\n",
        "if idade >= 16:\n",
        "  print('Você poderá votar!')\n",
        "else:\n",
        "  print('Você NÃO poderá votar!')"
      ],
      "metadata": {
        "colab": {
          "base_uri": "https://localhost:8080/"
        },
        "id": "LptpjvCJdbnq",
        "outputId": "fcac0875-a2ec-47b8-af87-90a1606525ca"
      },
      "execution_count": null,
      "outputs": [
        {
          "output_type": "stream",
          "name": "stdout",
          "text": [
            "Digite a data de nascimento: 2007\n",
            "Você poderá votar!\n"
          ]
        }
      ]
    },
    {
      "cell_type": "markdown",
      "source": [
        "8. Entrar com o ano de nascimento de uma pessoa e imprimir a idade dela. Verificar se o\n",
        "ano digitado é válido."
      ],
      "metadata": {
        "id": "3bKZlMc6RpTD"
      }
    },
    {
      "cell_type": "code",
      "source": [
        "from datetime import date\n",
        "anoatual = date.today().year\n",
        "anonasc = int(input('Ano de nascimento: '))\n",
        "while anonasc > anoatual:\n",
        "  anonasc = int(input('O ano digitado é inválido! \\nDigite o ano de nascimento:'))\n",
        "idade = anoatual - anonasc\n",
        "print(f'Você tem {idade} anos!')"
      ],
      "metadata": {
        "colab": {
          "base_uri": "https://localhost:8080/"
        },
        "id": "DzFor9xaR1oX",
        "outputId": "0764637c-41bf-4fdc-ad71-ffdb79dfdc0a"
      },
      "execution_count": null,
      "outputs": [
        {
          "output_type": "stream",
          "name": "stdout",
          "text": [
            "Ano de nascimento: 2024\n",
            "O ano digitado é inválido! \n",
            "Digite o ano de nascimento:2020\n",
            "Você tem 3 anos!\n"
          ]
        }
      ]
    },
    {
      "cell_type": "markdown",
      "source": [
        "9. Entrar com a idade de uma pessoa e exibir a mensagem; Maior de idade, menor de\n",
        "idade ou acima de 65 anos."
      ],
      "metadata": {
        "id": "JnIh2u5bTn7T"
      }
    },
    {
      "cell_type": "code",
      "source": [
        "idade = int(input('Idade: '))\n",
        "if idade > 65:\n",
        "  print('Maior de 65 anos')\n",
        "elif idade >= 18:\n",
        "  print('Maior de idade')\n",
        "else:\n",
        "  print('Menor de idade')\n"
      ],
      "metadata": {
        "colab": {
          "base_uri": "https://localhost:8080/"
        },
        "id": "LpylxMfoTsFa",
        "outputId": "409f6364-8ace-427a-f11c-3b2695f41b44"
      },
      "execution_count": null,
      "outputs": [
        {
          "output_type": "stream",
          "name": "stdout",
          "text": [
            "Idade: 66\n",
            "Maior de 65 anos\n"
          ]
        }
      ]
    },
    {
      "cell_type": "markdown",
      "source": [
        "10. Ler as notas da 1a\n",
        ". e 2a\n",
        ". avaliações de um aluno. Calcular a média aritmética simples e\n",
        "escrever uma mensagem que diga se o aluno foi ou não aprovado (considerar que se a\n",
        "nota for igual ou maior que 6 o aluno é aprovado). Escrever também a média\n",
        "calculada."
      ],
      "metadata": {
        "id": "QN8awXefUhHT"
      }
    },
    {
      "cell_type": "code",
      "source": [
        "nota1 = float(input('Nota 1: '))\n",
        "nota2 = float(input('Nota 2: '))\n",
        "media = (nota1 + nota2) /2\n",
        "if media >= 6:\n",
        "  print('Aprovado!')\n",
        "else:\n",
        "  print('Reprovado!')"
      ],
      "metadata": {
        "colab": {
          "base_uri": "https://localhost:8080/"
        },
        "id": "rmqI468EUkly",
        "outputId": "212a2ee5-f673-4ae7-e837-54e0d48595c0"
      },
      "execution_count": null,
      "outputs": [
        {
          "output_type": "stream",
          "name": "stdout",
          "text": [
            "Nota 1: 4\n",
            "Nota 2: 5\n",
            "Reprovado!\n"
          ]
        }
      ]
    },
    {
      "cell_type": "markdown",
      "source": [
        "11. Escrever um algoritmo para ler duas notas de um aluno e escrever na tela a palavra\n",
        "“Aprovado” se a média das duas notas for maior ou igual a 7,0. Caso a média seja\n",
        "inferior a 7,0, o programa deve ler a nota do exame e calcular a média final. Se esta\n",
        "média for maior ou igual a 5,0, o programa deve escrever “Aprovado”, caso contrário\n",
        "deve escrever “Reprovado”."
      ],
      "metadata": {
        "id": "Z2KzDRUwWpov"
      }
    },
    {
      "cell_type": "code",
      "source": [
        "n1 = float(input('Nota 1: '))\n",
        "n2 = float(input('Nota 2: '))\n",
        "media = (n1 + n2) / 2\n",
        "if media >= 7:\n",
        "  print('Aprovado!')\n",
        "else:\n",
        "  exame = float(input('Nota do exame: '))\n",
        "  ncexame = (media + exame) / 2\n",
        "  if ncexame >= 5:\n",
        "    print('Aprovado!')\n",
        "  else: \n",
        "    print('Reprovado!')"
      ],
      "metadata": {
        "colab": {
          "base_uri": "https://localhost:8080/"
        },
        "id": "0snCP_LGWwfi",
        "outputId": "069c3ec3-5595-47c6-910e-15d13cbbf46d"
      },
      "execution_count": null,
      "outputs": [
        {
          "output_type": "stream",
          "name": "stdout",
          "text": [
            "Nota 1: 7\n",
            "Nota 2: 2\n",
            "Nota do exame: 3\n",
            "Reprovado!\n"
          ]
        }
      ]
    },
    {
      "cell_type": "markdown",
      "source": [
        "12. Escrever um algoritmo para ler a quantidade de horas aula dadas por dois professores\n",
        "e o valor por hora recebido por cada um. Mostrar na tela qual dos professores tem\n",
        "salário total maior."
      ],
      "metadata": {
        "id": "8Qugg4CFgLlN"
      }
    },
    {
      "cell_type": "code",
      "source": [
        "horasp1 = float(input('Horas aula dadas pelo prof 1: '))\n",
        "valorr1 = float(input('Valor por hora recebido pelo prof 1: '))\n",
        "horasp2 = float(input('Horas aula dadas pelo prof 2: '))\n",
        "valorr2 = float(input('Valor por hora recebido pelo prof 2: '))\n",
        "sal1 = horasp1 * valorr1\n",
        "sal2 = horasp2 * valorr2\n",
        "if sal1 > sal2:\n",
        "  print('O professor 1 tem o maior salário! ')\n",
        "else:\n",
        "  print('O professor 2 tem o maior salário! ')"
      ],
      "metadata": {
        "id": "jEwyiyssgWI3",
        "colab": {
          "base_uri": "https://localhost:8080/"
        },
        "outputId": "ab61b434-b7a3-4924-a577-980c08bce745"
      },
      "execution_count": null,
      "outputs": [
        {
          "output_type": "stream",
          "name": "stdout",
          "text": [
            "Horas aula dadas pelo prof 1: 20\n",
            "Valor por hora recebido pelo prof 1: 20\n",
            "Horas aula dadas pelo prof 2: 10\n",
            "Valor por hora recebido pelo prof 2: 20\n",
            "O professor 1 tem o maior salário! \n"
          ]
        }
      ]
    },
    {
      "cell_type": "markdown",
      "source": [
        "13. Faça um algoritmo que leia um número inteiro e mostre uma mensagem indicando se\n",
        "este número é par ou ímpar."
      ],
      "metadata": {
        "id": "Vsam_RZTEwfQ"
      }
    },
    {
      "cell_type": "code",
      "source": [
        "num = int(input('Digite um número: '))\n",
        "if num % 2 == 0:\n",
        "  print('Par')\n",
        "else:\n",
        "  print('Ímpar')"
      ],
      "metadata": {
        "colab": {
          "base_uri": "https://localhost:8080/"
        },
        "id": "6r6W2BtLE4hU",
        "outputId": "ea5c43a8-9127-4535-e305-90ed2cc605c6"
      },
      "execution_count": null,
      "outputs": [
        {
          "output_type": "stream",
          "name": "stdout",
          "text": [
            "Digite um número: 2\n",
            "Par\n"
          ]
        }
      ]
    },
    {
      "cell_type": "markdown",
      "source": [
        "14. Ler o nome de 2 times e o número de gols marcados na partida. Escrever o nome do\n",
        "vencedor. Caso não haja vencedor deverá ser impressa a palavra EMPATE."
      ],
      "metadata": {
        "id": "NxKujlwOFSYq"
      }
    },
    {
      "cell_type": "code",
      "source": [
        "nome1 = str(input('Digite o nome do time: '))\n",
        "gols1 = int(input(f'Gols marcados pelo {nome1}: '))\n",
        "nome2 = str(input('Digite o nome do time: '))\n",
        "gols2 = int(input(f'Gols marcados pelo {nome2}: '))\n",
        "if gols1 > gols2:\n",
        "  print(f'{nome1} é o vencedor!')\n",
        "elif gols2 > gols1: \n",
        "  print(f'{nome2} é o vencedor!')\n",
        "else:\n",
        "  print('Empate')"
      ],
      "metadata": {
        "colab": {
          "base_uri": "https://localhost:8080/"
        },
        "id": "O9MJiA-FFXxG",
        "outputId": "4cd84d45-e6d1-48f7-96d8-a6c1e5ee78eb"
      },
      "execution_count": null,
      "outputs": [
        {
          "output_type": "stream",
          "name": "stdout",
          "text": [
            "Digite o nome do time: a\n",
            "Gols marcados pelo a: 2\n",
            "Digite o nome do time: b\n",
            "Gols marcados pelo b: 0\n",
            "a é o vencedor!\n"
          ]
        }
      ]
    },
    {
      "cell_type": "markdown",
      "source": [
        "15. Entrar com a sigla do estado de uma pessoa e imprimir uma das mensagens: “Carioca,\n",
        "Paulista, Mineiro ou Outros”"
      ],
      "metadata": {
        "id": "QoLHj8DHGoNx"
      }
    },
    {
      "cell_type": "code",
      "source": [
        "sigla = str(input('Sigla do estado: '))\n",
        "sigla = sigla.upper()\n",
        "print(sigla)\n",
        "if sigla == 'RJ':\n",
        "  print(f'Carioca')\n",
        "elif sigla == 'SP':\n",
        "  print(f'Paulista')\n",
        "elif sigla == 'MG':\n",
        "  print('Mineiro')\n",
        "else:\n",
        "  print(f'Outros')"
      ],
      "metadata": {
        "colab": {
          "base_uri": "https://localhost:8080/"
        },
        "id": "4PES9ugDGr_c",
        "outputId": "0b8cbeca-c9ef-4f85-9b35-50a882dcdc00"
      },
      "execution_count": null,
      "outputs": [
        {
          "output_type": "stream",
          "name": "stdout",
          "text": [
            "Sigla do estado: rj\n",
            "RJ\n",
            "Carioca\n"
          ]
        }
      ]
    },
    {
      "cell_type": "markdown",
      "source": [
        "16. Um comerciante comprou um produto e quer vendê-lo com um lucro de 45% se o valor\n",
        "da compra for menor que R$ 20,00; Caso contrário, o lucro será de 30%. Entrar com o\n",
        "valor do produto e imprimir o valor da venda."
      ],
      "metadata": {
        "id": "mrz10drDIGBy"
      }
    },
    {
      "cell_type": "code",
      "source": [
        "preco = float(input('Preço do produto: '))\n",
        "if preco < 20:\n",
        "  valor = preco * 1.45\n",
        "else:\n",
        "  valor = preco * 1.30\n",
        "print(f'O valor da compra é R${valor:.2f}')"
      ],
      "metadata": {
        "colab": {
          "base_uri": "https://localhost:8080/"
        },
        "id": "04TbldkeIKNj",
        "outputId": "e4e26bd4-ce88-4922-a5c7-893089f14e94"
      },
      "execution_count": null,
      "outputs": [
        {
          "output_type": "stream",
          "name": "stdout",
          "text": [
            "Preço do produto: 22\n",
            "O valor da compra é R$28.60\n"
          ]
        }
      ]
    },
    {
      "cell_type": "markdown",
      "source": [
        "17. Entrar com um número de 1 a 12 e exibir o mês correspondente."
      ],
      "metadata": {
        "id": "k5sA4L9IKPbx"
      }
    },
    {
      "cell_type": "code",
      "source": [
        "mes = int(input('Digite o número do mês: '))\n",
        "if mes == 1:\n",
        "  print('Janeiro')\n",
        "elif mes == 2:\n",
        "  print('Fevereiro')\n",
        "elif mes == 3:\n",
        "  print('Março')\n",
        "elif mes == 4:\n",
        "  print('Abril')\n",
        "elif mes == 5:\n",
        "  print('Maio')\n",
        "elif mes == 6:\n",
        "  print('Junho')\n",
        "elif mes == 7:\n",
        "  print('Julho')\n",
        "elif mes == 8:\n",
        "  print('Agosto')\n",
        "elif mes == 9:\n",
        "  print('Setembro')\n",
        "elif mes == 10:\n",
        "  print('Outubro')\n",
        "elif mes == 11:\n",
        "  print('Novembro')\n",
        "elif mes == 12:\n",
        "  print('Dezembro')\n",
        "else:\n",
        "  print('Número inválido! \\nTente novamente')"
      ],
      "metadata": {
        "colab": {
          "base_uri": "https://localhost:8080/"
        },
        "id": "5t7PPOUTKTxQ",
        "outputId": "eb5f9005-13ad-49cd-b5fd-f929ec9a2389"
      },
      "execution_count": null,
      "outputs": [
        {
          "output_type": "stream",
          "name": "stdout",
          "text": [
            "Digite o número do mês: 5\n",
            "Maio\n"
          ]
        }
      ]
    },
    {
      "cell_type": "markdown",
      "source": [
        "18. Faça um algoritmo que verifique se uma letra digitada é vogal ou consoante."
      ],
      "metadata": {
        "id": "5Ik7JekzMv2p"
      }
    },
    {
      "cell_type": "code",
      "source": [
        "letra = str(input('Digite uma letra: '))\n",
        "if letra in 'AaEeIiOoUu':\n",
        "  print('Vogal!')\n",
        "else:\n",
        "  print('Consoante!')"
      ],
      "metadata": {
        "colab": {
          "base_uri": "https://localhost:8080/"
        },
        "id": "IAaUx6ett8uw",
        "outputId": "12621a82-12ee-432d-fedd-485299f7b2a5"
      },
      "execution_count": null,
      "outputs": [
        {
          "output_type": "stream",
          "name": "stdout",
          "text": [
            "Digite uma letra: b\n",
            "Consoante!\n"
          ]
        }
      ]
    },
    {
      "cell_type": "markdown",
      "source": [
        "19. Ler 2 valores (considere que não serão lidos valores iguais) e escrever o maior deles."
      ],
      "metadata": {
        "id": "V6cxSIFZNB6S"
      }
    },
    {
      "cell_type": "code",
      "source": [
        "v1 = float(input('Digite um valor: '))\n",
        "v2 = float(input('Digite outro valor: '))\n",
        "while v1 == v2:\n",
        "  print('Os valores não podem ser iguais!')\n",
        "  v2 = float(input('Digite outro valor: '))\n",
        "if v1 > v2:\n",
        "  print(f'{v1} é o maior')\n",
        "else:\n",
        "  print(f'{v2} é o maior')"
      ],
      "metadata": {
        "id": "YhVvRyG7NFgf"
      },
      "execution_count": null,
      "outputs": []
    },
    {
      "cell_type": "markdown",
      "source": [
        "20. Ler 2 valores (considere que não serão lidos valores iguais) e escrevê-los em ordem\n",
        "crescente."
      ],
      "metadata": {
        "id": "m3uTwMCYN5fs"
      }
    },
    {
      "cell_type": "code",
      "source": [
        "v1 = float(input('Digite um valor: '))\n",
        "v2 = float(input('Digite outro valor: '))\n",
        "while v1 == v2:\n",
        "  print('Os valores não podem ser iguais!')\n",
        "  v2 = float(input('Digite outro valor: '))\n",
        "if v1 < v2:\n",
        "  print(f'{v1} {v2}')\n",
        "else:\n",
        "  print(f'{v2}, {v1}')"
      ],
      "metadata": {
        "colab": {
          "base_uri": "https://localhost:8080/"
        },
        "id": "4FitKaa1N9gD",
        "outputId": "d1ed6be7-cb5e-4c9f-fbf6-de58ec48751b"
      },
      "execution_count": null,
      "outputs": [
        {
          "output_type": "stream",
          "name": "stdout",
          "text": [
            "Digite um valor: 1\n",
            "Digite outro valor: 2\n",
            "1.0 2.0\n"
          ]
        }
      ]
    },
    {
      "cell_type": "markdown",
      "source": [
        "21. Ler 3 valores (considere que não serão informados valores iguais) e escrever o maior\n",
        "deles."
      ],
      "metadata": {
        "id": "U9BPHhUwOZPn"
      }
    },
    {
      "cell_type": "code",
      "source": [
        "v1 = float(input('Digite um valor: '))\n",
        "v2 = float(input('Digite outro valor: '))\n",
        "v3 = float(input('Digite mais um valor: '))\n",
        "while v1 == v2:\n",
        "  print(f'Os valores não podem ser iguais')\n",
        "  v2 = float(input('Digite um valor: '))\n",
        "while v1 == v3 or v2 == v3:\n",
        "  print(f'Os valores não podem ser iguais')\n",
        "  v3 = float(input('Digite um valor: '))\n",
        "if v1 > v2 and v1 > v3:\n",
        "  print(v1)\n",
        "elif v2 > v1 and v2 > v3:\n",
        "  print(v2)\n",
        "else:\n",
        "  print(v3)"
      ],
      "metadata": {
        "colab": {
          "base_uri": "https://localhost:8080/"
        },
        "id": "PKuXTvq8OdhV",
        "outputId": "71eda995-fe60-40c2-fd7b-46e5f574d3cf"
      },
      "execution_count": null,
      "outputs": [
        {
          "output_type": "stream",
          "name": "stdout",
          "text": [
            "Digite um valor: 1\n",
            "Digite outro valor: 3\n",
            "Digite mais um valor: 2\n",
            "3.0\n"
          ]
        }
      ]
    },
    {
      "cell_type": "markdown",
      "source": [
        "22. Ler 3 valores (considere que não serão informados valores iguais) e escrever a soma\n",
        "dos 2 maiores."
      ],
      "metadata": {
        "id": "GZBDzgmKQOMj"
      }
    },
    {
      "cell_type": "code",
      "source": [
        "v1 = float(input('Digite um valor: '))\n",
        "v2 = float(input('Digite outro valor: '))\n",
        "v3 = float(input('Digite mais um valor: '))\n",
        "while v1 == v2:\n",
        "  print(f'Os valores não podem ser iguais')\n",
        "  v2 = float(input('Digite um valor: '))\n",
        "while v1 == v3 or v2 == v3:\n",
        "  print(f'Os valores não podem ser iguais')\n",
        "  v3 = float(input('Digite um valor: '))\n",
        "if v1 > v2 and v1 > v3:\n",
        "  if v2 > v3:\n",
        "    s = v1 + v2\n",
        "  else:\n",
        "    s = v1 + v3\n",
        "elif v2 > v1 and v2 > v3:\n",
        "  if v1 > v3:\n",
        "    s = v2 + v1\n",
        "  else:\n",
        "    s = v3 + v2\n",
        "else:\n",
        "  if v1 > v2:\n",
        "    s = v3 + v1\n",
        "  else:\n",
        "    s = v3 + v2\n",
        "print(s)"
      ],
      "metadata": {
        "colab": {
          "base_uri": "https://localhost:8080/"
        },
        "id": "fiWwzFDoQkFb",
        "outputId": "e9103473-39bc-4904-8330-91a21a4e4981"
      },
      "execution_count": null,
      "outputs": [
        {
          "output_type": "stream",
          "name": "stdout",
          "text": [
            "Digite um valor: 30\n",
            "Digite outro valor: 20\n",
            "Digite mais um valor: 10\n",
            "50.0\n"
          ]
        }
      ]
    },
    {
      "cell_type": "markdown",
      "source": [
        "23. Ler 3 valores (considere que não serão informados valores iguais) e escrevê-los em\n",
        "ordem crescente."
      ],
      "metadata": {
        "id": "cnVizAEDUaF2"
      }
    },
    {
      "cell_type": "code",
      "source": [
        "v1 = float(input('Digite um valor: '))\n",
        "v2 = float(input('Digite outro valor: '))\n",
        "v3 = float(input('Digite mais um valor: '))\n",
        "while v1 == v2:\n",
        "  print(f'Os valores não podem ser iguais')\n",
        "  v2 = float(input('Digite um valor: '))\n",
        "while v1 == v3 or v2 == v3:\n",
        "  print(f'Os valores não podem ser iguais')\n",
        "  v3 = float(input('Digite um valor: '))\n",
        "if v1 > v2 and v1 > v3:\n",
        "  if v2 > v3:\n",
        "    print(f'{v3}, {v2}, {v1}')\n",
        "  else:\n",
        "    print(f'{v2}, {v3}, {v1}')\n",
        "elif v2 > v1 and v2 > v3:\n",
        "  if v1 > v3:\n",
        "    print(f'{v3}, {v1}, {v2}')\n",
        "  else:\n",
        "    print(f'{v1}, {v3}, {v2}')\n",
        "else:\n",
        "  if v1 > v2:\n",
        "    print(f'{v2}, {v1}, {v3}')\n",
        "  else:\n",
        "    print(f'{v1}, {v2}, {v3}')"
      ],
      "metadata": {
        "colab": {
          "base_uri": "https://localhost:8080/"
        },
        "id": "P4p4R7HwUgy8",
        "outputId": "586aed30-8b3d-49be-842b-deea7cd42d54"
      },
      "execution_count": null,
      "outputs": [
        {
          "output_type": "stream",
          "name": "stdout",
          "text": [
            "Digite um valor: 2\n",
            "Digite outro valor: 1\n",
            "Digite mais um valor: 3\n",
            "1.0, 2.0, 3.0\n"
          ]
        }
      ]
    },
    {
      "cell_type": "markdown",
      "source": [
        "24. Faça um algoritmo que leia as duas notas parciais obtidas por um aluno numa\n",
        "disciplina ao longo de um semestre, e calcule a sua média. A atribuição de conceitos\n",
        "obedece à tabela abaixo:\n",
        "\n",
        "Média de\n",
        "Aproveitamento Conceito\n",
        "* Entre 9.0 e 10.0 A\n",
        "* Entre 7.5 e 9.0 B\n",
        "* Entre 6.0 e 7.5 C\n",
        "* Entre 4.0 e 6.0 D\n",
        "* Entre 4.0 e zero E\n",
        "\n",
        "O algoritmo deve mostrar na tela as notas, a média, o conceito correspondente e a\n",
        "mensagem “APROVADO” se o conceito for A, B ou C ou “REPROVADO” se o conceito for D\n",
        "ou E."
      ],
      "metadata": {
        "id": "e5ih8re0V7uy"
      }
    },
    {
      "cell_type": "code",
      "source": [
        "nota1 = float(input('Nota 1: '))\n",
        "nota2 = float(input('Nota 2: '))\n",
        "media = (nota1 + nota2) / 2\n",
        "if 10 >= media > 9:\n",
        "  print(f'{nota1}, {nota2}, {media}, A, APROVADO')\n",
        "elif 9 >= media > 7.5:\n",
        "  print(f'{nota1}, {nota2}, {media}, B, APROVADO')\n",
        "elif 7.5 >= media > 6:\n",
        "  print(f'{nota1}, {nota2}, {media}, C, APROVADO')\n",
        "elif 6 >= media > 4:\n",
        "  print(f'{nota1}, {nota2}, {media}, D, REPROVADO')\n",
        "elif 4 >= media > 0:\n",
        "  print(f'{nota1}, {nota2}, {media}, D, REPROVADO')"
      ],
      "metadata": {
        "colab": {
          "base_uri": "https://localhost:8080/"
        },
        "id": "8OO1pp38WFJu",
        "outputId": "8b76fafc-c0c9-45b8-949e-16ba21b73fa4"
      },
      "execution_count": null,
      "outputs": [
        {
          "output_type": "stream",
          "name": "stdout",
          "text": [
            "Nota 1: 3\n",
            "Nota 2: 3\n",
            "3.0, 3.0, 3.0, D, REPROVADO\n"
          ]
        }
      ]
    },
    {
      "cell_type": "markdown",
      "source": [
        "25. Escrever um algoritmo para ler dois valores e uma das seguintes operações a serem\n",
        "executadas (codificadas da seguinte forma: 1 – Adição, 2 – Subtração, 3 – Multiplicação\n",
        "e 4 – Divisão). Calcular e escrever o resultado dessa operação sobre os dois valores\n",
        "lidos."
      ],
      "metadata": {
        "id": "yi0Wx5ZtYdhI"
      }
    },
    {
      "cell_type": "code",
      "source": [
        "v1 = float(input('Digite um valor: '))\n",
        "v2 = float(input('Digite um valor: '))\n",
        "operacao = int(input('Adição[1] \\nSubtração[2] \\nMultiplicação[3] \\nDivisão[4] \\n'))\n",
        "while operacao != 1 and operacao != 2 and operacao != 3 and operacao != 4:\n",
        "   print('Operação inválida')\n",
        "   operacao = int(input('Adição[1] \\nSubtração[2] \\nMultiplicação[3] \\nDivisão[4] \\n'))\n",
        "if operacao == 1:\n",
        "  print(f'{v1} + {v2} = {v1+v2}')\n",
        "elif operacao == 2:\n",
        "  print(f'{v1} - {v2} = {v1-v2}')\n",
        "elif operacao == 3:\n",
        "  print(f'{v1} x {v2} = {v1*v2}')\n",
        "elif operacao == 4:\n",
        "  print(f'{v1} / {v2} = {v1/v2}')"
      ],
      "metadata": {
        "colab": {
          "base_uri": "https://localhost:8080/"
        },
        "id": "UQZCPnFvYiIg",
        "outputId": "7e8385a1-7ec7-40c8-d81f-8cb342fcc856"
      },
      "execution_count": null,
      "outputs": [
        {
          "output_type": "stream",
          "name": "stdout",
          "text": [
            "Digite um valor: 1\n",
            "Digite um valor: 2\n",
            "Adição[1] \n",
            "Subtração[2] \n",
            "Multiplicação[3] \n",
            "Divisão[4] \n",
            "5\n",
            "Operação inválida\n",
            "Adição[1] \n",
            "Subtração[2] \n",
            "Multiplicação[3] \n",
            "Divisão[4] \n",
            "4\n",
            "1.0 / 2.0 = 0.5\n"
          ]
        }
      ]
    },
    {
      "cell_type": "markdown",
      "source": [
        "26. Faça um algoritmo para calcular as raízes reais de uma equação quadrática: ax2 + bx +\n",
        "c = 0. Uma equação quadrática só tem raiz reais se (b2 - 4ac) for maior ou igual a\n",
        "zero. O algoritmo deverá informar as seguintes situações:\n",
        "* • Se o delta calculado for negativo, a equação não possui raízes reais. Informe ao\n",
        "usuário e encerre o programa;\n",
        "* • Se o delta calculado for igual a zero a equação possui apenas uma raiz real,\n",
        "informe-a ao usuário;\n",
        "* • Se o delta for positivo, a equação possui duas raiz reais, informe-as ao usuário."
      ],
      "metadata": {
        "id": "uhFX0Yk3eDSr"
      }
    },
    {
      "cell_type": "code",
      "source": [
        "from math import sqrt\n",
        "a = float(input('Digite a: '))\n",
        "b = float(input('Digite b: '))\n",
        "c = float(input('Digite c: '))\n",
        "delta = b **2 - 4 * a * c \n",
        "if delta < 0:\n",
        "  print('A equação não possui raízes reais.')\n",
        "elif delta == 0:\n",
        "  print(f'A quação possui apenas uma raiz real')\n",
        "  print(-b+(sqrt(delta)))\n",
        "else:\n",
        "  print('A equação possui duas raiz reais')\n",
        "  print(-b+(sqrt(delta)))\n",
        "  print(-b-(sqrt(delta)))"
      ],
      "metadata": {
        "colab": {
          "base_uri": "https://localhost:8080/"
        },
        "id": "Kz-5fwReeL36",
        "outputId": "8a2ab2df-c8a5-49b9-fcce-b3e3e435fd02"
      },
      "execution_count": 6,
      "outputs": [
        {
          "output_type": "stream",
          "name": "stdout",
          "text": [
            "Digite a: 2\n",
            "Digite b: 4\n",
            "Digite c: 1\n",
            "A equação possui duas raiz reais\n",
            "-1.1715728752538097\n",
            "-6.82842712474619\n"
          ]
        }
      ]
    },
    {
      "cell_type": "markdown",
      "source": [
        "27. Faça um algoritmo que leia 3 valores a, b, c, e verifique se podem ser os\n",
        "comprimentos dos lados de um triângulo. Em caso afirmativo, verifique se é “triângulo\n",
        "equilátero”, “triângulo isósceles” ou “triângulo escaleno”. Em caso negativo, escreva\n",
        "uma mensagem: “os valores lidos não formam um triângulo”. Considere que:\n",
        "* • o comprimento de cada lado de um triângulo é menor que a soma dos\n",
        "comprimentos dos outros lados\n",
        "* • um triângulo equilátero tem três lados iguais\n",
        "* • um triângulo isósceles tem dois lados iguais e um diferente\n",
        "* • um triângulo escaleno tem três lados diferentes."
      ],
      "metadata": {
        "id": "W4gRFPVEgwQa"
      }
    },
    {
      "cell_type": "code",
      "source": [
        "a = float(input('Primeiro segmento: '))\n",
        "b = float(input('Segundo segmento: '))\n",
        "c = float(input('Terceiro segmento: '))\n",
        "r1 = a + b \n",
        "r2 = a + c \n",
        "r3 = b + c \n",
        "if r1 > c and r2 > b and r3 > a:\n",
        "    print('Os segmentos acima PODEM FORMAR um triângulo ', end='' ) \n",
        "    if a == b and a == c and b == c:\n",
        "        print('EQUILÁTERO!')\n",
        "    elif a == b or a == c or b == c:\n",
        "        print('ISÓSCELES!')\n",
        "    elif a != b != c:\n",
        "        print('ESCALENO!')\n",
        "else:\n",
        "    print('Os segmentos acima NÃO PODEM FORMAR um triângulo!')\n"
      ],
      "metadata": {
        "colab": {
          "base_uri": "https://localhost:8080/"
        },
        "id": "rF1fIVwgg6-E",
        "outputId": "0e009159-b63c-478f-f013-8c3e94fcd61d"
      },
      "execution_count": 8,
      "outputs": [
        {
          "output_type": "stream",
          "name": "stdout",
          "text": [
            "Primeiro segmento: 2\n",
            "Segundo segmento: 2\n",
            "Terceiro segmento: 2\n",
            "Os segmentos acima PODEM FORMAR um triângulo EQUILÁTERO!\n"
          ]
        }
      ]
    },
    {
      "cell_type": "markdown",
      "source": [
        "28. Escreva um algoritmo que leia 4 valores (opção, a, b, c), onde opção é um valor\n",
        "inteiro e positivo e a, b, c são quaisquer valores reais. Escreva os valores lidos da\n",
        "seguinte maneira:\n",
        "* se opção = 1 Þ escreva os 3 valores a, b, c em ordem crescente\n",
        "* se opção = 2 Þ escreva os 3 valores a, b, c em ordem decrescente\n",
        "* se opção = 3 Þ escreva os 3 valores de forma que o maior valor entre a, b, c fica\n",
        "entre os outros 2."
      ],
      "metadata": {
        "id": "sAR11rvbikTx"
      }
    },
    {
      "cell_type": "code",
      "source": [
        "valores = list()\n",
        "opcao3 = list()\n",
        "opcao = int(input('Escolha um dos seguintes valores: (1, 2, 3) '))\n",
        "a = float(input('Dgite um valor: '))\n",
        "b = float(input('Dgite um valor: '))\n",
        "c = float(input('Dgite um valor: '))\n",
        "valores.append(a)\n",
        "valores.append(b)\n",
        "valores.append(c)\n",
        "if opcao == 1:\n",
        "  valores.sort()\n",
        "  print(valores)\n",
        "elif opcao == 2:\n",
        "  valores.sort(reverse=True)\n",
        "  print(valores)\n",
        "elif opcao == 3:\n",
        "  opcao3.append(min(valores))\n",
        "  valores.remove(min(valores))\n",
        "  opcao3.append(max(valores))\n",
        "  valores.remove(max(valores))\n",
        "  opcao3.append(valores[0])\n",
        "  print(opcao3)"
      ],
      "metadata": {
        "colab": {
          "base_uri": "https://localhost:8080/"
        },
        "id": "6k2uMo1Ritiy",
        "outputId": "b613e2f2-7b64-4fa0-d701-a9a31912adce"
      },
      "execution_count": 16,
      "outputs": [
        {
          "output_type": "stream",
          "name": "stdout",
          "text": [
            "Escolha um dos seguintes valores: (1, 2, 3) 3\n",
            "Dgite um valor: 1\n",
            "Dgite um valor: 2\n",
            "Dgite um valor: 3\n",
            "[1.0, 3.0, 2.0]\n"
          ]
        }
      ]
    },
    {
      "cell_type": "markdown",
      "source": [
        "29. Uma empresa decidiu conceder um aumento de salário a seus funcionários de acordo\n",
        "com a tabela:\n",
        "\n",
        "em R$ Índice de\n",
        "Aumento\n",
        "salário \n",
        "*  £ 400.00 15%\n",
        "* 400.00 < salário £ 700.00 12%\n",
        "* 700.00 < salário £ 1000.00 10%\n",
        "* 1000.00 < salário £ 1500.00 7%\n",
        "* 1500.00 < salário £ 2000.00 4%\n",
        "* salário > 2000.00 sem aumento\n",
        "\n",
        "Faça um algoritmo que leia o salário atual de um funcionário e escreva o índice de\n",
        "aumento e o valor do salário corrigido."
      ],
      "metadata": {
        "id": "pCAnQ9_elaDD"
      }
    },
    {
      "cell_type": "code",
      "source": [
        "salario = float(input('Digite o salário: R$'))\n",
        "if salario <= 400:\n",
        "  print(f'R${salario*1.15:.2f}')\n",
        "elif salario > 400 and salario <= 700:\n",
        "  print(f'R${salario*1.12:.2f}')\n",
        "elif salario > 700 and salario <= 1000:\n",
        "  print(f'R${salario*1.1:.2f}')\n",
        "elif salario > 1000 and salario <= 1500:\n",
        "  print(f'R${salario*1.07:.2f}')\n",
        "elif salario > 1500 and salario <= 2000:\n",
        "  print(f'R${salario*1.04:.2f}')\n",
        "elif salario > 2000:\n",
        "  print('Sem aumento')"
      ],
      "metadata": {
        "colab": {
          "base_uri": "https://localhost:8080/"
        },
        "id": "q4ShM4uxllbj",
        "outputId": "5783b50c-0b6a-4f2a-afb4-602dacdf803e"
      },
      "execution_count": 33,
      "outputs": [
        {
          "output_type": "stream",
          "name": "stdout",
          "text": [
            "Digite o salário: R$2001\n",
            "Sem aumento\n"
          ]
        }
      ]
    },
    {
      "cell_type": "markdown",
      "source": [
        "30. Faça um algoritmo para calcular o reajuste salarial de um funcionário, de acordo com\n",
        "os critérios abaixo:\n",
        "* • se salário é inferior a R$ 10.000,00 deve ter um reajuste de 55%\n",
        "* • se salário está entre R$ 10.000,00 (inclusive) e R$ 25.000,00 (inclusive) deve ter\n",
        "um reajuste de 20%\n",
        "* • se salário é superior a R$ 25.000,00 deve ter um reajuste de 20%."
      ],
      "metadata": {
        "id": "UEqw_bjbp9SZ"
      }
    },
    {
      "cell_type": "code",
      "source": [
        "salario = float(input('Digite o salário: '))\n",
        "if salario < 10000: \n",
        "  print(f'R${salario*1.55:.2f}')\n",
        "elif salario >= 10000 and salario <= 25000:\n",
        "  print(f'R${salario*1.20:.2f}')\n",
        "elif salario > 25000:\n",
        "  print(f'R${salario*1.20:.2f}')"
      ],
      "metadata": {
        "colab": {
          "base_uri": "https://localhost:8080/"
        },
        "id": "6xyCoJ7HqEUS",
        "outputId": "00d221a2-f63d-40f5-e552-188d0e69ecf3"
      },
      "execution_count": 35,
      "outputs": [
        {
          "output_type": "stream",
          "name": "stdout",
          "text": [
            "Digite o salário: 26000\n",
            "R$31200.00\n"
          ]
        }
      ]
    },
    {
      "cell_type": "markdown",
      "source": [
        "31. Faça um algoritmo para controle de temperatura de um forno que derrete alumínio. O\n",
        "programa deverá perguntar qual a temperatura que o alumínio deverá ser trabalhado e\n",
        "operar nas seguintes condições:\n",
        "* • Se temperatura for inferior ou igual 500°C enviar uma mensagem para tela\n",
        "\"Temperatura Inválida\";\n",
        "* • Se temperatura for menor do que 700°C enviar uma mensagem para tela\n",
        "\"Aquecimento Ligado em 100%\";\n",
        "* • Se temperatura for menor do que 735°C enviar uma mensagem para tela\n",
        "\"Aquecimento Ligado em 50%\";\n",
        "* • Se temperatura for maior ou igual 735°C enviar uma mensagem para tela\n",
        "\"Aquecimento Desligado\";\n",
        "* • Se temperatura for maior do que 780°C enviar uma mensagem para tela\n",
        "\"Superaquecimento\";\n",
        "Os valores digitados devem ser inteiros e inferiores a 1000."
      ],
      "metadata": {
        "id": "pZExC91mrqC3"
      }
    },
    {
      "cell_type": "code",
      "source": [
        "temp = int(input('Digite a temperatura do forno: '))\n",
        "if temp <= 500:\n",
        "  print('Temperatura inválida!')\n",
        "elif temp < 700:\n",
        "  print('Aquecimento ligado em 100%')\n",
        "elif temp < 735:\n",
        "  print('Aqueimento Ligado em 50%')\n",
        "elif temp >= 735:\n",
        "  print('Aquecimento desligado')\n",
        "elif temp > 780:\n",
        "  print('Superaquecimento')\n",
        "elif temp > 1000:\n",
        "  print('Valor inválido')"
      ],
      "metadata": {
        "colab": {
          "base_uri": "https://localhost:8080/"
        },
        "id": "N1vIS-6Wr5cb",
        "outputId": "9eb5c6fa-be49-4799-fd09-4a66ad241d0b"
      },
      "execution_count": 36,
      "outputs": [
        {
          "output_type": "stream",
          "name": "stdout",
          "text": [
            "Digite a temperatura do forno: 735\n",
            "Aquecimento desligado\n"
          ]
        }
      ]
    },
    {
      "cell_type": "markdown",
      "source": [
        "32. Faça um algoritmo que permita a entrada de um valor de 1 a 4. Em seguida, leia dois\n",
        "valores. Calcular e imprimir:\n",
        "* • Se valor digitado for 0, calcular e exibir a soma dos números\n",
        "* • Se valor digitado for 1, calcular e exibir a subtração dos números\n",
        "* • Se valor digitado for 2, calcular e exibir a multiplicação dos números\n",
        "* • Se valor digitado for 3, calcular e exibir a divisão dos números\n",
        "* • Se valor digitado for 4, calcular e exibir a média dos números\n",
        "* • Diferente de 1,2,3 ou 4, exibir a mensagem “Valor errado. Programa encerrado sem\n",
        "cálculos”"
      ],
      "metadata": {
        "id": "VsfPSdEdta13"
      }
    },
    {
      "cell_type": "code",
      "source": [
        "opc = int(input('Digite um número de 1 a 4: '))\n",
        "n1 = int(input('Digite um número: '))\n",
        "n2 = int(input('Digite um número: '))\n",
        "if opc == 0:\n",
        "  print(n1+n2)\n",
        "elif opc == 1:\n",
        "  print(n1-n2)\n",
        "elif opc == 2:\n",
        "  print(n1*n2)\n",
        "elif opc == 3:\n",
        "  print(n1/n2)\n",
        "elif opc == 4:\n",
        "  print((n1+n2)/2)\n",
        "else:\n",
        "  print('Valor errado. Programa encerrado sem cálculos')"
      ],
      "metadata": {
        "colab": {
          "base_uri": "https://localhost:8080/"
        },
        "id": "IvLcD8Kuti7Z",
        "outputId": "ea7034a5-1490-4c2b-b498-7deb38d1ae16"
      },
      "execution_count": 39,
      "outputs": [
        {
          "output_type": "stream",
          "name": "stdout",
          "text": [
            "Digite um número de 1 a 4: 5\n",
            "Digite um número: 1\n",
            "Digite um número: 2\n",
            "Valor errado. Programa encerrado sem cálculos\n"
          ]
        }
      ]
    },
    {
      "cell_type": "markdown",
      "source": [
        "33. Escrever um algoritmo que leia valores inteiros em duas variáveis distintas e se o resto\n",
        "da divisão da primeira pela segunda for 1 mostre a soma dessas variáveis mais o resto\n",
        "da divisão; se for 2 escreva se o primeiro e o segundo valor são pares ou ímpares; se\n",
        "for igual a 3 multiplique a soma dos valores lidos pelo primeiro; se for igual a 4 divida\n",
        "a soma dos números lidos pelo segundo, se este for diferente de zero. Em qualquer\n",
        "outra situação mostre o quadrado dos números lidos."
      ],
      "metadata": {
        "id": "MmVMlLYSv9yT"
      }
    },
    {
      "cell_type": "code",
      "source": [
        "v1 = int(input('Digite um valor: '))\n",
        "v2 = int(input('Digite um valor: '))\n",
        "if v1 % v2 == 1:\n",
        "  print(v1 + v2 + 1)\n",
        "elif v1 % v2 == 2:\n",
        "  if v1 % 2 == 0:\n",
        "    print(f'{v1} é par')\n",
        "  else:\n",
        "    print(f'{v1} é ímpar')\n",
        "  if v2 % 2 == 0:\n",
        "    print(f'{v2} é par')\n",
        "  else:\n",
        "    print(f'{v2} é ímpar')\n",
        "elif v1 % v2 == 3:\n",
        "  print((v1 + v2)*v1)\n",
        "elif v1 % v2 == 4:\n",
        "  if v2 != 0:\n",
        "    print((v1+v2)/v2)\n",
        "else:\n",
        "  print(f'{v1**2}, {v2**2}')"
      ],
      "metadata": {
        "colab": {
          "base_uri": "https://localhost:8080/"
        },
        "id": "tx4JU4cvwAtr",
        "outputId": "31d70bda-fb2a-464d-f45f-4a9e9d907a4d"
      },
      "execution_count": 44,
      "outputs": [
        {
          "output_type": "stream",
          "name": "stdout",
          "text": [
            "Digite um valor: 12\n",
            "Digite um valor: 8\n",
            "2.5\n"
          ]
        }
      ]
    },
    {
      "cell_type": "markdown",
      "source": [
        "34. Escreva um algoritmo que leia as idades de 2 homens e 2 mulheres (considere que as\n",
        "idades dos homens serão sempre diferentes, bem como as das mulheres). Calcule e\n",
        "escreva a soma das idades do homem mais velho com a mulher mais nova, e o\n",
        "produto das idades do homem mais novo com a mulher mais velha."
      ],
      "metadata": {
        "id": "WKmS-i0cyRaX"
      }
    },
    {
      "cell_type": "code",
      "source": [
        "idadesm = list()\n",
        "idadesh = list()\n",
        "im1 = (int(input('Digite a idade da primeira mulher: ')))\n",
        "im2 = (int(input('Digite a idade da segunda mulher: ')))\n",
        "ih1 = (int(input('Digite a idade do primeiro homem: ')))\n",
        "ih2 = (int(input('Digite a idade do segundo homem: ')))\n",
        "idadesm.append(im1)\n",
        "idadesm.append(im2)\n",
        "idadesh.append(ih1)\n",
        "idadesh.append(ih2)\n",
        "idadesm.remove(min(idadesm))\n",
        "idadesh.remove(max(idadesh))\n",
        "print(idadesm[0] + idadesh[0])"
      ],
      "metadata": {
        "colab": {
          "base_uri": "https://localhost:8080/"
        },
        "id": "koehFY7VyT-H",
        "outputId": "3e5fc156-31cc-4730-a8e4-85d10603ac63"
      },
      "execution_count": 49,
      "outputs": [
        {
          "output_type": "stream",
          "name": "stdout",
          "text": [
            "Digite a idade da primeira mulher: 1\n",
            "Digite a idade da segunda mulher: 2\n",
            "Digite a idade do primeiro homem: 1\n",
            "Digite a idade do segundo homem: 2\n",
            "3\n"
          ]
        }
      ]
    },
    {
      "cell_type": "markdown",
      "source": [
        "35. Existem números de 4 dígitos (entre 1000 e 9999) que obedecem à seguinte\n",
        "característica: se dividirmos o número em dois números de dois dígitos, um composto\n",
        "pela dezena e pela unidade, e outro pelo milhar e pela centena, e, ao somarmos estes\n",
        "dois novos números gerando um terceiro, o quadrado deste terceiro número é\n",
        "exatamente o número original de quatro dígitos. Por exemplo:\n",
        "2025 -> dividindo: 20 e 25 -> somando temos 45 -> 452 = 2025.\n",
        "Escreva um programa para ler um número e verificar se ele obedece a esta\n",
        "característica."
      ],
      "metadata": {
        "id": "huZbv1yvyaPQ"
      }
    },
    {
      "cell_type": "code",
      "source": [
        "numero = list()\n",
        "num = str(input('Digite um número de 4 dígitos: '))\n",
        "for n in num:\n",
        "  numero.append(n)\n",
        "n1 = numero[0]+numero[1]\n",
        "n1 = int(n1)\n",
        "n2 = numero[2]+numero[3]\n",
        "n2 = int(n2)\n",
        "num = int(num)\n",
        "if (n1 + n2)**2 == num:\n",
        "  print(f'{num} obedece a regra')\n",
        "else:\n",
        "  print(f'{num} NÃO obedece a regra')"
      ],
      "metadata": {
        "colab": {
          "base_uri": "https://localhost:8080/"
        },
        "id": "BAAQaeC_yd8v",
        "outputId": "e3d235b3-74e2-4187-d33d-4cdca1237af5"
      },
      "execution_count": 51,
      "outputs": [
        {
          "output_type": "stream",
          "name": "stdout",
          "text": [
            "Digite um número de 4 dígitos: 1000\n",
            "1000 NÃO obedece a regra\n"
          ]
        }
      ]
    }
  ]
}