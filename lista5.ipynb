{
  "nbformat": 4,
  "nbformat_minor": 0,
  "metadata": {
    "colab": {
      "provenance": [],
      "include_colab_link": true
    },
    "kernelspec": {
      "name": "python3",
      "display_name": "Python 3"
    },
    "language_info": {
      "name": "python"
    }
  },
  "cells": [
    {
      "cell_type": "markdown",
      "metadata": {
        "id": "view-in-github",
        "colab_type": "text"
      },
      "source": [
        "<a href=\"https://colab.research.google.com/github/mariaeduardanichelle/alg.-e-prog./blob/main/lista5.ipynb\" target=\"_parent\"><img src=\"https://colab.research.google.com/assets/colab-badge.svg\" alt=\"Open In Colab\"/></a>"
      ]
    },
    {
      "cell_type": "code",
      "execution_count": null,
      "metadata": {
        "id": "8BWNHNDKM_bR"
      },
      "outputs": [],
      "source": [
        "def fahrenheit_para_celsius(fahrenheit):\n",
        "   celsius =  round(((fahrenheit-32)/1.8), 2)\n",
        "   return f\"{celsius}°C\"\n",
        "\n",
        "\n",
        "temp = fahrenheit_para_celsius(float(input('Digite a temperatura em Fahreheit: ')))\n",
        "print(temp)"
      ]
    },
    {
      "cell_type": "code",
      "source": [
        "def hipotenusa(cat1, cat2):\n",
        "  hipo = (cat1**2 + cat2**2)**(1/2)\n",
        "  return hipo\n",
        "\n",
        "\n",
        "hipo = hipotenusa(float(input('Digite o primeiro cateto: ')), float(input('Digite o segundo cateto: ')))\n",
        "print(hipo)"
      ],
      "metadata": {
        "id": "iUft525m-6b8"
      },
      "execution_count": null,
      "outputs": []
    },
    {
      "cell_type": "code",
      "source": [
        "def semestre(ava1, ava2):\n",
        "  media = (ava1 + ava2)/2\n",
        "  if media <6:\n",
        "    print(f'A sua média foi {media}')\n",
        "    print('Você reprovou 😭')\n",
        "  else:\n",
        "    print(f'A sua média foi {media}')\n",
        "    print('Você passou🥳')\n",
        "\n",
        "semestre(float(input('Digite a nota da primeira avaliação: ')), float(input('Digite a nota da segunda avaliação: ')))"
      ],
      "metadata": {
        "id": "RCKaM0zDBeei"
      },
      "execution_count": null,
      "outputs": []
    },
    {
      "cell_type": "code",
      "source": [
        "def peso_ideal(s, h):\n",
        "  if s == 1:\n",
        "    w = (62.1*h)-44.7\n",
        "  elif s == 2:\n",
        "    w = (72.7*h)-58\n",
        "  else:\n",
        "    raise ValueError('O sexo informado não é válido!')\n",
        "  return f'{w}kg'\n",
        "\n",
        "\n",
        "sexo = int(input('Selecione o sexo: \\n[1] Feminino \\n[2] Masculino \\nSua opção: '))\n",
        "altura = float(input('Digite a altura em metros: '))\n",
        "print(f'O seu peso ideal é: {peso_ideal(sexo, altura)}')"
      ],
      "metadata": {
        "id": "p50pciwwF9az"
      },
      "execution_count": null,
      "outputs": []
    },
    {
      "cell_type": "code",
      "source": [
        "def poligono(lado, medida):\n",
        "  match lado:\n",
        "    case 3:\n",
        "      return f'Triângulo com perímetro igual a {medida * 3}cm'\n",
        "    case 4:\n",
        "      return f'Quadrado com área igual a {medida*medida}cm'\n",
        "    case 5:\n",
        "      return f'Pentágono'\n",
        "    case _:\n",
        "      return 'Os valores digitados são inválidos!'\n",
        "\n",
        "\n",
        "quant_lados = int(input('Digite a quantidade de lados: '))\n",
        "medida_lados = float(input('Digite a medida dos lados: '))\n",
        "print(poligono(quant_lados, medida_lados))"
      ],
      "metadata": {
        "id": "sxbH8KgBZ5kC"
      },
      "execution_count": null,
      "outputs": []
    },
    {
      "cell_type": "code",
      "source": [
        "def soma_intervalo(n1, n2):\n",
        "  soma = 0\n",
        "  for n in range(n1, n2+1):\n",
        "    soma += n\n",
        "  return soma\n",
        "\n",
        "\n",
        "num1 = int(input('Digite um número: '))\n",
        "num2 = int(input('Digite um número: '))\n",
        "print(soma_intervalo(num1,num2))"
      ],
      "metadata": {
        "id": "szyp50dfn6Xp"
      },
      "execution_count": null,
      "outputs": []
    },
    {
      "cell_type": "code",
      "source": [
        "def meses(num):\n",
        "  match num:\n",
        "    case 1:\n",
        "      return 'Janeiro'\n",
        "    case 2:\n",
        "      return 'Fevereiro'\n",
        "    case 3:\n",
        "      return 'Março'\n",
        "    case 4:\n",
        "      return 'Abril'\n",
        "    case 5:\n",
        "      return 'Maio'\n",
        "    case 6:\n",
        "      return 'Junho'\n",
        "    case 7:\n",
        "      return 'Julho'\n",
        "    case 8:\n",
        "      return 'Agosto'\n",
        "    case 9:\n",
        "      return 'Setembro'\n",
        "    case 10:\n",
        "      return 'Outubro'\n",
        "    case 11:\n",
        "      return 'Novembro'\n",
        "    case 12:\n",
        "      return 'Dezembro'\n",
        "    case _:\n",
        "      raise ValueError('O número informado não corresponde a nenhum mês!')\n",
        "\n",
        "\n",
        "mes = int(input('Digite o número do mês: '))\n",
        "print(meses(mes))"
      ],
      "metadata": {
        "id": "TZxAbcux4TCO"
      },
      "execution_count": null,
      "outputs": []
    },
    {
      "cell_type": "code",
      "source": [
        "def dias_da_semana(num):\n",
        "  match num:\n",
        "    case 1:\n",
        "      return 'DOM'\n",
        "    case 2:\n",
        "      return 'SEG'\n",
        "    case 3:\n",
        "      return 'TER'\n",
        "    case 4:\n",
        "      return 'QUA'\n",
        "    case 5:\n",
        "      return 'QUI'\n",
        "    case 6:\n",
        "      return 'SEX'\n",
        "    case 7:\n",
        "      return 'SAB'\n",
        "    case _:\n",
        "      raise ValueError('O número informado não corresponde a nenhum dia da semana!')\n",
        "\n",
        "\n",
        "dia = int(input('Digite o número do dia da semana: '))\n",
        "print(dias_da_semana(dia))"
      ],
      "metadata": {
        "id": "KPV3Y34s6DuK"
      },
      "execution_count": null,
      "outputs": []
    },
    {
      "cell_type": "code",
      "source": [
        "def divisibilidade(x, y):\n",
        "  if x % y == 0:\n",
        "    return 1\n",
        "  else:\n",
        "    return 0\n",
        "\n",
        "\n",
        "num1 = int(input('Digite um número: '))\n",
        "num2 = int(input('Digite um número: '))\n",
        "print(divisibilidade(num1,num2))"
      ],
      "metadata": {
        "id": "TdA78qJl6snQ"
      },
      "execution_count": null,
      "outputs": []
    },
    {
      "cell_type": "code",
      "source": [
        "def maior(n1, n2):\n",
        "  if n1 > n2:\n",
        "    return n1\n",
        "  elif n2 > n1:\n",
        "    return n2\n",
        "  else:\n",
        "    return None\n",
        "\n",
        "\n",
        "num1 = int(input('Digite um número: '))\n",
        "num2 = int(input('Digite um número: '))\n",
        "print(maior(num1, num2))"
      ],
      "metadata": {
        "id": "VFh_l7jg7kl5"
      },
      "execution_count": null,
      "outputs": []
    },
    {
      "cell_type": "code",
      "source": [
        "def pol_para_cm(pol):\n",
        "  cm = pol * 2.54\n",
        "  return f'{cm}cm'\n",
        "\n",
        "\n",
        "polegadas = float(input('Insira o valor a ser convertido: '))\n",
        "print(pol_para_cm(polegadas))"
      ],
      "metadata": {
        "id": "e6iM96kz8JXh"
      },
      "execution_count": null,
      "outputs": []
    }
  ]
}