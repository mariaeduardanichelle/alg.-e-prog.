{
  "nbformat": 4,
  "nbformat_minor": 0,
  "metadata": {
    "colab": {
      "provenance": []
    },
    "kernelspec": {
      "name": "python3",
      "display_name": "Python 3"
    },
    "language_info": {
      "name": "python"
    }
  },
  "cells": [
    {
      "cell_type": "markdown",
      "source": [
        "1) Elabore um processo lógico (i.e. algoritmo) para mudar um pneu furado de um carro\n",
        "qualquer. Admita que estejam disponíveis um macaco e outro pneu em boas\n",
        "condições.\n",
        "* abre o porta malas\n",
        "* tirar o estepe, macaco e a chave cruz\n",
        "* afrouxar parafusos da roda\n",
        "* erguer o carro com o macaco\n",
        "* tirar o parafuso do pneu furado com a chave cruz\n",
        "* retirar o pneu\n",
        "* colocar o estepe\n",
        "* encaixar parafusos\n",
        "* descer o carro\n",
        "* apertar os parafusos com a chave cruz\n",
        "* guardar macaco, chave cruz e o pneu furado\n"
      ],
      "metadata": {
        "id": "iol0R-UhLbEb"
      }
    },
    {
      "cell_type": "markdown",
      "source": [
        "2) Elabore um processo lógico (i.e. algoritmo) para fazer pipoca numa panela de fogão,\n",
        "usando manteiga, sal e milho de pipoca.\n",
        "* pegar panela\n",
        "* ligar o fogão\n",
        "* derreter a manteiga na panela\n",
        "* colocar o milho \n",
        "* fechar a panela \n",
        "* esperar até que demore 3 segundo entre o estourar de um milho e outro\n",
        "* desligar o fogão\n",
        "* colocar a pipoca estourada em uma tigela\n",
        "* salgar a pipoca"
      ],
      "metadata": {
        "id": "wzfEK1OELvlq"
      }
    },
    {
      "cell_type": "markdown",
      "source": [
        "3) Elabore um processo lógico (i.e. algoritmo) que represente sua saída de casa pela\n",
        "manhã. Comece com o passo “dormindo na cama” e inclua todas as atividades\n",
        "matutinas normais.\n",
        "* dormindo na cama\n",
        "* despertador toca\n",
        "* acordar\n",
        "* levantar da cama\n",
        "* tomar café da manhã\n",
        "* escovar os dentes\n",
        "* trocar de roupa\n",
        "* esperar o transporte "
      ],
      "metadata": {
        "id": "TmBio5rmMhOu"
      }
    },
    {
      "cell_type": "markdown",
      "source": [
        "4) Determine qual é o tipo primitivo de informação sublinhada presente nas sentenças\n",
        "abaixo:\n",
        "* a) A placa “Pare” tinha 2 furos de bala. str int\n",
        "* b) José subiu 5 degraus para pegar 1 maçã boa. int\n",
        "* c) Albertina levou 3 1⁄2 horas para chegar ao hospital onde concebeu 1 garota. float int\n",
        "* d) Astrogilda pintou em sua camiseta: “Preserve o meio ambiente”, e ficou devendo R$ 100.50 ao vendedor de tintas. str float\n",
        "* e) João recebeu sua 18o medalha por ter alcançado a marca de 57.3 segundos nos\n",
        "100 metros rasos. int float int"
      ],
      "metadata": {
        "id": "HnJIu5bMNInw"
      }
    },
    {
      "cell_type": "markdown",
      "source": [
        "5) Assinale os identificadores (nomes de variáveis) válidos e indique quais e o porquê\n",
        "dos identificadores (nomes de variáveis) inválidos:\n",
        "\n",
        "* (v) valor \n",
        "* (i) nome da empresa, inválido, pois tem espaços\n",
        "* (v) x2 \n",
        "* (i) ah!, inválido, pois possui um ponto de exclamação \n",
        "* (i) 3x4, inválido, pois o nome de uma variável não pode começar com número\n",
        "* (v) B248\n",
        "* (v) xyz \n",
        "* (v) A1B2C3\n",
        "* (i) “nota\", inválido, pois o nome de uma variável não pode conter parenteses \n",
        "* (i) km/h, inválido, pois o nome de uma variável não pode conter barra e nem iniciar com letra maiúscula\n",
        "* (i) salário-líquido, inválido, pois uma variável não pode conter '-'\n",
        "* (v) sala215\n",
        "* (i) nota*do*aluno, inválido, pois uma variável não pode conter '*'\n",
        "* (i) M{a}, inválido, pois uma variável não pode conter '{}'\n",
        "* (v) maria"
      ],
      "metadata": {
        "id": "6wSEjhvmOQaK"
      }
    },
    {
      "cell_type": "markdown",
      "source": [
        "6) Faça um programa que leia dois números e mostre o produto desses números."
      ],
      "metadata": {
        "id": "8jZeFqssQQcC"
      }
    },
    {
      "cell_type": "code",
      "source": [
        "num1 = int(input('Digite um valor: '))\n",
        "num2 = int(input('Digite um valor: '))\n",
        "mu = num1 * num2\n",
        "print(f'O produto de {num1} x {num2} é {mu}')"
      ],
      "metadata": {
        "id": "HPRgQuFeQTk4",
        "colab": {
          "base_uri": "https://localhost:8080/"
        },
        "outputId": "c7389983-f2c8-4af6-8d29-c78518f6d8e9"
      },
      "execution_count": null,
      "outputs": [
        {
          "output_type": "stream",
          "name": "stdout",
          "text": [
            "Digite um valor: 4\n",
            "Digite um valor: 9\n",
            "O produto de 4 x 9 é 36\n"
          ]
        }
      ]
    },
    {
      "cell_type": "markdown",
      "source": [
        "7) Faça um algoritmo que leia uma temperatura em graus Fahrenheit e converta e\n",
        "mostre em graus Centígrados.\n",
        "FÓRMULA: Centigrados = (Fahrenheit – 32) * 5 / 9"
      ],
      "metadata": {
        "id": "pBczUz2xQ52R"
      }
    },
    {
      "cell_type": "code",
      "source": [
        "fah = float(input('Digite a temperatura em Fahrenheit: '))\n",
        "cent = (fah - 32) * 5 / 9\n",
        "print(f'{fah}°F equivale a {cent:.2f}°C')"
      ],
      "metadata": {
        "id": "bYcm25WEQ9j5",
        "colab": {
          "base_uri": "https://localhost:8080/"
        },
        "outputId": "0141f9f4-817c-487c-dc2c-e319e45e3959"
      },
      "execution_count": null,
      "outputs": [
        {
          "output_type": "stream",
          "name": "stdout",
          "text": [
            "Digite a temperatura em Fahrenheit: 100\n",
            "100.0°F equivale a 37.78°C\n"
          ]
        }
      ]
    },
    {
      "cell_type": "markdown",
      "source": [
        "8) Faça um algoritmo que leia uma certa quantidade de chuva em polegadas e escreva\n",
        "o equivalente em milímetros.\n",
        "FÓRMULA: 25.4 mm = 1 polegada"
      ],
      "metadata": {
        "id": "9ME2CYkVRuXc"
      }
    },
    {
      "cell_type": "code",
      "source": [
        "chu = float(input('Digite a quantidade de chuva em polegadas: '))\n",
        "mil = chu * 25.4\n",
        "print(f'A quantidade de chuva foi de {mil}mm')"
      ],
      "metadata": {
        "id": "eMMvY8ReRxch",
        "colab": {
          "base_uri": "https://localhost:8080/"
        },
        "outputId": "6e3f0287-d420-4e17-9c8a-22de8d4c36fb"
      },
      "execution_count": null,
      "outputs": [
        {
          "output_type": "stream",
          "name": "stdout",
          "text": [
            "Digite a quantidade de chuva em polegadas: 45\n",
            "A quantidade de chuva foi de 1143.0mm\n"
          ]
        }
      ]
    },
    {
      "cell_type": "markdown",
      "source": [
        "9) Faça um algoritmo que calcule o volume de uma lata de óleo. Escreva o resultado.\n",
        "FÓRMULA: volume = p * raio2 * altura"
      ],
      "metadata": {
        "id": "s10xf-ogSg_K"
      }
    },
    {
      "cell_type": "code",
      "source": [
        "import math\n",
        "raio = float(input('Digite o raio da lata de óleo: '))\n",
        "altu = float(input('Digite a altura da lata de óleo: '))\n",
        "volu = math.pi * (raio ** 2) * altu\n",
        "print(volu)"
      ],
      "metadata": {
        "id": "X8t4KysoSo6q",
        "colab": {
          "base_uri": "https://localhost:8080/"
        },
        "outputId": "daa6ccc6-efbf-4654-e7a5-0b092391ea44"
      },
      "execution_count": null,
      "outputs": [
        {
          "output_type": "stream",
          "name": "stdout",
          "text": [
            "Digite o raio da lata de óleo: 5\n",
            "Digite a altura da lata de óleo: 10\n",
            "785.3981633974483\n"
          ]
        }
      ]
    },
    {
      "cell_type": "markdown",
      "source": [
        "10) Faça um algoritmo que leia as 3 notas de um aluno e calcule e escreva a média final\n",
        "deste aluno. Considerar que a média é ponderada e que o peso das notas é: 2,3 e 5,\n",
        "respectivamente."
      ],
      "metadata": {
        "id": "LBRP2lcqTp3T"
      }
    },
    {
      "cell_type": "code",
      "source": [
        "n1 = float(input('Digite a nota: '))\n",
        "n2 = float(input('Digite a nota: '))\n",
        "n3 = float(input('Digite a nota: '))\n",
        "media = (n1 * 0.2) + (n2 * 0.3) + (n3 * 0.5)\n",
        "print(f'A média do aluno foi de {media}')"
      ],
      "metadata": {
        "id": "n-vIt4DKTwOW",
        "colab": {
          "base_uri": "https://localhost:8080/"
        },
        "outputId": "9c11aa4b-4bb1-4077-d9a9-fe20f2a005fd"
      },
      "execution_count": null,
      "outputs": [
        {
          "output_type": "stream",
          "name": "stdout",
          "text": [
            "Digite a nota: 6\n",
            "Digite a nota: 8\n",
            "Digite a nota: 9\n",
            "A média do aluno foi de 8.1\n"
          ]
        }
      ]
    },
    {
      "cell_type": "markdown",
      "source": [
        "11) Faça um algoritmo que leia as coordenadas de dois pontos, P1 (x1, y1) e P2 (x2, y2)\n",
        "respectivamente, e calcule e escreva a distância entre eles."
      ],
      "metadata": {
        "id": "82xNDaLZVHFy"
      }
    },
    {
      "cell_type": "code",
      "source": [
        "import math\n",
        "x1 = float(input('Digite x1: '))\n",
        "y1 = float(input('Digite y1: '))\n",
        "x2 = float(input('Digite x2: '))\n",
        "y2 = float(input('Digite y2: '))\n",
        "d = math.sqrt(((x2-x1)**2)+ ((y2-y1)**2))\n",
        "print(f'A distância entre os pontos é {d}')"
      ],
      "metadata": {
        "id": "vBrMa0vGVS9y",
        "colab": {
          "base_uri": "https://localhost:8080/"
        },
        "outputId": "264ef612-b467-413f-e155-7d483a810621"
      },
      "execution_count": null,
      "outputs": [
        {
          "output_type": "stream",
          "name": "stdout",
          "text": [
            "Digite x1: 1\n",
            "Digite y1: 2\n",
            "Digite x2: 3\n",
            "Digite y2: 4\n",
            "A distância entre os pontos é 2.8284271247461903\n"
          ]
        }
      ]
    },
    {
      "cell_type": "markdown",
      "source": [
        "12) Um sistema de equações lineares da forma:"
      ],
      "metadata": {
        "id": "eBo3u-nbW7FD"
      }
    },
    {
      "cell_type": "code",
      "source": [
        "a = int(input('Digite a: '))\n",
        "b = int(input('Digite b: '))\n",
        "c = int(input('Digite c: '))\n",
        "d = int(input('Digite d: '))\n",
        "e = int(input('Digite e: '))\n",
        "f = int(input('Digite f: '))\n",
        "x = ((c * e) - (b * f)) / ((a * e) - (b * d))\n",
        "y = ((a * f) - (c * d)) / ((a * e) - (b * d)) \n",
        "print(f'O valor de x é {x} e o valor de y é {y}')"
      ],
      "metadata": {
        "id": "bFWEGKEMXatq",
        "colab": {
          "base_uri": "https://localhost:8080/"
        },
        "outputId": "48fbea9a-1506-495b-aae3-caedf5f69f43"
      },
      "execution_count": null,
      "outputs": [
        {
          "output_type": "stream",
          "name": "stdout",
          "text": [
            "Digite a: 1\n",
            "Digite b: 2\n",
            "Digite c: 3\n",
            "Digite d: 4\n",
            "Digite e: 5\n",
            "Digite f: 6\n",
            "O valor de x é -1.0 e o valor de y é 2.0\n"
          ]
        }
      ]
    },
    {
      "cell_type": "markdown",
      "source": [
        "13) O custo ao consumidor de um carro novo é a soma do custo de fábrica com a\n",
        "percentagem do distribuidor e dos impostos (aplicados ao custo de fábrica).\n",
        "Supondo que a percentagem do distribuidor seja de 28% e os impostos de 45%,\n",
        "escrever um algoritmo que leia o custo de fábrica de um carro e escreva o custo ao\n",
        "consumidor."
      ],
      "metadata": {
        "id": "eZzX0rVQYyMz"
      }
    },
    {
      "cell_type": "code",
      "source": [
        "valor = float(input('Digite o custo de fábrica: R$'))\n",
        "dis = valor * 0.28\n",
        "imp = valor * 0.45\n",
        "custo = valor + dis + imp\n",
        "print(f'O custo ao consumido é de R${custo}')"
      ],
      "metadata": {
        "id": "vCLWy9xUZSMd",
        "colab": {
          "base_uri": "https://localhost:8080/"
        },
        "outputId": "1c40e35a-d6b5-4e67-8039-4ed9d5e2d5a6"
      },
      "execution_count": null,
      "outputs": [
        {
          "output_type": "stream",
          "name": "stdout",
          "text": [
            "Digite o custo de fábrica: R$10000\n",
            "O custo ao consumido é de R$17300.0\n"
          ]
        }
      ]
    },
    {
      "cell_type": "markdown",
      "source": [
        "14) Faça um algoritmo que leia a idade de uma pessoa expressa em dias e mostre-a\n",
        "expressa em anos, meses e dias."
      ],
      "metadata": {
        "id": "nm-j5RYCbBMs"
      }
    },
    {
      "cell_type": "code",
      "source": [
        "idade = int(input('Digite sua idade em dias: '))\n",
        "idanos = idade / 365\n",
        "idmese = idanos * 12\n",
        "print(f'A sua idade em anos é {idanos} anos \\nA sua idade em meses é {idmese}\\nA sua idade em dias é {idade}')"
      ],
      "metadata": {
        "id": "lJtcufxtbEWo",
        "colab": {
          "base_uri": "https://localhost:8080/"
        },
        "outputId": "e7077327-2039-497e-d3b3-2f5072eff874"
      },
      "execution_count": null,
      "outputs": [
        {
          "output_type": "stream",
          "name": "stdout",
          "text": [
            "Digite sua idade em dias: 6570\n",
            "A sua idade em anos é 18.0 anos \n",
            "A sua idade em meses é 216.0\n",
            "A sua idade em dias é 6570\n"
          ]
        }
      ]
    },
    {
      "cell_type": "markdown",
      "source": [
        "15) Faça um algoritmo que leia o tempo de duração de um evento em uma fábrica\n",
        "expressa em segundos e mostre-o expresso em horas, minutos e segundos."
      ],
      "metadata": {
        "id": "4c-DxgAaQ0hy"
      }
    },
    {
      "cell_type": "code",
      "source": [
        "duracao = float(input('Digite a duração do evento em segundos: '))\n",
        "minutos = duracao / 60\n",
        "horas = minutos / 60\n",
        "print(f'O tempo de duração de de um evento em uma fábrica é {horas}h\\nO tempo de duração de de um evento em uma fábrica é {minutos}min\\nbruto = O tempo de duração de de um evento em uma fábrica é {duracao}s')"
      ],
      "metadata": {
        "colab": {
          "base_uri": "https://localhost:8080/"
        },
        "id": "gmwQ8v_DQ4sR",
        "outputId": "4e8455e4-9dbd-46ac-c120-e054c4ee0be8"
      },
      "execution_count": null,
      "outputs": [
        {
          "output_type": "stream",
          "name": "stdout",
          "text": [
            "Digite a duração do evento em segundos: 3600\n",
            "O tempo de duração de de um evento em uma fábrica é 1.0h\n",
            "O tempo de duração de de um evento em uma fábrica é 60.0min\n",
            "O tempo de duração de de um evento em uma fábrica é 3600.0s\n"
          ]
        }
      ]
    },
    {
      "cell_type": "markdown",
      "source": [
        "16) O governador acaba de liberar R$ 1.000.000.000,00 para construção de casas\n",
        "populares. Cada casa custa o equivalente a 90 salários mínimos. Faça um algoritmo\n",
        "que leia o valor do salário mínimo e calcule a quantidade de casas que podem ser\n",
        "construídas com o recurso liberado."
      ],
      "metadata": {
        "id": "Ot73esoWSZmk"
      }
    },
    {
      "cell_type": "code",
      "source": [
        "salmin = float(input('Digite o valor do salário mínimo: R$'))\n",
        "valcas = salmin * 90\n",
        "numcas = 1000000000 / valcas\n",
        "print(f'Serão construídas {numcas:.0f} casas')"
      ],
      "metadata": {
        "colab": {
          "base_uri": "https://localhost:8080/"
        },
        "id": "_ls61zDXScz8",
        "outputId": "9625ee93-72bb-4223-8fef-c160cb8af1ce"
      },
      "execution_count": null,
      "outputs": [
        {
          "output_type": "stream",
          "name": "stdout",
          "text": [
            "Digite o valor do salário mínimo: R$1000\n",
            "Serão construídas 11111 casas\n"
          ]
        }
      ]
    },
    {
      "cell_type": "markdown",
      "source": [
        "17) Faça um algoritmo que leia o salário bruto mensal de um funcionário, calcule e\n",
        "mostre os valores conforme modelo abaixo:\n",
        "Salário Bruto :R$\n",
        "(-) IR (15%) :R$\n",
        "(-) INSS (11%) :R$\n",
        "(-) Sindicato (3%) :R$\n",
        "Salário Líquido :R$"
      ],
      "metadata": {
        "id": "8sDzKjZRTmk9"
      }
    },
    {
      "cell_type": "code",
      "source": [
        "bruto = float(input('Digite o salário bruto: '))\n",
        "ir = bruto * 0.15\n",
        "inss = bruto * 0.11\n",
        "sind = bruto * 0.03\n",
        "liqui = bruto - ir - inss - sind\n",
        "print(f'Salário bruto = R$ {bruto:.2f}')\n",
        "print(f'IR 15% = R$ {ir:.2f}')\n",
        "print(f'INSS 11% = R$ {inss:.2f}')\n",
        "print(f'Sindicato 3% = R$ {sind:.2f}')\n",
        "print(f'Salário líquido = R$ {liqui:.2f}')"
      ],
      "metadata": {
        "colab": {
          "base_uri": "https://localhost:8080/"
        },
        "id": "-BBzwGgOTsHB",
        "outputId": "db6a4a89-9cdf-4981-dc0a-ac18cb2e99e3"
      },
      "execution_count": null,
      "outputs": [
        {
          "output_type": "stream",
          "name": "stdout",
          "text": [
            "Digite o salário bruto: 1000\n",
            "Salário bruto = R$ 1000.00\n",
            "IR 15% = R$ 150.00\n",
            "INSS 11% = R$ 110.00\n",
            "Sindicato 3% = R$ 30.00\n",
            "Salário líquido = R$ 710.00\n"
          ]
        }
      ]
    },
    {
      "cell_type": "markdown",
      "source": [
        "18) Maria quer saber quantos litros de gasolina precisa colocar em seu carro e quanto\n",
        "vai gastar para fazer uma viagem até a casa de sua irmã. Faça um algoritmo que\n",
        "leia:\n",
        "• A distância da casa de Maria até sua irmã;\n",
        "• O consumo do carro de Maria (KM rodados / litro);\n",
        "• O preço da gasolina (litro).\n",
        "E mostre as informações que Maria necessita."
      ],
      "metadata": {
        "id": "8FVRNwHnj_4R"
      }
    },
    {
      "cell_type": "code",
      "source": [
        "dis = float(input('Digite a distância a ser percorrida: (km) '))\n",
        "con = float(input('Digite o consumo do carro: (km rodados / litro) '))\n",
        "pre = float(input('Digite o preço da gasolina: (litro)'))\n",
        "lit = dis * (1 / con)\n",
        "gas = pre * lit\n",
        "print(f'Maria precisará de {lit}l de gasolina e para isso gastará R${gas:.2f}')"
      ],
      "metadata": {
        "colab": {
          "base_uri": "https://localhost:8080/"
        },
        "id": "ZxMzKAa5pDKr",
        "outputId": "759fb847-be40-4130-f155-8ce7fe7a3cbd"
      },
      "execution_count": null,
      "outputs": [
        {
          "output_type": "stream",
          "name": "stdout",
          "text": [
            "Digite a distância a ser percorrida: (km) 50\n",
            "Digite o consumo do carro: (km rodados / litro) 50\n",
            "Digite o preço da gasolina: (litro)5\n",
            "Maria precisará de 1.0l de gasolina e para isso gastará R$5.00\n"
          ]
        }
      ]
    },
    {
      "cell_type": "markdown",
      "source": [
        "19) Faça um algoritmo que leia as medidas dos 4 lados de um terreno, o preço de um\n",
        "mourão e o preço de um metro de arame farpado. Deve ser escrito:\n",
        "• o número de mourões necessários para cercar o terreno, colocando um mourão a\n",
        "cada 3 metros;\n",
        "• o gasto total, o gasto em mourões e o gasto em arame, supondo que a cerca seja\n",
        "feita com 4 fios de arame."
      ],
      "metadata": {
        "id": "zNOfsezNr7-i"
      }
    },
    {
      "cell_type": "code",
      "source": [
        "l1 = float(input('Digite a medida: '))\n",
        "l2 = float(input('Digite a medida: '))\n",
        "l3 = float(input('Digite a medida: '))\n",
        "l4 = float(input('Digite a medida: '))\n",
        "mo = float(input('Digite o preço de um mourão: R$'))\n",
        "ar = float(input('Digite o preço do metro do arame farpado: R$'))\n",
        "qtdm = (l1 + l2 + l3 + l4) // 3\n",
        "qtda = (l1 + l2 + l3 + l4) * 4\n",
        "prem = qtdm * mo\n",
        "prea = qtda * ar\n",
        "print(f'Você precisará de {qtdm:.0f} mourões e {qtda}m de arame farpado')\n",
        "print(f'Você gastará R${prem:.2f} com mourões e R${prea:.2f} com arame farpado, totalizando R${prem + prea:.2f}')"
      ],
      "metadata": {
        "colab": {
          "base_uri": "https://localhost:8080/"
        },
        "id": "qD0Z3SJYsD6_",
        "outputId": "d0dad644-1b6f-4e21-d270-c49febfecd2f"
      },
      "execution_count": null,
      "outputs": [
        {
          "output_type": "stream",
          "name": "stdout",
          "text": [
            "Digite a medida: 10\n",
            "Digite a medida: 10\n",
            "Digite a medida: 10\n",
            "Digite a medida: 10\n",
            "Digite o preço de um mourão: R$20\n",
            "Digite o preço do metro do arame farpado: R$50\n",
            "Você precisará de 13.0 mourões e 160.0m de arame farpado\n",
            "Você gastará R$260.00 com mourões e R$8000.00 com arame farpado, totalizando R$8260.00\n"
          ]
        }
      ]
    },
    {
      "cell_type": "markdown",
      "source": [
        "20) São dados de entrada sobre um automóvel: modelo, marca, ano, km inicial, km final,\n",
        "litros de combustível consumidos, preço por litro. Faça um algoritmo que escreva os\n",
        "dados de saída da seguinte forma:\n",
        "modelo_______________________ marca______________ ano________\n",
        "distância percorrida ________________\n",
        "litros de combustível consumidos _____________\n",
        "preço por litro R$ _____________\n",
        "total a pagar R$ ______________\n",
        "km por litro __________"
      ],
      "metadata": {
        "id": "BfTj8n971cjD"
      }
    },
    {
      "cell_type": "code",
      "source": [
        "modelo = str(input('Digite o modelo do carro: '))\n",
        "marca = str(input('Digite a marca do carro: '))\n",
        "ano = int(input('Digite o ano do carro: ')) \n",
        "kmi = float(input('Digite o km inicial: '))\n",
        "kmf = float(input('Digite o km final: '))\n",
        "comb = float(input('Digite os litros de combustível consumidos por km: '))\n",
        "preco = float(input('Digite o preço do combustível por litro: '))\n",
        "distancia = kmf - kmi\n",
        "total = distancia * preco\n",
        "kmpl = comb * distancia\n",
        "print(f'Modelo: {modelo}, marca: {marca}, ano: {ano}')\n",
        "print(f'Distância percorrida: {distancia}km')\n",
        "print(f'Litros de combustível consumidos: {kmpl}l')\n",
        "print(f'Preço por litro R${preco:.2f}')\n",
        "print(f'Total a pagar: R${total:.2f}')\n",
        "print(f'km por litro: {comb}km/l')"
      ],
      "metadata": {
        "colab": {
          "base_uri": "https://localhost:8080/"
        },
        "id": "rbfv-0s81fVZ",
        "outputId": "7ce43aee-8f48-435c-ec64-45d3a268601d"
      },
      "execution_count": null,
      "outputs": [
        {
          "output_type": "stream",
          "name": "stdout",
          "text": [
            "Digite o modelo do carro: modelo\n",
            "Digite a marca do carro: marca\n",
            "Digite o ano do carro: 2000\n",
            "Digite o km inicial: 230\n",
            "Digite o km final: 500\n",
            "Digite os litros de combustível consumidos por km: 1\n",
            "Digite o preço do combustível por litro: 5\n",
            "Modelo: modelo, marca: marca, ano: 2000\n",
            "Distância percorrida: 270.0km\n",
            "Litros de combustível consumidos: 270.0l\n",
            "Preço por litro R$5.00\n",
            "Total a pagar: R$1350.00\n",
            "km por litro: 1.0km/l\n"
          ]
        }
      ]
    }
  ]
}