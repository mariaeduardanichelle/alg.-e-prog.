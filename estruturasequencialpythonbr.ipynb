{
  "nbformat": 4,
  "nbformat_minor": 0,
  "metadata": {
    "colab": {
      "provenance": []
    },
    "kernelspec": {
      "name": "python3",
      "display_name": "Python 3"
    },
    "language_info": {
      "name": "python"
    }
  },
  "cells": [
    {
      "cell_type": "markdown",
      "source": [
        "1. Faça um Programa que mostre a mensagem \"Alo mundo\" na tela."
      ],
      "metadata": {
        "id": "rjQHirtgEXBn"
      }
    },
    {
      "cell_type": "code",
      "execution_count": null,
      "metadata": {
        "colab": {
          "base_uri": "https://localhost:8080/"
        },
        "id": "3ylAMbaxDj0V",
        "outputId": "5f8b544d-f724-4b48-ccca-093c3a358b34"
      },
      "outputs": [
        {
          "output_type": "stream",
          "name": "stdout",
          "text": [
            "Alo mundo\n"
          ]
        }
      ],
      "source": [
        "print('Alo mundo')"
      ]
    },
    {
      "cell_type": "markdown",
      "source": [
        "2. Faça um Programa que peça um número e então mostre a mensagem O número informado foi [número]."
      ],
      "metadata": {
        "id": "FJJnohRLElY9"
      }
    },
    {
      "cell_type": "code",
      "source": [
        "num = int(input('Informe um número: '))\n",
        "print(f'O número informado foi {num}')"
      ],
      "metadata": {
        "colab": {
          "base_uri": "https://localhost:8080/"
        },
        "id": "OwMmoTcmEoWt",
        "outputId": "bd17c5be-b6f3-422e-b043-e8ca71060847"
      },
      "execution_count": null,
      "outputs": [
        {
          "output_type": "stream",
          "name": "stdout",
          "text": [
            "Informe um número: 2\n",
            "O número informado foi 2\n"
          ]
        }
      ]
    },
    {
      "cell_type": "markdown",
      "source": [
        "3. Faça um Programa que peça dois números e imprima a soma."
      ],
      "metadata": {
        "id": "zJ7rnyVUE-v9"
      }
    },
    {
      "cell_type": "code",
      "source": [
        "n1 = int(input('Informe um valor: '))\n",
        "n2 = int(input('Informe um valor: '))\n",
        "soma = n1 + n2\n",
        "print(f'A soma de {n1} + {n2} é {soma}')"
      ],
      "metadata": {
        "colab": {
          "base_uri": "https://localhost:8080/"
        },
        "id": "ERkZYU8sFo9p",
        "outputId": "89243679-3195-464e-e85b-6474fd7fe4bc"
      },
      "execution_count": null,
      "outputs": [
        {
          "output_type": "stream",
          "name": "stdout",
          "text": [
            "Informe um valor: 1\n",
            "Informe um valor: 1\n",
            "A soma de 1 + 1 é 2\n"
          ]
        }
      ]
    },
    {
      "cell_type": "markdown",
      "source": [
        "4. Faça um Programa que peça as 4 notas bimestrais e mostre a média."
      ],
      "metadata": {
        "id": "YHAJwR0vGkYw"
      }
    },
    {
      "cell_type": "code",
      "source": [
        "n1 = float(input('Digite a nota: '))\n",
        "n2 = float(input('Digite a nota: '))\n",
        "n3 = float(input('Digite a nota: '))\n",
        "n4 = float(input('Digite a nota: '))\n",
        "media = (n1 + n2 + n3 + n4) / 4\n",
        "print(f'A média é {media}1')"
      ],
      "metadata": {
        "colab": {
          "base_uri": "https://localhost:8080/"
        },
        "id": "EujxPWP4HMQd",
        "outputId": "26cf37d2-25fb-43cd-a8a2-9ea6ea4038df"
      },
      "execution_count": null,
      "outputs": [
        {
          "output_type": "stream",
          "name": "stdout",
          "text": [
            "Digite a nota: 10\n",
            "Digite a nota: 10\n",
            "Digite a nota: 10\n",
            "Digite a nota: 0\n",
            "A média é 7.5\n"
          ]
        }
      ]
    },
    {
      "cell_type": "markdown",
      "source": [
        "5. Faça um Programa que converta metros para centímetros."
      ],
      "metadata": {
        "id": "V6t9_m69IUGF"
      }
    },
    {
      "cell_type": "code",
      "source": [
        "metros = float(input('Digite a quantidade de metros: '))\n",
        "cm = metros * 100\n",
        "print(f'{metros}m → {cm}cm')"
      ],
      "metadata": {
        "colab": {
          "base_uri": "https://localhost:8080/"
        },
        "id": "vjOGFzVjIX_U",
        "outputId": "319341bc-b789-4d1d-9b7b-654debb31601"
      },
      "execution_count": null,
      "outputs": [
        {
          "output_type": "stream",
          "name": "stdout",
          "text": [
            "Digite a quantidade de metros: 1\n",
            "1.0m → 100.0cm\n"
          ]
        }
      ]
    },
    {
      "cell_type": "markdown",
      "source": [
        "6. Faça um Programa que peça o raio de um círculo, calcule e mostre sua área."
      ],
      "metadata": {
        "id": "bqGUFgFLI1GU"
      }
    },
    {
      "cell_type": "code",
      "source": [
        "import math\n",
        "raio = float(input('Digite o raio: '))\n",
        "peri = 2 * math.pi * raio\n",
        "area = math.pi * raio ** 2\n",
        "print(f'O perímetro do circulo é {peri} e a área é {area}')"
      ],
      "metadata": {
        "id": "zGaYgG6dI9kq"
      },
      "execution_count": null,
      "outputs": []
    },
    {
      "cell_type": "markdown",
      "source": [
        "7. Faça um Programa que calcule a área de um quadrado, em seguida mostre o dobro desta área para o usuário."
      ],
      "metadata": {
        "id": "G9tYvdYwKNg6"
      }
    },
    {
      "cell_type": "code",
      "source": [
        "l = float(input('Digite o lado do quadrado: '))\n",
        "area = l * l\n",
        "print(f'A área do quadrado é {area} e o dobro da área é {area * 2}')"
      ],
      "metadata": {
        "id": "_9_9T2p4Kf-J"
      },
      "execution_count": null,
      "outputs": []
    },
    {
      "cell_type": "markdown",
      "source": [
        "8. Faça um Programa que pergunte quanto você ganha por hora e o número de horas trabalhadas no mês.\n",
        "Calcule e mostre o total do seu salário no referido mês."
      ],
      "metadata": {
        "id": "ZldY7fclLLqk"
      }
    },
    {
      "cell_type": "code",
      "source": [
        "recebehora = float(input('Quanto você ganha por hora? '))\n",
        "horatrabal = float(input('Por quantas horas você trabalha no mês? '))\n",
        "saltotal = recebehora * horatrabal\n",
        "print(f'O total do seu salário no referido mês é: R${saltotal:.2f}')"
      ],
      "metadata": {
        "colab": {
          "base_uri": "https://localhost:8080/"
        },
        "id": "HkwpHrhWLVly",
        "outputId": "69fa331d-da14-4e37-a9ac-fe3558f43519"
      },
      "execution_count": null,
      "outputs": [
        {
          "output_type": "stream",
          "name": "stdout",
          "text": [
            "Quanto você ganha por hora? 10\n",
            "Por quantas horas você trabalha no mês? 2\n",
            "O total do seu salário no referido mês é: R$20.00\n"
          ]
        }
      ]
    },
    {
      "cell_type": "markdown",
      "source": [
        "9. Faça um Programa que peça a temperatura em graus Farenheit, transforme e mostre a temperatura em graus\n",
        "Celsius.\n",
        "C = (5 * (F-32) / 9)."
      ],
      "metadata": {
        "id": "oOZGnKKWMYNX"
      }
    },
    {
      "cell_type": "code",
      "source": [
        "fah = float(input('Digite a temperatura em Farenheit: '))\n",
        "celsius = (5*(fah-32)/9)\n",
        "print(f'{fah}°F em celsius é {celsius}°C')"
      ],
      "metadata": {
        "colab": {
          "base_uri": "https://localhost:8080/"
        },
        "id": "zlNBJne2MdYR",
        "outputId": "cd9a6127-1470-477c-dd58-b5cb4f050a6a"
      },
      "execution_count": null,
      "outputs": [
        {
          "output_type": "stream",
          "name": "stdout",
          "text": [
            "Digite a temperatura em Farenheit: 20\n",
            "20.0°F em celsius é -6.666666666666667°C\n"
          ]
        }
      ]
    },
    {
      "cell_type": "markdown",
      "source": [
        "10. Faça um Programa que peça a temperatura em graus Celsius, transforme e mostre em graus Farenheit."
      ],
      "metadata": {
        "id": "4pUFbCArNUJT"
      }
    },
    {
      "cell_type": "code",
      "source": [
        "c = float(input('Digite a temperatura em Celsius: '))\n",
        "f = (9 * c) / 5 + 32\n",
        "print(f'{c}°C para Farenheit é {f}°F')"
      ],
      "metadata": {
        "colab": {
          "base_uri": "https://localhost:8080/"
        },
        "id": "wo4xQ811Ndsp",
        "outputId": "3032c433-00ec-4d39-9780-2fbd6953bd2d"
      },
      "execution_count": null,
      "outputs": [
        {
          "output_type": "stream",
          "name": "stdout",
          "text": [
            "Digite a temperatura em Celsius: -6.666666666666667\n",
            "-6.666666666666667°C para Farenheit é 20.0°F\n"
          ]
        }
      ]
    },
    {
      "cell_type": "markdown",
      "source": [
        "11. Faça um Programa que peça 2 números inteiros e um número real. Calcule e mostre:\n",
        "* a. o produto do dobro do primeiro com metade do segundo .\n",
        "* b. a soma do triplo do primeiro com o terceiro.\n",
        "* c. o terceiro elevado ao cubo."
      ],
      "metadata": {
        "id": "aR3WMSuOOXZG"
      }
    },
    {
      "cell_type": "code",
      "source": [
        "i1 = int(input('Digite um número inteiro: '))\n",
        "i2 = int(input('Digite um número inteiro: '))\n",
        "r = float(input('Digite um número real: '))\n",
        "a = (i1 * 2) * (i2 / 2)\n",
        "b = (i1 * 3) + r\n",
        "c = r ** 3\n",
        "print(f'a) {a}\\nb){b}\\nc){c}')"
      ],
      "metadata": {
        "colab": {
          "base_uri": "https://localhost:8080/"
        },
        "id": "3SpwwvqpOkAO",
        "outputId": "db959182-6349-4e26-a2f8-ebee9d21c7fc"
      },
      "execution_count": null,
      "outputs": [
        {
          "output_type": "stream",
          "name": "stdout",
          "text": [
            "Digite um número inteiro: 2\n",
            "Digite um número inteiro: 2\n",
            "Digite um número real: 2\n",
            "a) 4.0\n",
            "b)8.0\n",
            "c)8.0\n"
          ]
        }
      ]
    },
    {
      "cell_type": "markdown",
      "source": [
        "12. Tendo como dados de entrada a altura de uma pessoa, construa um algoritmo que calcule seu peso ideal,\n",
        "usando a seguinte fórmula: (72.7*altura) - 58\n"
      ],
      "metadata": {
        "id": "ajcZttJrRGcr"
      }
    },
    {
      "cell_type": "code",
      "source": [
        "altura = float(input('Digite a sua altura: '))\n",
        "pesoid = (72.7*altura) - 58\n",
        "print(f'Você tem {altura}m seu peso ideal é {pesoid}kg')"
      ],
      "metadata": {
        "colab": {
          "base_uri": "https://localhost:8080/"
        },
        "id": "-K31EXoORLiA",
        "outputId": "fc0cc2ed-6301-4357-c601-b4ae713c44a5"
      },
      "execution_count": null,
      "outputs": [
        {
          "output_type": "stream",
          "name": "stdout",
          "text": [
            "Digite a sua altura: 1.60\n",
            "Você tem 1.6m seu peso ideal é 58.32000000000001kg\n"
          ]
        }
      ]
    },
    {
      "cell_type": "markdown",
      "source": [
        "13. Tendo como dados de entrada a altura e o sexo de uma pessoa, construa um algoritmo que calcule seu peso\n",
        "ideal, utilizando as seguintes fórmulas:\n",
        "* a. Para homens: (72.7*h) - 58\n",
        "* b. Para mulheres: (62.1*h) - 44.7 (h = altura)\n",
        "* c. Peça o peso da pessoa e informe se ela está dentro, acima ou abaixo do peso."
      ],
      "metadata": {
        "id": "dmEO4S15Ry1Z"
      }
    },
    {
      "cell_type": "code",
      "source": [
        "h = float(input('Digite a sua altura: '))\n",
        "s = str(input('Digite o seu sexo: [M/F]'))\n",
        "if s in 'Ff':\n",
        "  pesoid = (62.1*h) - 44.7\n",
        "elif s in 'Mm':\n",
        "  pesoid = (72.7*h) - 58\n",
        "print(f'Você tem {h}m seu peso ideal é {pesoid}kg')"
      ],
      "metadata": {
        "colab": {
          "base_uri": "https://localhost:8080/"
        },
        "id": "ToIQTiEfR4cP",
        "outputId": "3caca261-7bf0-4ad4-b5ae-43218f9a0dcf"
      },
      "execution_count": null,
      "outputs": [
        {
          "output_type": "stream",
          "name": "stdout",
          "text": [
            "Digite a sua altura: 1.6\n",
            "Digite o seu sexo: [M/F]f\n",
            "Você tem 1.6m seu peso ideal é 54.66000000000001kg\n"
          ]
        }
      ]
    },
    {
      "cell_type": "markdown",
      "source": [
        "14. João Papo-de-Pescador, homem de bem, comprou um microcomputador para controlar o rendimento diário de\n",
        "seu trabalho. Toda vez que ele traz um peso de peixes maior que o estabelecido pelo regulamento de pesca do\n",
        "estado de São Paulo (50 quilos) deve pagar uma multa de R$ 4,00 por quilo excedente. João precisa que você\n",
        "faça um programa que leia a variável peso (peso de peixes) e verifique se há excesso. Se houver, gravar na\n",
        "variável excesso e na variável multa o valor da multa que João deverá pagar. Caso contrário mostrar tais\n",
        "variáveis com o conteúdo ZERO."
      ],
      "metadata": {
        "id": "-WTQ7SmWTWu1"
      }
    },
    {
      "cell_type": "code",
      "source": [
        "peso = float(input('Digite o peso dos peixes: '))\n",
        "if peso > 50:\n",
        "  excesso = peso - 50 \n",
        "  multa = excesso * 4\n",
        "  print(f'O excesso de peso foi de {excesso}kg\\nVocê deverá pagar uma multa de R${multa:.2f}')\n",
        "elif peso <= 50:\n",
        "  excesso = 0\n",
        "  multa = 0\n",
        "  print(f'O valor não excedeu o limite, portanto você não precisará pagar nenhuma multa!')"
      ],
      "metadata": {
        "id": "57GUHuRsTbYL",
        "colab": {
          "base_uri": "https://localhost:8080/"
        },
        "outputId": "b667fcf2-c4e3-4df2-d588-4904d6f8376e"
      },
      "execution_count": 2,
      "outputs": [
        {
          "output_type": "stream",
          "name": "stdout",
          "text": [
            "Digite o peso dos peixes: 51\n",
            "O excesso de peso foi de 1.0kg\n",
            "Você deverá pagar uma multa de R$4.00\n"
          ]
        }
      ]
    },
    {
      "cell_type": "markdown",
      "source": [
        "15. Faça um Programa que pergunte quanto você ganha por hora e o número de horas trabalhadas no mês.\n",
        "Calcule e mostre o total do seu salário no referido mês, sabendo-se que são descontados 11% para o Imposto\n",
        "de Renda, 8% para o INSS e 5% para o sindicato, faça um programa que nos dê:\n",
        "* a. salário bruto.\n",
        "* b. quanto pagou ao INSS.\n",
        "* c. quanto pagou ao sindicato.\n",
        "* d. o salário líquido.\n",
        "* e. calcule os descontos e o salário líquido, conforme a tabela abaixo:\n",
        "*      + Salário Bruto : R$\n",
        "*      - IR (11%) : R$\n",
        "*      - INSS (8%) : R$\n",
        "*      - Sindicato ( 5%) : R$\n",
        "*      = Salário Liquido : R$"
      ],
      "metadata": {
        "id": "aWNq30KmXoH6"
      }
    },
    {
      "cell_type": "code",
      "source": [
        "recebhora = float(input('Quanto você recebe por hora? '))\n",
        "horastmes = float(input('Quantas horas você trabalhou esse mês? '))\n",
        "salbruto = recebhora * horastmes\n",
        "impostor = salbruto * 0.11\n",
        "inss = salbruto * 0.08\n",
        "sindicato = salbruto * 0.05\n",
        "saliquido = salbruto - impostor - inss - sindicato\n",
        "print(f'Salário Bruto: R${salbruto:.2f}\\nIR (11%): R${impostor:.2f}\\nINSS (8%): R${inss:.2f}\\nSindicato (5%): R${sindicato:.2f}\\nSalário Liquido: R${saliquido:.2f}') "
      ],
      "metadata": {
        "colab": {
          "base_uri": "https://localhost:8080/"
        },
        "id": "QgV6rBGPeJfY",
        "outputId": "6d35c633-489e-465c-eac7-3d29b6c77610"
      },
      "execution_count": 7,
      "outputs": [
        {
          "output_type": "stream",
          "name": "stdout",
          "text": [
            "Quanto você recebe por hora? 10\n",
            "Quantas horas você trabalhou esse mês? 200\n",
            "Salário Bruto: R$2000.00\n",
            "IR (11%): R$220.00\n",
            "INSS (8%): R$160.00\n",
            "Sindicato (5%): R$100.00\n",
            "Salário Liquido: R$1520.00\n"
          ]
        }
      ]
    },
    {
      "cell_type": "markdown",
      "source": [
        "16. Faça um programa para uma loja de tintas. O programa deverá pedir o tamanho em metros quadrados da área\n",
        "a ser pintada. Considere que a cobertura da tinta é de 1 litro para cada 3 metros quadrados e que a tinta é\n",
        "vendida em latas de 18 litros, que custam R$ 80,00. Informe ao usuário a quantidades de latas de tinta a serem\n",
        "compradas e o preço total."
      ],
      "metadata": {
        "id": "f_6HBIDBhhTK"
      }
    },
    {
      "cell_type": "code",
      "source": [
        "import math\n",
        "tam = float(input('Digite o tamanho da área a ser pintada e m²: '))\n",
        "qtdlatas = math.ceil(tam / (18 * 3))\n",
        "valor = qtdlatas * 80\n",
        "print(f'Você precisará de {qtdlatas} lata o que custará R${valor:.2f}')"
      ],
      "metadata": {
        "colab": {
          "base_uri": "https://localhost:8080/"
        },
        "id": "3S77IU5WhlQg",
        "outputId": "66ffecc4-0a11-4644-a2f8-d51bd836a300"
      },
      "execution_count": 16,
      "outputs": [
        {
          "output_type": "stream",
          "name": "stdout",
          "text": [
            "Digite o tamanho da área a ser pintada e m²: 54\n",
            "Você precisará de 1 lata o que custará R$80.00\n"
          ]
        }
      ]
    },
    {
      "cell_type": "markdown",
      "source": [
        "17. Faça um Programa para uma loja de tintas. O programa deverá pedir o tamanho em metros quadrados da área\n",
        "a ser pintada. Considere que a cobertura da tinta é de 1 litro para cada 6 metros quadrados e que a tinta é\n",
        "vendida em latas de 18 litros, que custam R$ 80,00 ou em galões de 3,6 litros, que custam R$ 25,00.\n",
        "Informe ao usuário as quantidades de tinta a serem compradas e os respectivos preços em 3 situações:\n",
        "* comprar apenas latas de 18 litros;\n",
        "* comprar apenas galões de 3,6 litros;\n",
        "* misturar latas e galões, de forma que o preço seja o menor. Acrescente 10% de folga e sempre arredonde os valores para cima, isto é, considere latas cheias."
      ],
      "metadata": {
        "id": "1tf34kLhkUIx"
      }
    },
    {
      "cell_type": "code",
      "source": [
        "import math\n",
        "gal = lata = 0\n",
        "tam = float(input('Digite o tamanho da área a ser pintada e m²: '))*1.1\n",
        "qtdlatas = math.ceil(tam / (18 * 6))\n",
        "valorl = qtdlatas * 80\n",
        "print(f'Você precisará de {qtdlatas} lata o que custará R${valorl:.2f}')\n",
        "qtdgaloes = math.ceil(tam / (3.6 * 6))\n",
        "valorg = qtdgaloes * 80\n",
        "print(f'Você precisará de {qtdgaloes} lata o que custará R${valorg:.2f}')\n",
        "tinta = 108\n",
        "qtdlatas = tam // 108\n",
        "qtdgaloes = math.ceil((tam % 108) / 21.6) \n",
        "print(f'Você usara {qtdlatas} de 18 litros e {qtdgaloes} de 3,6 litros. O que custará R${(qtdlatas * 80 + qtdgaloes * 25):.2f}')  "
      ],
      "metadata": {
        "colab": {
          "base_uri": "https://localhost:8080/"
        },
        "id": "VMmK1fQEknHA",
        "outputId": "a295bb1c-93d1-4516-90ac-6bbfa05a63a8"
      },
      "execution_count": 7,
      "outputs": [
        {
          "output_type": "stream",
          "name": "stdout",
          "text": [
            "Digite o tamanho da área a ser pintada e m²: 108\n",
            "Você precisará de 2 lata o que custará R$160.00\n",
            "Você precisará de 6 lata o que custará R$480.00\n",
            "Você usara 1.0 de 18 litros e 1 de 3,6 litros. O que custará R$105.00\n"
          ]
        }
      ]
    },
    {
      "cell_type": "markdown",
      "source": [
        "18. Faça um programa que peça o tamanho de um arquivo para download (em MB) e a velocidade de um link de\n",
        "Internet (em Mbps), calcule e informe o tempo aproximado de download do arquivo usando este link (em\n",
        "minutos)."
      ],
      "metadata": {
        "id": "AnpcWbQiR2SD"
      }
    },
    {
      "cell_type": "code",
      "source": [
        "tamanho = float(input('Digite o tamanho do arquivo: [MB] '))\n",
        "velocidade = float(input('Digite a velocidade de um link de internet: [Mbps] '))\n",
        "tempo = (tamanho / (velocidade / 8)) / 60\n",
        "print(f'O tempo aproximado é {tempo} minutos')"
      ],
      "metadata": {
        "colab": {
          "base_uri": "https://localhost:8080/"
        },
        "id": "tByvvKvIUkoB",
        "outputId": "afb41ac6-1e6b-4683-e916-a45791cb34dd"
      },
      "execution_count": 6,
      "outputs": [
        {
          "output_type": "stream",
          "name": "stdout",
          "text": [
            "Digite o tamanho do arquivo: [MB] 15\n",
            "Digite a velocidade de um link de internet: [Mbps] 2\n",
            "O tempo aproximado é 1.0 minutos\n"
          ]
        }
      ]
    }
  ]
}