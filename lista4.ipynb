{
  "nbformat": 4,
  "nbformat_minor": 0,
  "metadata": {
    "colab": {
      "provenance": [],
      "include_colab_link": true
    },
    "kernelspec": {
      "name": "python3",
      "display_name": "Python 3"
    },
    "language_info": {
      "name": "python"
    }
  },
  "cells": [
    {
      "cell_type": "markdown",
      "metadata": {
        "id": "view-in-github",
        "colab_type": "text"
      },
      "source": [
        "<a href=\"https://colab.research.google.com/github/mariaeduardanichelle/alg.-e-prog./blob/main/lista4.ipynb\" target=\"_parent\"><img src=\"https://colab.research.google.com/assets/colab-badge.svg\" alt=\"Open In Colab\"/></a>"
      ]
    },
    {
      "cell_type": "markdown",
      "source": [
        "1. Inicializar um vetor de inteiros com números de 0 a 99."
      ],
      "metadata": {
        "id": "XojBPNVq7hFq"
      }
    },
    {
      "cell_type": "code",
      "execution_count": null,
      "metadata": {
        "colab": {
          "base_uri": "https://localhost:8080/"
        },
        "id": "i9i0ObRtmlBp",
        "outputId": "de6617f7-894e-4d60-c614-b19acc30df48"
      },
      "outputs": [
        {
          "output_type": "stream",
          "name": "stdout",
          "text": [
            "[0, 1, 2, 3, 4, 5, 6, 7, 8, 9, 10, 11, 12, 13, 14, 15, 16, 17, 18, 19, 20, 21, 22, 23, 24, 25, 26, 27, 28, 29, 30, 31, 32, 33, 34, 35, 36, 37, 38, 39, 40, 41, 42, 43, 44, 45, 46, 47, 48, 49, 50, 51, 52, 53, 54, 55, 56, 57, 58, 59, 60, 61, 62, 63, 64, 65, 66, 67, 68, 69, 70, 71, 72, 73, 74, 75, 76, 77, 78, 79, 80, 81, 82, 83, 84, 85, 86, 87, 88, 89, 90, 91, 92, 93, 94, 95, 96, 97, 98, 99]\n"
          ]
        }
      ],
      "source": [
        "lista = []\n",
        "for a in range(0, 100):\n",
        "  lista.append(a)\n",
        "print(lista)"
      ]
    },
    {
      "cell_type": "markdown",
      "source": [
        "2. Escreva um algoritmo que leia um conjunto de 10 notas, armazene-as em uma variável\n",
        "composta chamada NOTA e calcule e imprima a sua média."
      ],
      "metadata": {
        "id": "mIqEdTgO7mGp"
      }
    },
    {
      "cell_type": "code",
      "source": [
        "notas = list()\n",
        "for n in range(0, 10):\n",
        "  notas.append(float(input('Digite a nota: ')))\n",
        "media = sum(notas)/10\n",
        "print(f'Notas: ',end='')\n",
        "for i, n in enumerate(notas):\n",
        "  if i < 9:\n",
        "    print(f'{n}, ', end='')\n",
        "  else:\n",
        "    print(f'{n}')\n",
        "print(f'Média: {media}')"
      ],
      "metadata": {
        "colab": {
          "base_uri": "https://localhost:8080/"
        },
        "id": "MVZ4FrZ4nLDW",
        "outputId": "13a10811-52bc-42fd-ad38-00bcef4958a5"
      },
      "execution_count": null,
      "outputs": [
        {
          "output_type": "stream",
          "name": "stdout",
          "text": [
            "Digite a nota: 1\n",
            "Digite a nota: 1\n",
            "Digite a nota: 1\n",
            "Digite a nota: 1\n",
            "Digite a nota: 1\n",
            "Digite a nota: 1\n",
            "Digite a nota: 1\n",
            "Digite a nota: 1\n",
            "Digite a nota: 1\n",
            "Digite a nota: 1\n",
            "Notas: 1.0, 1.0, 1.0, 1.0, 1.0, 1.0, 1.0, 1.0, 1.0, 1.0\n",
            "Média: 1.0\n"
          ]
        }
      ]
    },
    {
      "cell_type": "markdown",
      "source": [
        "3. Repita o algoritmo acima, porém imprima quantos valores estão acima da média."
      ],
      "metadata": {
        "id": "PfVM8l967ogo"
      }
    },
    {
      "cell_type": "code",
      "source": [
        "notas = list()\n",
        "for n in range(0, 10):\n",
        "  notas.append(float(input('Digite a nota: ')))\n",
        "media = sum(notas)/10\n",
        "print(f'Notas: ',end='')\n",
        "for i, n in enumerate(notas):\n",
        "  if i < 9:\n",
        "    print(f'{n}, ', end='')\n",
        "  else:\n",
        "    print(f'{n}')\n",
        "print(f'Média: {media}')\n",
        "for n in notas:\n",
        "  if n > media:\n",
        "    print(f'{n} esta acima da médaia')"
      ],
      "metadata": {
        "colab": {
          "base_uri": "https://localhost:8080/"
        },
        "id": "5lPo8s7fpFu7",
        "outputId": "1c4a5550-f3d6-4f44-ddf0-25fa5dbe0ffc"
      },
      "execution_count": null,
      "outputs": [
        {
          "output_type": "stream",
          "name": "stdout",
          "text": [
            "Digite a nota: 1\n",
            "Digite a nota: 4\n",
            "Digite a nota: 1\n",
            "Digite a nota: 1\n",
            "Digite a nota: 1\n",
            "Digite a nota: 1\n",
            "Digite a nota: 1\n",
            "Digite a nota: 1\n",
            "Digite a nota: 1\n",
            "Digite a nota: 1\n",
            "Notas: 1.0, 4.0, 1.0, 1.0, 1.0, 1.0, 1.0, 1.0, 1.0, 1.0\n",
            "Média: 1.3\n",
            "4.0 esta acima da médaia\n"
          ]
        }
      ]
    },
    {
      "cell_type": "markdown",
      "source": [
        "4. Faça um algoritmo que leia um vetor que contém as notas de 30 alunos. Imprima o maior\n",
        "valor, o menor valor, a média da turma e a quantidade de notas abaixo da média."
      ],
      "metadata": {
        "id": "4b2kqgbE7r4I"
      }
    },
    {
      "cell_type": "code",
      "source": [
        "maior = menor = media = tot = 0\n",
        "alunos = list()\n",
        "for a in range(0, 30):\n",
        "  nota = float(input('Digite a nota: '))\n",
        "  media += nota\n",
        "  if a == 0:\n",
        "    maior = nota\n",
        "  else:\n",
        "    if nota > maior:\n",
        "      maior = nota\n",
        "  if a == 0:\n",
        "    menor = nota\n",
        "  else:\n",
        "    if nota < menor:\n",
        "      menor = nota\n",
        "media /= (a+1)\n",
        "for n in alunos:\n",
        "  if n < media:\n",
        "    tot = tot + 1\n",
        "print(f'A menor nota foi {menor}')\n",
        "print(f'A maior nota foi {maior}')\n",
        "print(f'{tot} notas foram abaixo da média {media}')"
      ],
      "metadata": {
        "id": "ByEIjLaYpcia",
        "colab": {
          "base_uri": "https://localhost:8080/"
        },
        "outputId": "0d0dd6f3-5b60-4f78-e795-542172ecad11"
      },
      "execution_count": null,
      "outputs": [
        {
          "output_type": "stream",
          "name": "stdout",
          "text": [
            "Digite a nota: 1\n",
            "Digite a nota: 2\n",
            "Digite a nota: 3\n",
            "A menor nota foi 1.0\n",
            "A maior nota foi 3.0\n",
            "0 notas foram abaixo da média 2.0\n"
          ]
        }
      ]
    },
    {
      "cell_type": "markdown",
      "source": [
        "5. Ler um vetor de 100 elementos numéricos e verificar se existem elementos iguais a 30. Se\n",
        "existirem, escrever as posições em que estão armazenados."
      ],
      "metadata": {
        "id": "Z8clglax7uUA"
      }
    },
    {
      "cell_type": "code",
      "source": [
        "from random import randint\n",
        "vetor = []\n",
        "for n in range(0, 100):\n",
        "  vetor.append(int(randint(0, 100)))\n",
        "print(vetor)\n",
        "for i, v in enumerate(vetor):\n",
        "  if v == 30:\n",
        "    print(f'Tem um elemento igual a 30 na posição {i}')\n",
        "if not 30 in vetor:\n",
        "  print('Não há elemenos 30 no vetor')"
      ],
      "metadata": {
        "id": "5i4CEzgrBQkG",
        "colab": {
          "base_uri": "https://localhost:8080/"
        },
        "outputId": "5c4da1c3-540d-49d6-eb0e-badf0026e5b1"
      },
      "execution_count": null,
      "outputs": [
        {
          "output_type": "stream",
          "name": "stdout",
          "text": [
            "[12, 51, 57, 9, 66, 88, 11, 50, 53, 94, 100, 85, 70, 16, 14, 17, 4, 27, 15, 90, 57, 46, 40, 97, 79, 33, 62, 14, 30, 82, 95, 95, 22, 11, 92, 58, 92, 97, 96, 17, 58, 57, 48, 59, 42, 49, 49, 55, 74, 92, 3, 65, 26, 68, 57, 96, 73, 13, 26, 96, 46, 11, 31, 18, 21, 11, 25, 54, 61, 12, 61, 2, 22, 6, 86, 46, 56, 36, 38, 13, 6, 98, 7, 42, 26, 48, 28, 30, 16, 18, 38, 65, 92, 67, 80, 65, 66, 93, 23, 19]\n",
            "Tem um elemento igual a 30 na posição 28\n",
            "Tem um elemento igual a 30 na posição 87\n"
          ]
        }
      ]
    },
    {
      "cell_type": "markdown",
      "source": [
        "6. Fazer um algoritmo que calcule e escreva o somatório dos valores armazenados numa variável\n",
        "composta unidimensional (vetor) A, de 100 elementos numéricos a serem lidos do dispositivo\n",
        "de entrada."
      ],
      "metadata": {
        "id": "RDBqFz3c7x5b"
      }
    },
    {
      "cell_type": "code",
      "source": [
        "vetor = []\n",
        "for n in range(0, 100):\n",
        "  vetor.append(int(input('Digite um valor: ')))\n",
        "soma = sum(vetor)\n",
        "print(f'O vetor é {vetor}')\n",
        "print(f'A soma do vetor é {soma}')\n"
      ],
      "metadata": {
        "id": "HHbBDzgcBQ8I",
        "colab": {
          "base_uri": "https://localhost:8080/"
        },
        "outputId": "87edc302-0184-423d-c405-75e8d9b9dfbc"
      },
      "execution_count": null,
      "outputs": [
        {
          "output_type": "stream",
          "name": "stdout",
          "text": [
            "Digite um valor: 1\n",
            "Digite um valor: 2\n",
            "Digite um valor: 3\n",
            "Digite um valor: 4\n",
            "Digite um valor: 5\n",
            "O vetor é [1, 2, 3, 4, 5]\n",
            "A soma do vetor é 15\n"
          ]
        }
      ]
    },
    {
      "cell_type": "markdown",
      "source": [
        "7. Escreva um algoritmo que leia um vetor de 200 valores numéricos reais e os imprima na\n",
        "ordem contrária em que foi lida."
      ],
      "metadata": {
        "id": "uikZMx0J70Q4"
      }
    },
    {
      "cell_type": "code",
      "source": [
        "from random import randint\n",
        "vetor = []\n",
        "for v in range(0, 200):\n",
        "  vetor.append(int(randint(0, 100)))\n",
        "print(f'O vetor original é {vetor}')\n",
        "\n",
        "print(f'O vetor ao contrário é {list(reversed(vetor))}')"
      ],
      "metadata": {
        "id": "ikMVt2WIBSi4",
        "colab": {
          "base_uri": "https://localhost:8080/"
        },
        "outputId": "9a586cce-d2e2-4e17-86ce-2eda41c085dd"
      },
      "execution_count": null,
      "outputs": [
        {
          "output_type": "stream",
          "name": "stdout",
          "text": [
            "O vetor original é [67, 16, 61, 34, 83, 41, 59, 68, 41, 21, 73, 31, 54, 72, 77, 93, 77, 61, 11, 81, 76, 21, 72, 4, 20, 34, 28, 54, 55, 71, 74, 80, 64, 74, 49, 3, 81, 98, 12, 4, 48, 99, 17, 32, 95, 12, 98, 70, 45, 45, 4, 55, 64, 45, 20, 67, 11, 24, 73, 58, 74, 49, 58, 50, 51, 15, 96, 88, 53, 35, 5, 100, 24, 45, 88, 39, 75, 80, 100, 98, 8, 61, 0, 39, 83, 14, 12, 91, 82, 89, 63, 70, 12, 89, 22, 15, 97, 68, 46, 74, 83, 54, 14, 44, 40, 17, 41, 97, 27, 98, 65, 20, 56, 16, 31, 91, 95, 14, 46, 58, 51, 21, 98, 40, 69, 8, 27, 26, 7, 53, 95, 39, 12, 88, 80, 76, 57, 32, 70, 93, 65, 83, 16, 92, 35, 0, 30, 0, 97, 36, 6, 77, 27, 49, 33, 2, 2, 67, 90, 98, 54, 23, 63, 23, 54, 54, 76, 77, 77, 77, 42, 20, 57, 43, 72, 37, 14, 67, 87, 93, 58, 31, 24, 65, 63, 61, 69, 68, 80, 84, 22, 84, 33, 23, 12, 95, 1, 25, 59, 15]\n",
            "O vetor ao contrário é [15, 59, 25, 1, 95, 12, 23, 33, 84, 22, 84, 80, 68, 69, 61, 63, 65, 24, 31, 58, 93, 87, 67, 14, 37, 72, 43, 57, 20, 42, 77, 77, 77, 76, 54, 54, 23, 63, 23, 54, 98, 90, 67, 2, 2, 33, 49, 27, 77, 6, 36, 97, 0, 30, 0, 35, 92, 16, 83, 65, 93, 70, 32, 57, 76, 80, 88, 12, 39, 95, 53, 7, 26, 27, 8, 69, 40, 98, 21, 51, 58, 46, 14, 95, 91, 31, 16, 56, 20, 65, 98, 27, 97, 41, 17, 40, 44, 14, 54, 83, 74, 46, 68, 97, 15, 22, 89, 12, 70, 63, 89, 82, 91, 12, 14, 83, 39, 0, 61, 8, 98, 100, 80, 75, 39, 88, 45, 24, 100, 5, 35, 53, 88, 96, 15, 51, 50, 58, 49, 74, 58, 73, 24, 11, 67, 20, 45, 64, 55, 4, 45, 45, 70, 98, 12, 95, 32, 17, 99, 48, 4, 12, 98, 81, 3, 49, 74, 64, 80, 74, 71, 55, 54, 28, 34, 20, 4, 72, 21, 76, 81, 11, 61, 77, 93, 77, 72, 54, 31, 73, 21, 41, 68, 59, 41, 83, 34, 61, 16, 67]\n"
          ]
        }
      ]
    },
    {
      "cell_type": "markdown",
      "source": [
        "8. Escreva um algoritmo para fazer a soma de dois vetores de 10 elementos reais lidos do\n",
        "teclado. O primeiro elemento do primeiro vetor deverá ser adicionado ao primeiro elemento do\n",
        "segundo vetor e, o resultado deverá ser acumulado em um terceiro vetor também de 10\n",
        "elementos. Imprimir os três vetores conforme layout de impressão abaixo:\n",
        "* VETOR 1: __ __ __ __ __ __ __ __ __ __\n",
        "* VETOR 2: __ __ __ __ __ __ __ __ __ __\n",
        "* VETOR 3: __ __ __ __ __ __ __ __ __ __"
      ],
      "metadata": {
        "id": "Fpe1U5od721J"
      }
    },
    {
      "cell_type": "code",
      "source": [
        "vetor1 = []\n",
        "vetor2 = []\n",
        "vetor3 = []\n",
        "for i in range(0, 10):\n",
        "  vetor1.append(int(input('Digite um valor para o vetor 1: ')))\n",
        "for i in range(0, 10):\n",
        "  vetor2.append(int(input('Digite um valor para o vetor 2: ')))\n",
        "for i in range(0, 10):\n",
        "  vetor3.append(vetor1[i]+vetor2[i])\n",
        "print(f\"Vetor 1: {vetor1}\")\n",
        "print(f\"Vetor 2: {vetor2}\")\n",
        "print(f\"Vetor 3: {vetor3}\")"
      ],
      "metadata": {
        "id": "rWkC4_qKBV7Y",
        "colab": {
          "base_uri": "https://localhost:8080/"
        },
        "outputId": "8afdf2ad-8f31-4d94-c984-0ccecb7ba80b"
      },
      "execution_count": null,
      "outputs": [
        {
          "output_type": "stream",
          "name": "stdout",
          "text": [
            "Digite um valor para o vetor 1: 1\n",
            "Digite um valor para o vetor 1: 2\n",
            "Digite um valor para o vetor 1: 3\n",
            "Digite um valor para o vetor 1: 4\n",
            "Digite um valor para o vetor 1: 5\n",
            "Digite um valor para o vetor 1: 6\n",
            "Digite um valor para o vetor 1: 7\n",
            "Digite um valor para o vetor 1: 8\n",
            "Digite um valor para o vetor 1: 9\n",
            "Digite um valor para o vetor 1: 10\n",
            "Digite um valor para o vetor 2: 1\n",
            "Digite um valor para o vetor 2: 2\n",
            "Digite um valor para o vetor 2: 3\n",
            "Digite um valor para o vetor 2: 4\n",
            "Digite um valor para o vetor 2: 5\n",
            "Digite um valor para o vetor 2: 6\n",
            "Digite um valor para o vetor 2: 7\n",
            "Digite um valor para o vetor 2: 8\n",
            "Digite um valor para o vetor 2: 9\n",
            "Digite um valor para o vetor 2: 10\n",
            "Vetor 1: [1, 2, 3, 4, 5, 6, 7, 8, 9, 10]\n",
            "Vetor 2: [1, 2, 3, 4, 5, 6, 7, 8, 9, 10]\n",
            "Vetor 3: [2, 4, 6, 8, 10, 12, 14, 16, 18, 20]\n"
          ]
        }
      ]
    },
    {
      "cell_type": "markdown",
      "source": [
        "9. Fazer um algoritmo que:\n",
        "* a) Leia duas variáveis compostas unidimensionais, contendo, cada uma, 25 elementos numéricos;\n",
        "* b) intercale os elementos desses dois conjuntos formando uma nova variável composta\n",
        "unidimensional de 50 elementos;\n",
        "* c) Escreva o resultado obtido."
      ],
      "metadata": {
        "id": "k8Vt6ffm780J"
      }
    },
    {
      "cell_type": "code",
      "source": [
        "from random import randint\n",
        "vetor1 = []\n",
        "vetor2 = []\n",
        "vetor3 = []\n",
        "for i in range(0, 25):\n",
        "  vetor1.append(int(randint(0, 100)))\n",
        "for i in range(0, 25):\n",
        "  vetor2.append(int(randint(0, 100)))\n",
        "for i in range(0, 25):\n",
        "  vetor3.append(vetor1[i])\n",
        "  vetor3.append(vetor2[i])\n",
        "print(f\"Vetor 1 = {vetor1}\")\n",
        "print(f\"Vetor 2 = {vetor2}\")\n",
        "print(f\"Vetor 3 = {vetor3}\")\n",
        "\n"
      ],
      "metadata": {
        "id": "OxixiQyHBW5I",
        "colab": {
          "base_uri": "https://localhost:8080/"
        },
        "outputId": "b21cb30c-73da-4d34-8465-040226e5459b"
      },
      "execution_count": null,
      "outputs": [
        {
          "output_type": "stream",
          "name": "stdout",
          "text": [
            "Vetor 1 = [25, 4, 1, 95, 100, 13, 74, 27, 33, 23, 95, 4, 61, 59, 96, 32, 43, 10, 61, 73, 64, 28, 89, 99, 3]\n",
            "Vetor 2 = [47, 24, 77, 91, 31, 80, 61, 43, 58, 82, 20, 70, 19, 71, 29, 38, 67, 69, 89, 37, 37, 85, 90, 20, 3]\n",
            "Vetor 3 = [25, 47, 4, 24, 1, 77, 95, 91, 100, 31, 13, 80, 74, 61, 27, 43, 33, 58, 23, 82, 95, 20, 4, 70, 61, 19, 59, 71, 96, 29, 32, 38, 43, 67, 10, 69, 61, 89, 73, 37, 64, 37, 28, 85, 89, 90, 99, 20, 3, 3]\n"
          ]
        }
      ]
    },
    {
      "cell_type": "markdown",
      "source": [
        "10. Escreva um algoritmo que:\n",
        "\n",
        "  a) leia 100 valores numéricos e os armazene numa variável composta unidimensional A;\n",
        "\n",
        "  b) calcule e escreva:\n",
        "\n",
        "  $s=\\sum _{i=0}^{99}\\:=\\frac{i}{a_i}$, onde ai é o i-ésimo valor armazenado na variável A;\n",
        "\n",
        "  c) calcule e escreva quantos termos da série acima têm o numerador menor do que o denominador."
      ],
      "metadata": {
        "id": "2NHBDc4x8DFS"
      }
    },
    {
      "cell_type": "code",
      "source": [
        "from random import randint\n",
        "a = []\n",
        "s = cont = 0\n",
        "for i in range(100):\n",
        "  a.append(int(randint(1, 100)))\n",
        "for i in range(100):\n",
        "  s += (i/a[i])\n",
        "for i in range(100):\n",
        "  if i < a[i]:\n",
        "    cont += 1\n",
        "print(f\"S = {s}\")\n",
        "print(f\"Contador = {cont}\")"
      ],
      "metadata": {
        "id": "dBNXrtbiBYDQ",
        "colab": {
          "base_uri": "https://localhost:8080/"
        },
        "outputId": "442bbf10-8cee-4128-e0d6-f0bed3273b63"
      },
      "execution_count": null,
      "outputs": [
        {
          "output_type": "stream",
          "name": "stdout",
          "text": [
            "S = 231.65230218473104\n",
            "Contador = 51\n"
          ]
        }
      ]
    },
    {
      "cell_type": "markdown",
      "source": [
        "11. Faça um algoritmo que leia um conjunto de 10 elementos reais e os coloque em um vetor. Construa um segundo vetor formado da seguinte maneira:\n",
        "\n",
        "  • Os elementos de ordem par são os correspondentes do primeiro vetor multiplicados por 3.\n",
        "\n",
        "  • Os elementos de ordem ímpar são os correspondentes do primeiro vetor divididos por 2.\n",
        "\n",
        "  • Imprima os dois vetores."
      ],
      "metadata": {
        "id": "3k8owepw-pdW"
      }
    },
    {
      "cell_type": "code",
      "source": [
        "import random\n",
        "vetor1 = []\n",
        "par = []\n",
        "impar = []\n",
        "for i in range(0,10):\n",
        "  vetor1.append(round(random.random(),2))\n",
        "for i in vetor1:\n",
        "  par.append(i*3)\n",
        "  impar.append(i/2)\n",
        "print(f\"Vetor 1: {vetor1}\")\n",
        "print(f\"Par: {par}\")\n",
        "print(f\"Impar: {impar}\")"
      ],
      "metadata": {
        "id": "_duQzYKXBYtw",
        "colab": {
          "base_uri": "https://localhost:8080/"
        },
        "outputId": "1cee6fcf-0812-4c12-80df-504d2c408d4b"
      },
      "execution_count": null,
      "outputs": [
        {
          "output_type": "stream",
          "name": "stdout",
          "text": [
            "Vetor 1: [0.73, 0.99, 0.64, 0.61, 0.14, 0.12, 0.14, 0.56, 0.03, 0.92]\n",
            "Par: [2.19, 2.9699999999999998, 1.92, 1.83, 0.42000000000000004, 0.36, 0.42000000000000004, 1.6800000000000002, 0.09, 2.7600000000000002]\n",
            "Impar: [0.365, 0.495, 0.32, 0.305, 0.07, 0.06, 0.07, 0.28, 0.015, 0.46]\n"
          ]
        }
      ]
    },
    {
      "cell_type": "markdown",
      "source": [
        "12. Escreva um algoritmo que:\n",
        "\n",
        "  a) leia um conjunto A de 20 elementos a partir de uma unidade de entrada;\n",
        "\n",
        "  b) calcule e imprima o valor de S, onde:\n",
        "\n",
        "  $$s=\\left(A\\left[0\\right]\\:-\\:A\\left[19\\right]\\right)^2+\\left(A\\left[1\\right]\\:-\\:A\\left[18\\right]\\right)^2+...+\\left(A\\left[9\\right]\\:-\\:A\\left[10\\right]\\right)^2$$"
      ],
      "metadata": {
        "id": "Sf7BC86E-uWW"
      }
    },
    {
      "cell_type": "code",
      "source": [
        "s = 0\n",
        "print(\"Digite um conjunto de 20 elementos: \", end=\"\")\n",
        "a = [int(i) for i in input().split()]\n",
        "for i, v in enumerate(a):\n",
        "  if i == 9:\n",
        "    break\n",
        "  else:\n",
        "    s += (a[i] - a[19-i])**2\n",
        "print(f\"O conjunto de elementos é {a}\")\n",
        "print(f'S = {s}')"
      ],
      "metadata": {
        "id": "KzaZYMx_BZaQ",
        "colab": {
          "base_uri": "https://localhost:8080/"
        },
        "outputId": "872b7230-2fd1-4a6e-9227-cad280b1e56d"
      },
      "execution_count": null,
      "outputs": [
        {
          "output_type": "stream",
          "name": "stdout",
          "text": [
            "Digite um conjunto de 20 elementos: 1 2 3 4 5 6 7 8 9 10 11 12 13 14 15 16 17 18 19 20\n",
            "O conjunto de elementos é [1, 2, 3, 4, 5, 6, 7, 8, 9, 10, 11, 12, 13, 14, 15, 16, 17, 18, 19, 20]\n",
            "S = 1329\n"
          ]
        }
      ]
    },
    {
      "cell_type": "markdown",
      "source": [
        "13. Escreva um algoritmo que:\n",
        "\n",
        "  a) leia uma frase de 50 caracteres;\n",
        "\n",
        "  b) conte quantos brancos existem na frase;\n",
        "\n",
        "  c) conte quantas vezes a letra “A” aparece;\n",
        "\n",
        "  d) imprima o que foi calculado nos itens b e c."
      ],
      "metadata": {
        "id": "VRuI7JVu-yaG"
      }
    },
    {
      "cell_type": "code",
      "source": [
        "tot_branco = tot_a = 0\n",
        "frase = str(input(\"Digite uma frase: \")).upper()\n",
        "for i in frase:\n",
        "  if i ==\" \":\n",
        "    tot_branco += 1\n",
        "  elif i == \"A\":\n",
        "    tot_a += 1\n",
        "print(f\"A frase digitada foi: {frase.capitalize()}\")\n",
        "print(f\"Existem {tot_branco} brancos na frase\")\n",
        "print(f\"A letra A aparece {tot_a} vezes\")"
      ],
      "metadata": {
        "id": "p7SQ72w0BaHK",
        "colab": {
          "base_uri": "https://localhost:8080/"
        },
        "outputId": "3c7805ed-8ffe-4e19-bc06-dafbfc866e0a"
      },
      "execution_count": null,
      "outputs": [
        {
          "output_type": "stream",
          "name": "stdout",
          "text": [
            "Digite uma frase: Quack quack\n",
            "A frase digitada foi: Quack quack\n",
            "Existem 1 brancos na frase\n",
            "A letra A aparece 2 vezes\n"
          ]
        }
      ]
    },
    {
      "cell_type": "markdown",
      "source": [
        "14. Um armazém trabalha com 100 mercadorias diferentes identificadas pelos números inteiros de 0 a 99. O dono do armazém anota a quantidade de cada mercadoria vendida durante o mês.\n",
        "\n",
        "  Ele tem uma tabela mensal que indica para cada mercadoria o preço de venda. Escreva o algoritmo para calcular o faturamento mensal do armazém, isto é:\n",
        "\n",
        "  $$FATURAMENTO\\:=\\:\\sum _{I=0}^{99}\\:\\left(QUANTIDADE_i+PREÇO_i\\right)$$\n",
        "\n",
        "  As tabelas de preço e quantidade são fornecidas em dois vetores."
      ],
      "metadata": {
        "id": "qRHbzRSY-1YW"
      }
    },
    {
      "cell_type": "code",
      "source": [
        "faturamento = 0\n",
        "preco = []\n",
        "quant = []\n",
        "for mercadoria in range(0, 10):\n",
        "  p = float(input(f'Qual é o preço da mercadoria {mercadoria}? '))\n",
        "  q = int(input(f'Qual foi a quantidade vendida da mercadoria {mercadoria}? '))\n",
        "  preco.append(p)\n",
        "  quant.append(q)\n",
        "for i in range(0, 10):\n",
        "  faturamento += preco[i] * quant[i]\n",
        "print(f'Produto \\tQuantidade \\tPreço')\n",
        "for i in range(0,10):\n",
        "  print(f'    {i}    \\t     {quant[i]}     \\t {preco[i]}   ')\n",
        "print()\n",
        "print(f'O faturamento foi de R${faturamento:.2f}')"
      ],
      "metadata": {
        "id": "Qu6WpB9DBayQ",
        "colab": {
          "base_uri": "https://localhost:8080/"
        },
        "outputId": "dbae6078-44e7-433d-9458-09cd74488a5c"
      },
      "execution_count": null,
      "outputs": [
        {
          "output_type": "stream",
          "name": "stdout",
          "text": [
            "Qual é o preço da mercadoria 0? 1\n",
            "Qual foi a quantidade vendida da mercadoria 0? 1\n",
            "Qual é o preço da mercadoria 1? 1\n",
            "Qual foi a quantidade vendida da mercadoria 1? 1\n",
            "Qual é o preço da mercadoria 2? 1\n",
            "Qual foi a quantidade vendida da mercadoria 2? 1\n",
            "Qual é o preço da mercadoria 3? 1\n",
            "Qual foi a quantidade vendida da mercadoria 3? 1\n",
            "Qual é o preço da mercadoria 4? 1\n",
            "Qual foi a quantidade vendida da mercadoria 4? 1\n",
            "Qual é o preço da mercadoria 5? 1\n",
            "Qual foi a quantidade vendida da mercadoria 5? 1\n",
            "Qual é o preço da mercadoria 6? 1\n",
            "Qual foi a quantidade vendida da mercadoria 6? 1\n",
            "Qual é o preço da mercadoria 7? 1\n",
            "Qual foi a quantidade vendida da mercadoria 7? 1\n",
            "Qual é o preço da mercadoria 8? 1\n",
            "Qual foi a quantidade vendida da mercadoria 8? 1\n",
            "Qual é o preço da mercadoria 9? 1\n",
            "Qual foi a quantidade vendida da mercadoria 9? 1\n",
            "Produto \tQuantidade \tPreço\n",
            "    0    \t     1     \t 1.0   \n",
            "    1    \t     1     \t 1.0   \n",
            "    2    \t     1     \t 1.0   \n",
            "    3    \t     1     \t 1.0   \n",
            "    4    \t     1     \t 1.0   \n",
            "    5    \t     1     \t 1.0   \n",
            "    6    \t     1     \t 1.0   \n",
            "    7    \t     1     \t 1.0   \n",
            "    8    \t     1     \t 1.0   \n",
            "    9    \t     1     \t 1.0   \n",
            "\n",
            "O faturamento foi de R$10.00\n"
          ]
        }
      ]
    },
    {
      "cell_type": "markdown",
      "source": [
        "15. Classificar um vetor numérico VET de 20 elementos em ordem crescente."
      ],
      "metadata": {
        "id": "19YnhR7q-4pG"
      }
    },
    {
      "cell_type": "code",
      "source": [
        "from random import randint\n",
        "VET = list()\n",
        "for i in range(0, 20):\n",
        "  VET.append(randint(0, 100))\n",
        "print(f'VET = {VET}')\n",
        "print(f'VET em ordem crescente = {sorted(VET)}')"
      ],
      "metadata": {
        "id": "H7RLJ83gBbPQ",
        "colab": {
          "base_uri": "https://localhost:8080/"
        },
        "outputId": "58c7ef08-5452-4ac2-a15d-c3b7233963b5"
      },
      "execution_count": null,
      "outputs": [
        {
          "output_type": "stream",
          "name": "stdout",
          "text": [
            "VET = [93, 12, 2, 8, 97, 93, 31, 71, 15, 31, 47, 88, 11, 94, 75, 89, 100, 11, 71, 46]\n",
            "VET em ordem crescente = [2, 8, 11, 11, 12, 15, 31, 31, 46, 47, 71, 71, 75, 88, 89, 93, 93, 94, 97, 100]\n"
          ]
        }
      ]
    },
    {
      "cell_type": "markdown",
      "source": [
        "16. Dado um vetor de 128 elementos, verificar se existe um elemento igual a K (chave) no vetor. Se existir, imprimir a posição onde foi encontrada a chave; se não; imprimir a mensagem: “CHAVE K NÃO ENCONTRADA”. O vetor A e a chave K são lidos a partir de uma unidade de entrada."
      ],
      "metadata": {
        "id": "OUplW4fT-8mf"
      }
    },
    {
      "cell_type": "code",
      "source": [
        "A = [i for i in input().split()]\n",
        "print(f'A = {A}')\n",
        "if 'K' in A:\n",
        "  for i, e in enumerate(A):\n",
        "    if e == 'K':\n",
        "      print(f'Chave K na posição {i}')\n",
        "else:\n",
        "  print('CHAVE K NÃO ENCONTRADA')\n"
      ],
      "metadata": {
        "id": "xP8dYBDfBcVJ",
        "colab": {
          "base_uri": "https://localhost:8080/"
        },
        "outputId": "a8485df0-3344-42f4-b734-3fc878ec7095"
      },
      "execution_count": null,
      "outputs": [
        {
          "output_type": "stream",
          "name": "stdout",
          "text": [
            "A S D F G H H J K L P O I U Y T R E W Q A S D F G H J K R K M N B V C X Z K \n",
            "A = ['A', 'S', 'D', 'F', 'G', 'H', 'H', 'J', 'K', 'L', 'P', 'O', 'I', 'U', 'Y', 'T', 'R', 'E', 'W', 'Q', 'A', 'S', 'D', 'F', 'G', 'H', 'J', 'K', 'R', 'K', 'M', 'N', 'B', 'V', 'C', 'X', 'Z', 'K']\n",
            "Chave K na posição 8\n",
            "Chave K na posição 27\n",
            "Chave K na posição 29\n",
            "Chave K na posição 37\n"
          ]
        }
      ]
    },
    {
      "cell_type": "code",
      "source": [
        "from random import randint\n",
        "A = list()\n",
        "for a in range(0, 128):\n",
        "  A.append(randint(0, 100))\n",
        "K = int(input('Digite a chave: '))\n",
        "print(f'A = {A}')\n",
        "if K in A:\n",
        "  for i, e in enumerate(A):\n",
        "    if e == K:\n",
        "      print(f'Chave {K} na posição {i}')\n",
        "else:\n",
        "  print(f'CHAVE {K} NÃO ENCONTRADA')\n"
      ],
      "metadata": {
        "colab": {
          "base_uri": "https://localhost:8080/"
        },
        "id": "ulHQuLL0f7Gd",
        "outputId": "f02b39e8-7caa-4e0f-b630-6f197f41276f"
      },
      "execution_count": null,
      "outputs": [
        {
          "output_type": "stream",
          "name": "stdout",
          "text": [
            "Digite a chave: 10\n",
            "A = [23, 35, 5, 5, 12, 67, 56, 96, 99, 9, 59, 69, 72, 97, 8, 7, 100, 51, 23, 15, 73, 11, 76, 86, 47, 41, 65, 67, 10, 37, 32, 6, 21, 31, 21, 65, 49, 99, 48, 6, 51, 100, 40, 17, 78, 10, 8, 78, 57, 43, 32, 94, 50, 36, 88, 67, 59, 38, 42, 37, 9, 53, 22, 80, 98, 41, 90, 7, 12, 39, 49, 95, 64, 88, 6, 29, 91, 64, 31, 65, 16, 25, 36, 91, 22, 61, 74, 24, 60, 18, 92, 20, 62, 17, 15, 35, 64, 34, 20, 40, 52, 6, 87, 88, 85, 48, 88, 17, 55, 76, 10, 34, 58, 78, 83, 95, 59, 50, 64, 18, 9, 80, 74, 47, 67, 50, 77, 1]\n",
            "128\n",
            "Chave 10 na posição 28\n",
            "Chave 10 na posição 45\n",
            "Chave 10 na posição 110\n"
          ]
        }
      ]
    },
    {
      "cell_type": "markdown",
      "source": [
        "17. Refaça o algoritmo acima otimizando-o usando uma técnica conhecida por Pesquisa Binária. Suponha primeiramente que o vetor já esteja ordenado. Procuramos então o elemento K dividindo o vetor em duas partes e testando em qual das duas partes ele deveria estar. Procede-se então, da mesma forma para a parte provável, e assim sucessivamente.\n",
        "\n",
        "  Obs.: na pesquisa sequencial simples (problema 16), o número médio de comparações que devem ser feitas até encontrar a chave é N/2, onde N é o número de elementos do vetor. No nosso caso, no algoritmo 16, teríamos, em média, 128/2 = 64 comparações. Na pesquisa binária, o número máximo de comparações é log2N. Teríamos, então, log2128=7 comparações, no máximo."
      ],
      "metadata": {
        "id": "j8UeMrmD-_fm"
      }
    },
    {
      "cell_type": "code",
      "source": [
        "from random import randint\n",
        "A = list()\n",
        "for a in range(0, 128):\n",
        "  A.append(randint(0, 100))\n",
        "A.sort()\n",
        "print(f'A = {A}')\n",
        "K = int(input('Digite a chave: '))\n",
        "inicio = 0\n",
        "final = 127\n",
        "while True:\n",
        "    if inicio <= final:\n",
        "        meio = (inicio + final)//2\n",
        "        if A[meio] == K:\n",
        "            print(f'A chave {K} está na posição {meio}')\n",
        "            break\n",
        "        if A[meio] < K:\n",
        "            inicio = meio + 1\n",
        "        elif A[meio] > K:\n",
        "            final = meio - 1\n",
        "    else:\n",
        "        print(f'CHAVE {K} NÃO ENCONTRADA')\n",
        "        break"
      ],
      "metadata": {
        "id": "91FpqbxZBdFg",
        "colab": {
          "base_uri": "https://localhost:8080/"
        },
        "outputId": "0c83da1f-6d59-44ca-c7a8-4327198abebd"
      },
      "execution_count": null,
      "outputs": [
        {
          "output_type": "stream",
          "name": "stdout",
          "text": [
            "A = [0, 2, 2, 3, 3, 3, 4, 5, 6, 6, 7, 7, 10, 10, 11, 11, 12, 14, 16, 17, 17, 18, 19, 19, 20, 21, 21, 22, 23, 24, 24, 24, 25, 25, 26, 28, 30, 30, 30, 30, 33, 33, 33, 34, 37, 37, 38, 39, 39, 39, 40, 41, 41, 42, 43, 44, 46, 48, 51, 51, 53, 55, 55, 58, 58, 59, 60, 60, 61, 61, 62, 63, 63, 65, 66, 68, 69, 69, 69, 70, 71, 71, 71, 71, 71, 71, 73, 75, 75, 76, 77, 77, 78, 79, 80, 80, 80, 81, 81, 82, 82, 82, 83, 83, 85, 85, 85, 85, 85, 86, 87, 88, 89, 90, 92, 94, 94, 95, 95, 95, 96, 97, 98, 98, 99, 99, 100, 100]\n",
            "Digite a chave: 3\n",
            "A chave 3 está na posição 3\n"
          ]
        }
      ]
    },
    {
      "cell_type": "markdown",
      "source": [
        "18. Faça um algoritmo qualquer que leia uma matriz A de 15 linhas por 25 colunas e imprima o seu conteúdo."
      ],
      "metadata": {
        "id": "jYUyFbqZ_D_X"
      }
    },
    {
      "cell_type": "code",
      "source": [
        "from random import randint\n",
        "A = list()\n",
        "for l in range(0, 15):\n",
        "  A.append([])\n",
        "  for c in range(0, 25):\n",
        "    A[l].append(randint(0, 100))\n",
        "for l in range(0, 15):\n",
        "  for c in range(0, 25):\n",
        "    print(f'{A[l][c]:^5}', end='')\n",
        "  print()"
      ],
      "metadata": {
        "id": "gnaipYuWBd0A",
        "colab": {
          "base_uri": "https://localhost:8080/"
        },
        "outputId": "4007a9de-6741-4de9-c0b7-0be1270c3310"
      },
      "execution_count": null,
      "outputs": [
        {
          "output_type": "stream",
          "name": "stdout",
          "text": [
            " 18   49   63   21   81   41    0   63   55   24   57   22   31   91   70   43   78   96   98    4   86   97    5   30   50  \n",
            " 35   32   63   37    9   12   78   43   15   51    9   40   33   51   29   64   18   27   67   52   13   43    6   54    2  \n",
            " 78   51   85   79   30   67   18   10   17   87   38   99   93   72    1   69   21    9   63    7   39   51   54   79   71  \n",
            "  1   67   74   12   82   47   52   98   22   18   31   39   80   90   57   27   92   81   47   20   74   45   22   59   100 \n",
            " 95   36   86   17   59   36   44   39   99   79   84   68   24   31   13   49   67   72   63   13   43    6   98   12   26  \n",
            " 19   90   35   54   40   60   98   99   98   73   74   21    9   71   22   17   39   59   20   91   23   69   79   46   86  \n",
            " 64   53    6    3   64   87   73   56   53   38    2   18   56    4   15   94   26   20   60   41   10   60   95   24   57  \n",
            " 55   92    8   40   100   1   33   14   94   48   22    1   67   93   65   31   80   36   82   58   94   95   96   32   42  \n",
            "  8   38   37    8   50   16   12   13   32   16   66   72   27   49    7    9   81    3   36    7   30   95   15   99   73  \n",
            " 45   92   47   72   79   45   25   24    2   70    2   25   21   84    9   63   34   63   89   83    2   59   44    1   29  \n",
            " 43   65   45   26   31   71   59   74   12   46   86   29   57   76   18   70   35    2   42   38   98   67   19   83   34  \n",
            " 47    7   11   12   62   81   25    4   49   58   11   100  98   18   31   23   61   10    8   46    9   100   5   20   10  \n",
            "  9   76   94   61   35   32   60   98   74    0   75   63   98   48   87   21   38   81   20   14   86   89   37   69   49  \n",
            " 45   29    7   50   58   52   50   50   96   39   54   53   12   24   37   65    4   58    5   61   41   76   44   35   27  \n",
            " 99   49   56   68   94   55   63   85   45   17   78   92   94   98   10   35    8   37   86   99   34   68   84   88   32  \n"
          ]
        }
      ]
    },
    {
      "cell_type": "markdown",
      "source": [
        "19. Dada uma matriz B, de 10 linhas por 20 colunas, escrever um algoritmo que calcula e imprima o somatório dos elementos da quinta linha."
      ],
      "metadata": {
        "id": "AjB4yZvT_HCP"
      }
    },
    {
      "cell_type": "code",
      "source": [
        "from random import randint\n",
        "B = list()\n",
        "for l in range(0, 10):\n",
        "  B.append([])\n",
        "  for c in range(0, 20):\n",
        "    B[l].append(randint(0, 100))\n",
        "for l in range(0, 10):\n",
        "  for c in range(0, 20):\n",
        "    print(f'{B[l][c]:^5}', end='')\n",
        "  print()\n",
        "print()\n",
        "print(f'A somatória da quinta linha é {sum(B[4])}')"
      ],
      "metadata": {
        "id": "1aZ_gLU1BeQp",
        "colab": {
          "base_uri": "https://localhost:8080/"
        },
        "outputId": "a22ec39b-3c83-4fa9-8c6a-bfdd64c42ec7"
      },
      "execution_count": null,
      "outputs": [
        {
          "output_type": "stream",
          "name": "stdout",
          "text": [
            " 56   68   92   28   84   39   55   20   62   21   15   88   14   73   78   70   18   18    1   50  \n",
            " 59   94   13   67   58   38   54   96   40   68    0   29   26   15   74   50   75   29   64   38  \n",
            " 45   98   35   72   35   77   30   17   73   39   16   10    7   23   52   93   33   42    6   36  \n",
            " 91   63   89   94   83   66    4    4   26   74   33   61   71   17   98   38   81   67   99   34  \n",
            " 92   79   46   17   83    5   70   44   19    3   39   23   11    7   76   75   66   77   52   72  \n",
            " 26   51   90   30   42   42    8   84   89   47   93   56   60   22   36   22   41   82   27    6  \n",
            " 89   67   76   94   38   32   81    0    9   54   66   22   90   76   95   68   27   89   39   94  \n",
            " 67   51   74   11    0   49   96   55   62   96    5   86   71   57   60   90   43   46   27    8  \n",
            " 77   62   68    8    2    5    2   56   55   59   19   56   21   68   68   92   47   66   79   10  \n",
            " 69   91    7   53   35   95   71    6   64   18   39   37   75   76   76   58   95    1   46   73  \n",
            "\n",
            "A somatória da quinta linha é 956\n"
          ]
        }
      ]
    },
    {
      "cell_type": "markdown",
      "source": [
        "20. Dada uma tabela de 4 x 5 elementos, calcular a soma de cada linha e a soma de todos os elementos."
      ],
      "metadata": {
        "id": "SpXCHBaq_Kgv"
      }
    },
    {
      "cell_type": "code",
      "source": [
        "from random import randint\n",
        "tabela = list()\n",
        "tot = 0\n",
        "for l in range(0, 4):\n",
        "  tabela.append([])\n",
        "  for c in range(0, 5):\n",
        "    tabela[l].append(randint(0, 10))\n",
        "for l in range(0, 4):\n",
        "  for c in range(0, 5):\n",
        "    print(f'{tabela[l][c]:^5}', end='')\n",
        "  print()\n",
        "print()\n",
        "for i, l in enumerate(tabela):\n",
        "  print(f'A somatória da linha {i} é {sum(l)}')\n",
        "  tot += sum(l)\n",
        "print(f'A soma de todos elementos é {tot}')"
      ],
      "metadata": {
        "id": "vXxksBEjBeu5",
        "colab": {
          "base_uri": "https://localhost:8080/"
        },
        "outputId": "10cb0231-aaac-4a19-9087-92e2426b9f87"
      },
      "execution_count": null,
      "outputs": [
        {
          "output_type": "stream",
          "name": "stdout",
          "text": [
            " 10    3    5    2    3  \n",
            "  7    2    0    9    4  \n",
            "  8    6    8    7    6  \n",
            "  1    4    6    4    6  \n",
            "\n",
            "A somatória da linha 0 é 23\n",
            "A somatória da linha 1 é 22\n",
            "A somatória da linha 2 é 35\n",
            "A somatória da linha 3 é 21\n",
            "A soma de todos elementos é 101\n"
          ]
        }
      ]
    },
    {
      "cell_type": "markdown",
      "source": [
        "21. Elabore um algoritmo que leia uma matriz 4 x 4 e escreva a matriz resultante após ter multiplicado os elementos da diagonal principal por uma constante k."
      ],
      "metadata": {
        "id": "ePUpNFaF_OPX"
      }
    },
    {
      "cell_type": "code",
      "source": [
        "from random import randint\n",
        "matriz = list()\n",
        "k = int(input('Digite a constante: '))\n",
        "print()\n",
        "for l in range(0, 4):\n",
        "  matriz.append([])\n",
        "  for c in range(0, 4):\n",
        "    matriz[l].append(randint(0, 10))\n",
        "for l in range(0, 4):\n",
        "  for c in range(0, 4):\n",
        "    print(f'{matriz[l][c]:^5}', end='')\n",
        "  print()\n",
        "print()\n",
        "print(f'Diagonal principal multiplicada por {k}: ')\n",
        "for i in range(0, 4):\n",
        "  matriz[i][i] = matriz[i][i] * k\n",
        "for l in range(0, 4):\n",
        "  for c in range(0, 4):\n",
        "    print(f'{matriz[l][c]:^5}', end='')\n",
        "  print()"
      ],
      "metadata": {
        "id": "o5u86b-kBfbI",
        "colab": {
          "base_uri": "https://localhost:8080/"
        },
        "outputId": "f161d7f4-e376-491a-840f-ee3434357b9e"
      },
      "execution_count": null,
      "outputs": [
        {
          "output_type": "stream",
          "name": "stdout",
          "text": [
            "Digite a constante: 2\n",
            "\n",
            "  3    4    3    1  \n",
            "  0    2    3    0  \n",
            "  3    1    9    7  \n",
            "  8   10    2    1  \n",
            "\n",
            "Diagonal principal multiplicada por 2: \n",
            "  6    4    3    1  \n",
            "  0    4    3    0  \n",
            "  3    1   18    7  \n",
            "  8   10    2    2  \n"
          ]
        }
      ]
    },
    {
      "cell_type": "markdown",
      "source": [
        "22. Escreva um algoritmo que:\n",
        "\n",
        "  a) leia uma matriz quadrada 20 x 20 de elementos reais;\n",
        "\n",
        "  b) divida cada elemento de uma linha da matriz pelo elemento da diagonal principal dessa linha;\n",
        "\n",
        "  c) imprima a matriz assim modificada;"
      ],
      "metadata": {
        "id": "jaTPhcgS_RHg"
      }
    },
    {
      "cell_type": "code",
      "source": [
        "from random import randint\n",
        "matriz = list()\n",
        "print()\n",
        "for l in range(0, 20):\n",
        "  matriz.append([])\n",
        "  for c in range(0, 20):\n",
        "    matriz[l].append(randint(1, 10))\n",
        "for l in range(0, 20):\n",
        "  for c in range(0, 20):\n",
        "    print(f'{matriz[l][c]:^5}', end='')\n",
        "  print()\n",
        "print()\n",
        "print('Matriz modificada: ')\n",
        "for l in range(0, 20):\n",
        "  principal = matriz[l][l]\n",
        "  for c in range(0, 20):\n",
        "    matriz[l][c] = matriz[l][c] / principal\n",
        "    print(f'{matriz[l][c]:^5.2f}', end='')\n",
        "  print()\n"
      ],
      "metadata": {
        "id": "oLSs4nYmBgGg",
        "colab": {
          "base_uri": "https://localhost:8080/"
        },
        "outputId": "8be03f88-3fd5-4293-ee39-1fcf87d053d0"
      },
      "execution_count": null,
      "outputs": [
        {
          "output_type": "stream",
          "name": "stdout",
          "text": [
            "\n",
            " 10    1   10    9    5   10    2    4    1    2    7    6    2   10   10    4    5    2   10    4  \n",
            "  3   10    1    9    9    2    6   10    2    1    6    5    2    7    9    2    3    9    1    7  \n",
            " 10    5    3    8    7    9    6    3    1    1    7    4    6    4    5    8    4    1    2    2  \n",
            "  8    2    7    4    9    2    5    9    2    3    5    5   10   10    4    1    1    7    2    5  \n",
            "  6    6    7    4    2    3    8    8    3    9    8    6    2    9    2    9    5    9    6    3  \n",
            "  7    4    3    3    2    2    2    9    7    6    8    3    2    7    2    9   10    8    6    4  \n",
            "  1    4    7    6   10    5    3   10    1    9    7    9    4    8    1   10    2    3    5    1  \n",
            "  9    4    6    4    6    5    2    7    6    7    2    6    6    8    7    9    9    2    4    4  \n",
            "  5   10   10    3    9    9    1    1    4    1    9    2   10   10    4    1    8    1    1    2  \n",
            "  6    7    1    2    3    1    7    8    7    5    2    1    7    5    9   10    6    6    1    9  \n",
            "  7    2    6    9    5    4   10    3    1    2   10    9    5    6    5   10    4    5    4    8  \n",
            "  5    2   10    8    9   10    2    1    5   10    9    6    6    7    4    3    7    4    6    8  \n",
            "  4    5    4    8   10    7    5    6    2    9    6    5    4    7    9    8    3    9    2    4  \n",
            "  1    8    3    2    6    1    7    4    8    6    1   10    3   10    7    7    7    3    2    7  \n",
            "  8   10   10    1    3    9    8    1   10    5    9    2    9    1    2    1    3   10    3    1  \n",
            "  3    3    2    7    6    2    5    4    9    9    2    5    1    8    8    4    7    6    6    4  \n",
            "  2    3    4    4    3    7    5    5    5    2    6    2    5    6    4    7    2    3    7    5  \n",
            " 10    3    3    2    4    2    4    9   10    9    1    2    1    6    1    1   10    2    1   10  \n",
            "  2   10    9    3    1    1    3    8    1    2    2    5    7    5    8    6    5    6    9    1  \n",
            "  9    7    1    1    7    3    9    2    7    2    6   10    6   10    1    2    7   10    1   10  \n",
            "\n",
            "1.00 0.10 1.00 0.90 0.50 1.00 0.20 0.40 0.10 0.20 0.70 0.60 0.20 1.00 1.00 0.40 0.50 0.20 1.00 0.40 \n",
            "0.30 1.00 0.10 0.90 0.90 0.20 0.60 1.00 0.20 0.10 0.60 0.50 0.20 0.70 0.90 0.20 0.30 0.90 0.10 0.70 \n",
            "3.33 1.67 1.00 2.67 2.33 3.00 2.00 1.00 0.33 0.33 2.33 1.33 2.00 1.33 1.67 2.67 1.33 0.33 0.67 0.67 \n",
            "2.00 0.50 1.75 1.00 2.25 0.50 1.25 2.25 0.50 0.75 1.25 1.25 2.50 2.50 1.00 0.25 0.25 1.75 0.50 1.25 \n",
            "3.00 3.00 3.50 2.00 1.00 1.50 4.00 4.00 1.50 4.50 4.00 3.00 1.00 4.50 1.00 4.50 2.50 4.50 3.00 1.50 \n",
            "3.50 2.00 1.50 1.50 1.00 1.00 1.00 4.50 3.50 3.00 4.00 1.50 1.00 3.50 1.00 4.50 5.00 4.00 3.00 2.00 \n",
            "0.33 1.33 2.33 2.00 3.33 1.67 1.00 3.33 0.33 3.00 2.33 3.00 1.33 2.67 0.33 3.33 0.67 1.00 1.67 0.33 \n",
            "1.29 0.57 0.86 0.57 0.86 0.71 0.29 1.00 0.86 1.00 0.29 0.86 0.86 1.14 1.00 1.29 1.29 0.29 0.57 0.57 \n",
            "1.25 2.50 2.50 0.75 2.25 2.25 0.25 0.25 1.00 0.25 2.25 0.50 2.50 2.50 1.00 0.25 2.00 0.25 0.25 0.50 \n",
            "1.20 1.40 0.20 0.40 0.60 0.20 1.40 1.60 1.40 1.00 0.40 0.20 1.40 1.00 1.80 2.00 1.20 1.20 0.20 1.80 \n",
            "0.70 0.20 0.60 0.90 0.50 0.40 1.00 0.30 0.10 0.20 1.00 0.90 0.50 0.60 0.50 1.00 0.40 0.50 0.40 0.80 \n",
            "0.83 0.33 1.67 1.33 1.50 1.67 0.33 0.17 0.83 1.67 1.50 1.00 1.00 1.17 0.67 0.50 1.17 0.67 1.00 1.33 \n",
            "1.00 1.25 1.00 2.00 2.50 1.75 1.25 1.50 0.50 2.25 1.50 1.25 1.00 1.75 2.25 2.00 0.75 2.25 0.50 1.00 \n",
            "0.10 0.80 0.30 0.20 0.60 0.10 0.70 0.40 0.80 0.60 0.10 1.00 0.30 1.00 0.70 0.70 0.70 0.30 0.20 0.70 \n",
            "4.00 5.00 5.00 0.50 1.50 4.50 4.00 0.50 5.00 2.50 4.50 1.00 4.50 0.50 1.00 0.50 1.50 5.00 1.50 0.50 \n",
            "0.75 0.75 0.50 1.75 1.50 0.50 1.25 1.00 2.25 2.25 0.50 1.25 0.25 2.00 2.00 1.00 1.75 1.50 1.50 1.00 \n",
            "1.00 1.50 2.00 2.00 1.50 3.50 2.50 2.50 2.50 1.00 3.00 1.00 2.50 3.00 2.00 3.50 1.00 1.50 3.50 2.50 \n",
            "5.00 1.50 1.50 1.00 2.00 1.00 2.00 4.50 5.00 4.50 0.50 1.00 0.50 3.00 0.50 0.50 5.00 1.00 0.50 5.00 \n",
            "0.22 1.11 1.00 0.33 0.11 0.11 0.33 0.89 0.11 0.22 0.22 0.56 0.78 0.56 0.89 0.67 0.56 0.67 1.00 0.11 \n",
            "0.90 0.70 0.10 0.10 0.70 0.30 0.90 0.20 0.70 0.20 0.60 1.00 0.60 1.00 0.10 0.20 0.70 1.00 0.10 1.00 \n"
          ]
        }
      ]
    },
    {
      "cell_type": "markdown",
      "source": [
        "23. Faça um algoritmo que:\n",
        "\n",
        "  a) leia uma matriz 10 x 10 de elementos inteiros;\n",
        "\n",
        "  b) imprima essa matriz;\n",
        "\n",
        "  c) calcule e imprima a soma dos elementos situados abaixo da diagonal principal da matriz, incluindo os elementos da própria diagonal principal."
      ],
      "metadata": {
        "id": "FPaMjqL9_Uh4"
      }
    },
    {
      "cell_type": "code",
      "source": [
        "from random import randint\n",
        "matriz = list()\n",
        "soma = 0\n",
        "for l in range(0, 10):\n",
        "  matriz.append([])\n",
        "  for c in range(0, 10):\n",
        "    matriz[l].append(randint(0, 100))\n",
        "for l in range(0, 10):\n",
        "  for c in range(0, 10):\n",
        "    print(f'{matriz[l][c]:^5}', end='')\n",
        "  print()\n",
        "print()\n",
        "for l in range(0, 10):\n",
        "   soma += matriz[l][l]\n",
        "   for a in range(l+1, 10):\n",
        "    soma += matriz[a][l]\n",
        "print(f'A soma dos elementos situados abaixo da diagonal principal da matriz, incluindo os elementos da própria diagonal principal é: {soma}')"
      ],
      "metadata": {
        "id": "bQM-kt6ZBg6x",
        "colab": {
          "base_uri": "https://localhost:8080/"
        },
        "outputId": "db1548c8-a856-4196-dcaf-b0e8ff663f50"
      },
      "execution_count": null,
      "outputs": [
        {
          "output_type": "stream",
          "name": "stdout",
          "text": [
            " 70   93   39    3   53   76   21   40   71   69  \n",
            " 62   20   28   62   74   25   83   56   86   36  \n",
            " 56   21   86   55   68   94   98   78   39   55  \n",
            " 63   65   68   12    9   42   49   30   50   56  \n",
            " 97   17   51   85   31   84    7   53   56   38  \n",
            " 86   70   22   88   21   40   81   92   37   23  \n",
            "  6   52   27   51    9   56   74    1   19   49  \n",
            " 93   96   53   85   21   15   32   92   32   89  \n",
            " 76   29    5   29   19   98   96   11   25   61  \n",
            " 57   76   25   88   84   44   40   66   63   82  \n",
            "\n",
            "A soma dos elementos situados abaixo da diagonal principal da matriz, incluindo os elementos da própria diagonal principal é: 2906\n"
          ]
        }
      ]
    },
    {
      "cell_type": "markdown",
      "source": [
        "24. Escreva um algoritmo que leia duas matrizes reais de dimensão 3 x 5, calcule e imprima a sua soma."
      ],
      "metadata": {
        "id": "ujy0HK7V_Xbo"
      }
    },
    {
      "cell_type": "code",
      "source": [
        "from random import randint\n",
        "matriz1 = list()\n",
        "matriz2 = list()\n",
        "matrizsoma = list()\n",
        "for l in range(0, 5):\n",
        "  matriz1.append([])\n",
        "  for c in range(0, 3):\n",
        "    matriz1[l].append(randint(0, 10))\n",
        "for l in range(0, 5):\n",
        "  matriz2.append([])\n",
        "  for c in range(0, 3):\n",
        "    matriz2[l].append(randint(0, 10))\n",
        "for l in range(0, 5):\n",
        "  matrizsoma.append([])\n",
        "  for c in range(0, 3):\n",
        "    matrizsoma[l].append(0)\n",
        "for l in range(0, 5):\n",
        "  for c in range(0, 3):\n",
        "    matrizsoma[l][c] = matriz1[l][c] + matriz2[l][c]\n",
        "print('MATRIZ 1:')\n",
        "for l in range(0, 5):\n",
        "  for c in range(0, 3):\n",
        "    print(f'{matriz1[l][c]:^5}', end='')\n",
        "  print()\n",
        "print()\n",
        "print('MATRIZ 2:')\n",
        "for l in range(0, 5):\n",
        "  for c in range(0, 3):\n",
        "    print(f'{matriz2[l][c]:^5}', end='')\n",
        "  print()\n",
        "print()\n",
        "print('MATRIZ 1 + MATRIZ 2:')\n",
        "for l in range(0, 5):\n",
        "  for c in range(0, 3):\n",
        "    print(f'{matrizsoma[l][c]:^5}', end='')\n",
        "  print()\n",
        "print()"
      ],
      "metadata": {
        "id": "mQ9uhds6BhdR",
        "colab": {
          "base_uri": "https://localhost:8080/"
        },
        "outputId": "2fa6ebf9-5445-4936-dacc-4b5535250628"
      },
      "execution_count": null,
      "outputs": [
        {
          "output_type": "stream",
          "name": "stdout",
          "text": [
            "MATRIZ 1:\n",
            "  4    2    9  \n",
            "  2    1    2  \n",
            "  4    7    8  \n",
            "  0    1    4  \n",
            " 10    6    5  \n",
            "\n",
            "MATRIZ 2:\n",
            "  1    8    8  \n",
            "  8    5    8  \n",
            "  4    0    2  \n",
            "  5    9   10  \n",
            "  9    0    0  \n",
            "\n",
            "MATRIZ 1 + MATRIZ 2:\n",
            "  5   10   17  \n",
            " 10    6   10  \n",
            "  8    7   10  \n",
            "  5   10   14  \n",
            " 19    6    5  \n",
            "\n"
          ]
        }
      ]
    },
    {
      "cell_type": "markdown",
      "source": [
        "25. Dada uma matriz MAT de 4 x 5 elementos, faça um algoritmo para somar os elementos de cada linha gerando o vetor SOMALINHA. Em seguida, somar os elementos do vetor SOMALINHA na variável TOTAL que deve ser impressa no final."
      ],
      "metadata": {
        "id": "xlLgUmWD_bS8"
      }
    },
    {
      "cell_type": "code",
      "source": [
        "from random import randint\n",
        "MAT = list()\n",
        "SOMALINHA = list()\n",
        "TOTAL = 0\n",
        "for l in range(0, 5):\n",
        "  MAT.append([])\n",
        "  for c in range(0, 4):\n",
        "    MAT[l].append(randint(0, 10))\n",
        "  SOMALINHA.append(sum(MAT[l]))\n",
        "TOTAL = sum(SOMALINHA)\n",
        "for l in range(0, 5):\n",
        "  for c in range(0, 4):\n",
        "    print(f'{MAT[l][c]:^5}', end='')\n",
        "  print()\n",
        "print()\n",
        "print(f'SOMALINHA = {SOMALINHA}')\n",
        "print(f'TOTAL = {TOTAL}')"
      ],
      "metadata": {
        "id": "e_5iolROBiOz",
        "colab": {
          "base_uri": "https://localhost:8080/"
        },
        "outputId": "90079204-3703-4d5f-de0f-a667a9d29e28"
      },
      "execution_count": null,
      "outputs": [
        {
          "output_type": "stream",
          "name": "stdout",
          "text": [
            "  1    6    1    1  \n",
            "  5    8    3   10  \n",
            "  0   10    8    2  \n",
            "  1    7    4    5  \n",
            "  9    4    0    2  \n",
            "\n",
            "SOMALINHA = [9, 26, 20, 17, 15]\n",
            "TOTAL = 87\n"
          ]
        }
      ]
    },
    {
      "cell_type": "markdown",
      "source": [
        "26. Escreva um algoritmo para calcular e imprimir a soma de duas matrizes. Seja matriz A (m x n) e a matriz B (n x p). Deverão ser impressas as matrizes A, B e a matriz produto obtida (C). Obs.:\n",
        "\n",
        "$$\\left(C_{ij}=\\sum _{k=0}^{n-1}\\:A_{kj}\\cdot \\:B_{kj}\\right)\\left(i=0,\\:1,\\:...,\\:m-1\\right)\\left(j=0,\\:1,\\:...,\\:p-1\\right)$$"
      ],
      "metadata": {
        "id": "Shmdz0rP_dxR"
      }
    },
    {
      "cell_type": "code",
      "source": [
        "from random import randint\n",
        "matrizA = list()\n",
        "matrizB = list()\n",
        "matrizC = list()\n",
        "linhas = int(input('Digite a quantidade de linhas: '))\n",
        "colunas = int(input('Digite a quantidade de colunas: '))\n",
        "for l in range(0, linhas):\n",
        "  matrizA.append([])\n",
        "  for c in range(0, colunas):\n",
        "    matrizA[l].append(randint(0, 10))\n",
        "for l in range(0, linhas):\n",
        "  matrizB.append([])\n",
        "  for c in range(0, colunas):\n",
        "    matrizB[l].append(randint(0, 10))\n",
        "for l in range(0, linhas):\n",
        "  matrizC.append([])\n",
        "  for c in range(0, colunas):\n",
        "    matrizC[l].append(0)\n",
        "for l in range(0, linhas):\n",
        "  for c in range(0, colunas):\n",
        "    matrizC[l][c] = matrizA[l][c] + matrizB[l][c]\n",
        "print('MATRIZ A:')\n",
        "for l in range(0, linhas):\n",
        "  for c in range(0, colunas):\n",
        "    print(f'{matrizA[l][c]:^5}', end='')\n",
        "  print()\n",
        "print()\n",
        "print('MATRIZ B:')\n",
        "for l in range(0, linhas):\n",
        "  for c in range(0, colunas):\n",
        "    print(f'{matrizB[l][c]:^5}', end='')\n",
        "  print()\n",
        "print()\n",
        "print('MATRIZ C:')\n",
        "for l in range(0, linhas):\n",
        "  for c in range(0, colunas):\n",
        "    print(f'{matrizC[l][c]:^5}', end='')\n",
        "  print()\n",
        "print()"
      ],
      "metadata": {
        "id": "TXPwJvoVBi7p",
        "colab": {
          "base_uri": "https://localhost:8080/"
        },
        "outputId": "5a04cbb0-bd3b-4646-d362-209d8e0f8b42"
      },
      "execution_count": null,
      "outputs": [
        {
          "output_type": "stream",
          "name": "stdout",
          "text": [
            "Digite a quantidade de linhas: 2\n",
            "Digite a quantidade de colunas: 2\n",
            "MATRIZ A:\n",
            "  3    7  \n",
            "  9    1  \n",
            "\n",
            "MATRIZ B:\n",
            "  3    5  \n",
            "  1   10  \n",
            "\n",
            "MATRIZ C:\n",
            "  6   12  \n",
            " 10   11  \n",
            "\n"
          ]
        }
      ]
    },
    {
      "cell_type": "markdown",
      "source": [
        "27. A tabela dada a seguir contém vários itens que estão estocados em vários armazéns de uma companhia. É fornecido, também, o custo de cada um dos produtos armazenados.\n",
        "\n",
        "|            | Produto 1 (unidades) | Produto 2 (unidades) | Produto 3 (unidades) |\n",
        "|:----------:|:--------------------:|:--------------------:|:--------------------:|\n",
        "|**Armazém 1**|         1200         |         3700         |         3737         |\n",
        "|**Armazém 2**|         1400         |         4210         |         4224         |\n",
        "|**Armazém 3**|         200          |         2240         |         2444         |\n",
        "|**Custo (R$)**|        260,00        |        420,00        |        330,00        |\n",
        "\n",
        "Fazer um algoritmo que:\n",
        "\n",
        "a) leia o estoque inicial;\n",
        "\n",
        "b) determine e imprima quantos itens estão armazenados em cada armazém;\n",
        "\n",
        "c) qual o armazém que possui a maior quantidade de produto 2 armazenado;\n",
        "\n",
        "d) o custo total de:\n",
        "\n",
        "  d.1) cada produto em cada armazém;\n",
        "\n",
        "  d.2) estoque em cada armazém;\n",
        "\n",
        "  d.3) cada produto em todos os armazéns."
      ],
      "metadata": {
        "id": "ecxlrJ_2_g_x"
      }
    },
    {
      "cell_type": "code",
      "source": [
        "estoque = [[1200, 3700, 3737], [1400, 4210, 4224], [200, 2240, 2444]]\n",
        "custo = [260.00, 420.00, 330.00]\n",
        "armazem1 = armazem2 = armazem3 = 0\n",
        "prod1 = prod2 = prod3 = 0\n",
        "for i, a in enumerate(estoque):\n",
        "  print(f'No Armazém {i+1} estão armazenados {sum(a)} itens.')\n",
        "maior = estoque[0][1]\n",
        "for l in range(0, 3):\n",
        "  if maior <= estoque[l][1]:\n",
        "    maior = estoque[l][1]\n",
        "    armazem = l + 1\n",
        "print()\n",
        "print(f'O Armazém {armazem} possui a maior quantidade do produto 2.')\n",
        "print()\n",
        "for l in range(0, 3):\n",
        "  for c in range(0, 3):\n",
        "    print(f'O produto {c+1} no armazém {l+1} tem um custo total de R${(custo[c] * estoque[l][c]):.2f}'.replace('.',','))\n",
        "    if l == 0:\n",
        "      armazem1 += custo[c] * estoque[l][c]\n",
        "    if l == 1:\n",
        "      armazem2 += custo[c] * estoque[l][c]\n",
        "    if l == 2:\n",
        "      armazem3 += custo[c] * estoque[l][c]\n",
        "  print()\n",
        "print(f'O custo total do estoque Armazém 1 é R${armazem1:.2f}'.replace('.',','))\n",
        "print(f'O custo total do estoque Armazém 2 é R${armazem2:.2f}'.replace('.',','))\n",
        "print(f'O custo total do estoque Armazém 3 é R${armazem1:.3f}'.replace('.',','))\n",
        "print()\n",
        "for l in range(0, 3):\n",
        "  for c in range(0, 3):\n",
        "    if c == 0:\n",
        "      prod1 += custo[c] * estoque[l][c]\n",
        "    if c == 1:\n",
        "      prod2 += custo[c] * estoque[l][c]\n",
        "    if c == 2:\n",
        "      prod3 += custo[c] * estoque[l][c]\n",
        "print(f'O custo total do estoque do Produto 1 em todos armazéns é R${prod1:.2f}'.replace('.',','))\n",
        "print(f'O custo total do estoque do Produto 2 em todos armazéns é R${prod2:.2f}'.replace('.',','))\n",
        "print(f'O custo total do estoque do Produto 3 em todos armazéns é R${prod3:.3f}'.replace('.',','))"
      ],
      "metadata": {
        "id": "k_qP3UONBjtR",
        "colab": {
          "base_uri": "https://localhost:8080/"
        },
        "outputId": "fa6db700-8c4d-45ee-943b-1fc53e6e0168"
      },
      "execution_count": null,
      "outputs": [
        {
          "output_type": "stream",
          "name": "stdout",
          "text": [
            "No Armazém 1 estão armazenados 8637 itens.\n",
            "No Armazém 2 estão armazenados 9834 itens.\n",
            "No Armazém 3 estão armazenados 4884 itens.\n",
            "\n",
            "O Armazém 2 possui a maior quantidade do produto 2.\n",
            "\n",
            "O produto 1 no armazém 1 tem um custo total de R$312000,00\n",
            "O produto 2 no armazém 1 tem um custo total de R$1554000,00\n",
            "O produto 3 no armazém 1 tem um custo total de R$1233210,00\n",
            "\n",
            "O produto 1 no armazém 2 tem um custo total de R$364000,00\n",
            "O produto 2 no armazém 2 tem um custo total de R$1768200,00\n",
            "O produto 3 no armazém 2 tem um custo total de R$1393920,00\n",
            "\n",
            "O produto 1 no armazém 3 tem um custo total de R$52000,00\n",
            "O produto 2 no armazém 3 tem um custo total de R$940800,00\n",
            "O produto 3 no armazém 3 tem um custo total de R$806520,00\n",
            "\n",
            "O custo total do estoque Armazém 1 é R$3099210,00\n",
            "O custo total do estoque Armazém 2 é R$3526120,00\n",
            "O custo total do estoque Armazém 3 é R$3099210,000\n",
            "\n",
            "O custo total do estoque do Produto 1 em todos armazéns é R$728000,00\n",
            "O custo total do estoque do Produto 2 em todos armazéns é R$4263000,00\n",
            "O custo total do estoque do Produto 3 em todos armazéns é R$3433650,000\n"
          ]
        }
      ]
    },
    {
      "cell_type": "markdown",
      "source": [
        "28. Faça um algoritmo que monte uma estrutura de dados homogênea 10 x 30, onde o conteúdo de cada elemento é igual à soma dos valores de seus índices."
      ],
      "metadata": {
        "id": "Mt9HCIni_kvY"
      }
    },
    {
      "cell_type": "code",
      "source": [
        "estrutura = []\n",
        "for l in range(0, 30):\n",
        "  estrutura.append([])\n",
        "  for c in range(0, 10):\n",
        "    estrutura[l].append(0)\n",
        "for l in range(0, 30):\n",
        "  for c in range(0, 10):\n",
        "    estrutura[l][c] = l + c\n",
        "    print(f'{estrutura[l][c]:^5}', end='')\n",
        "  print()"
      ],
      "metadata": {
        "id": "FUbPQ2fXBkHj",
        "colab": {
          "base_uri": "https://localhost:8080/"
        },
        "outputId": "4468d65f-f1c2-48b3-b2a5-4a28d50dd117"
      },
      "execution_count": null,
      "outputs": [
        {
          "output_type": "stream",
          "name": "stdout",
          "text": [
            "  0    1    2    3    4    5    6    7    8    9  \n",
            "  1    2    3    4    5    6    7    8    9   10  \n",
            "  2    3    4    5    6    7    8    9   10   11  \n",
            "  3    4    5    6    7    8    9   10   11   12  \n",
            "  4    5    6    7    8    9   10   11   12   13  \n",
            "  5    6    7    8    9   10   11   12   13   14  \n",
            "  6    7    8    9   10   11   12   13   14   15  \n",
            "  7    8    9   10   11   12   13   14   15   16  \n",
            "  8    9   10   11   12   13   14   15   16   17  \n",
            "  9   10   11   12   13   14   15   16   17   18  \n",
            " 10   11   12   13   14   15   16   17   18   19  \n",
            " 11   12   13   14   15   16   17   18   19   20  \n",
            " 12   13   14   15   16   17   18   19   20   21  \n",
            " 13   14   15   16   17   18   19   20   21   22  \n",
            " 14   15   16   17   18   19   20   21   22   23  \n",
            " 15   16   17   18   19   20   21   22   23   24  \n",
            " 16   17   18   19   20   21   22   23   24   25  \n",
            " 17   18   19   20   21   22   23   24   25   26  \n",
            " 18   19   20   21   22   23   24   25   26   27  \n",
            " 19   20   21   22   23   24   25   26   27   28  \n",
            " 20   21   22   23   24   25   26   27   28   29  \n",
            " 21   22   23   24   25   26   27   28   29   30  \n",
            " 22   23   24   25   26   27   28   29   30   31  \n",
            " 23   24   25   26   27   28   29   30   31   32  \n",
            " 24   25   26   27   28   29   30   31   32   33  \n",
            " 25   26   27   28   29   30   31   32   33   34  \n",
            " 26   27   28   29   30   31   32   33   34   35  \n",
            " 27   28   29   30   31   32   33   34   35   36  \n",
            " 28   29   30   31   32   33   34   35   36   37  \n",
            " 29   30   31   32   33   34   35   36   37   38  \n"
          ]
        }
      ]
    },
    {
      "cell_type": "markdown",
      "source": [
        "29. Ler duas matrizes A e B, cada uma com 7 linhas e 1 coluna. Construir uma matriz C de 7 x 2, onde a primeira coluna deverá ser formada pelos elementos da matriz A e a segunda coluna deverá ser formada pelos elementos da matriz B."
      ],
      "metadata": {
        "id": "3oRooqN__omK"
      }
    },
    {
      "cell_type": "code",
      "source": [
        "from random import randint\n",
        "A = []\n",
        "B = []\n",
        "C = []\n",
        "for l in range(0, 7):\n",
        "  A.append([])\n",
        "  for c in range(0, 1):\n",
        "    A[l].append(randint(0, 9))\n",
        "for l in range(0, 7):\n",
        "  B.append([])\n",
        "  for c in range(0, 1):\n",
        "    B[l].append(randint(0, 9))\n",
        "for l in range(0, 7):\n",
        "  C.append([])\n",
        "  for c in range(0, 1):\n",
        "    C[l].append(A[l][c])\n",
        "    C[l].append(B[l][c])\n",
        "print('MATRIZ A:')\n",
        "for l in range(0, 7):\n",
        "  for c in range(0, 1):\n",
        "    print(f'{A[l][c]:^5}', end='')\n",
        "  print()\n",
        "print()\n",
        "print('MATRIZ B:')\n",
        "for l in range(0, 7):\n",
        "  for c in range(0, 1):\n",
        "    print(f'{B[l][c]:^5}', end='')\n",
        "  print()\n",
        "print()\n",
        "print('MATRIZ C:')\n",
        "for l in range(0, 7):\n",
        "  for c in range(0, 2):\n",
        "    print(f'{C[l][c]:^5}', end='')\n",
        "  print()"
      ],
      "metadata": {
        "id": "dGrQi4vUBkv4",
        "colab": {
          "base_uri": "https://localhost:8080/"
        },
        "outputId": "c17d0529-740c-4e59-cabb-4a1537266265"
      },
      "execution_count": null,
      "outputs": [
        {
          "output_type": "stream",
          "name": "stdout",
          "text": [
            "MATRIZ A:\n",
            "  7  \n",
            "  2  \n",
            "  3  \n",
            "  4  \n",
            "  0  \n",
            "  7  \n",
            "  0  \n",
            "\n",
            "MATRIZ B:\n",
            "  6  \n",
            "  4  \n",
            "  8  \n",
            "  0  \n",
            "  0  \n",
            "  0  \n",
            "  9  \n",
            "\n",
            "MATRIZ C:\n",
            "  7    6  \n",
            "  2    4  \n",
            "  3    8  \n",
            "  4    0  \n",
            "  0    0  \n",
            "  7    0  \n",
            "  0    9  \n"
          ]
        }
      ]
    },
    {
      "cell_type": "markdown",
      "source": [
        "30. Suponha que nos é dada uma matriz de inteiros A com m=20 linhas e n=30 colunas, e um vetor de inteiros X com n=30 elementos. Deseja-se gerar um novo vetor de inteiros Y, formado a partir das seguintes operações:\n",
        "\n",
        "  $Y\\left[0\\right]=A\\left[0\\right]\\left[0\\right]\\cdot X\\left[0\\right]+A\\left[0\\right]\\left[1\\right]\\cdot X\\left[1\\right]+...+A\\left[0\\right]\\left[N-1\\right]\\cdot X\\left[N-1\\right]$\n",
        "\n",
        "  $Y\\left[1\\right]=A\\left[1\\right]\\left[0\\right]\\cdot X\\left[0\\right]+A\\left[1\\right]\\left[1\\right]\\cdot X\\left[1\\right]+...+A\\left[1\\right]\\left[N-1\\right]\\cdot X\\left[N-1\\right]$\n",
        "\n",
        "  . <br>\n",
        "  . <br>\n",
        "  .\n",
        "\n",
        "  $Y\\left[m-1\\right]=A\\left[m-1\\right]\\left[0\\right]\\cdot X\\left[0\\right]+A\\left[m-1\\right]\\left[1\\right]\\cdot X\\left[1\\right]+...+A\\left[m-1\\right]\\left[N-1\\right]\\cdot X\\left[N-1\\right]$\n",
        "\n",
        "  <br>\n",
        "  Escreva os dados de entrada (os valores de A e X) seguidos pelos valores dos elementos de Y"
      ],
      "metadata": {
        "id": "uLyoUG2B_rMq"
      }
    },
    {
      "cell_type": "code",
      "source": [
        "from random import randint\n",
        "A = []\n",
        "X = []\n",
        "Y = []\n",
        "for m in range(0, 20):\n",
        "  A.append([])\n",
        "  for n in range(0,30):\n",
        "    A[m].append(randint(0, 9))\n",
        "for i in range(0, 30):\n",
        "  X.append(randint(0, 9))\n",
        "print('Matriz A:')\n",
        "for m in A:\n",
        "  for n in m:\n",
        "    print(f'{n:^5}', end='')\n",
        "  print()\n",
        "print()\n",
        "print('Vetor X:')\n",
        "print(X)\n",
        "\n",
        "for m in range(0, 20):\n",
        "  num = 0\n",
        "  for n in range(0, 30):\n",
        "    num += A[m][n] * X[n]\n",
        "  Y.append(num)\n",
        "print()\n",
        "print(f'Y = {Y}')"
      ],
      "metadata": {
        "id": "PVtKFTOkBn_Z",
        "colab": {
          "base_uri": "https://localhost:8080/"
        },
        "outputId": "fa4f28f9-41d6-43bb-d515-d3ccd1a76fc2"
      },
      "execution_count": null,
      "outputs": [
        {
          "output_type": "stream",
          "name": "stdout",
          "text": [
            "Matriz A:\n",
            "  1    9    7    7    6    1    8    2    3    6    4    6    8    8    4    7    3    3    8    2    3    9    4    7    4    4    3    1    3    7  \n",
            "  6    8    0    9    3    7    1    5    3    5    4    5    6    0    4    3    3    5    5    9    3    5    1    9    1    4    5    9    1    8  \n",
            "  7    6    4    1    9    8    0    6    5    7    7    8    8    0    0    1    6    2    7    3    3    3    1    7    6    9    1    0    7    2  \n",
            "  3    2    6    7    8    6    7    9    9    1    1    7    7    2    7    0    3    9    5    3    1    8    1    7    2    1    8    7    2    5  \n",
            "  4    0    1    8    6    9    4    2    3    7    6    1    5    5    6    9    0    7    3    9    8    3    8    7    2    7    1    7    5    7  \n",
            "  9    1    4    6    8    0    6    4    1    5    1    9    3    9    6    3    1    4    2    9    5    0    9    5    2    0    1    8    5    8  \n",
            "  6    1    2    9    8    1    3    6    8    5    4    6    0    0    0    2    8    4    7    9    6    0    6    9    6    4    2    7    3    4  \n",
            "  8    2    3    7    0    1    7    3    6    1    6    3    9    0    7    2    6    1    4    3    6    6    8    1    2    2    8    5    1    7  \n",
            "  6    8    3    5    8    3    4    1    0    2    8    1    1    1    9    1    7    0    8    9    1    5    3    2    1    7    1    1    3    2  \n",
            "  5    9    5    7    0    6    7    4    4    4    8    7    0    2    9    1    1    3    9    1    2    4    9    4    5    2    3    1    2    7  \n",
            "  1    6    2    5    3    8    4    5    7    9    0    4    5    3    9    1    5    8    3    9    9    0    2    0    3    6    8    2    0    6  \n",
            "  0    9    9    4    0    1    6    1    3    6    2    9    9    1    0    8    4    3    4    6    0    4    5    7    5    2    5    5    5    0  \n",
            "  2    7    9    1    5    7    2    7    0    1    1    0    2    2    8    4    3    1    7    9    5    7    6    7    7    5    0    1    5    1  \n",
            "  8    3    1    2    5    5    3    3    2    0    8    9    8    8    8    7    4    2    2    1    3    0    5    6    8    9    4    6    7    9  \n",
            "  0    8    9    2    2    0    4    1    4    0    6    6    5    9    5    1    1    5    3    4    6    8    0    7    4    1    3    2    9    3  \n",
            "  6    5    4    6    6    3    1    3    8    0    3    1    5    0    6    6    0    8    6    2    8    1    1    3    2    9    4    8    1    1  \n",
            "  1    3    0    2    1    7    0    4    5    3    8    5    5    5    9    6    5    5    3    7    7    9    9    7    0    5    2    1    4    5  \n",
            "  3    6    5    5    1    1    9    6    2    0    9    8    5    9    8    4    0    0    1    6    3    9    7    6    2    5    5    7    7    6  \n",
            "  6    1    1    3    2    0    6    5    7    4    3    3    7    1    4    2    6    0    9    3    6    1    4    1    0    2    7    2    4    8  \n",
            "  0    7    6    2    9    7    9    4    8    6    8    8    6    5    2    5    9    9    8    9    5    1    0    0    5    7    9    3    2    7  \n",
            "\n",
            "Vetor X:\n",
            "[0, 7, 2, 6, 8, 8, 7, 2, 8, 3, 1, 4, 2, 8, 3, 4, 4, 7, 3, 6, 4, 8, 9, 2, 0, 5, 0, 7, 5, 9]\n",
            "\n",
            "Y = [733, 661, 558, 710, 787, 689, 636, 561, 525, 624, 657, 541, 565, 648, 560, 543, 681, 713, 475, 806]\n"
          ]
        }
      ]
    },
    {
      "cell_type": "markdown",
      "source": [
        "31. Preencher e imprimir os elementos de uma matriz A10 x 6 de elementos reais com valores tais que:\n",
        "\n",
        "  • Se I < J, A[I][J] = I / J;\n",
        "\n",
        "  • Se I = J, A[I][J] = 0;\n",
        "\n",
        "  • Se I > J, A[I][J] = J / I;"
      ],
      "metadata": {
        "id": "u93VSoKX_upb"
      }
    },
    {
      "cell_type": "code",
      "source": [
        "A = []\n",
        "for l in range(0, 10):\n",
        "  A.append([])\n",
        "  for c in range(0,6):\n",
        "    if l < c:\n",
        "      A[l].append(l/c)\n",
        "    elif l == c:\n",
        "      A[l].append(0)\n",
        "    elif l > c:\n",
        "      A[l].append(c/l)\n",
        "\n",
        "print('MATRIZ A:')\n",
        "for l in range(0, 10):\n",
        "  for c in range(0, 6):\n",
        "    print(f'{A[l][c]:.2f}  ', end='')\n",
        "  print()"
      ],
      "metadata": {
        "id": "DrfXvgpaBodQ",
        "colab": {
          "base_uri": "https://localhost:8080/"
        },
        "outputId": "e6a7e17b-8bc1-4b76-cad7-ecf84cd0ca11"
      },
      "execution_count": null,
      "outputs": [
        {
          "output_type": "stream",
          "name": "stdout",
          "text": [
            "MATRIZ A:\n",
            "0.00  0.00  0.00  0.00  0.00  0.00  \n",
            "0.00  0.00  0.50  0.33  0.25  0.20  \n",
            "0.00  0.50  0.00  0.67  0.50  0.40  \n",
            "0.00  0.33  0.67  0.00  0.75  0.60  \n",
            "0.00  0.25  0.50  0.75  0.00  0.80  \n",
            "0.00  0.20  0.40  0.60  0.80  0.00  \n",
            "0.00  0.17  0.33  0.50  0.67  0.83  \n",
            "0.00  0.14  0.29  0.43  0.57  0.71  \n",
            "0.00  0.12  0.25  0.38  0.50  0.62  \n",
            "0.00  0.11  0.22  0.33  0.44  0.56  \n"
          ]
        }
      ]
    },
    {
      "cell_type": "markdown",
      "source": [
        "32. Uma matriz X[n][4] contém informações sobre alunos de uma universidade. Os índices das linhas são os números de matrícula e os elementos da 1a, 2a, 3a e 4a colunas são, respectivamente, idade, sexo (0 ou 1), curso (no. do curso) e nota. Fazer um algoritmo para obter o aluno do sexo 0, curso 6, que obteve a melhor nota. Supor a inexistência de empate."
      ],
      "metadata": {
        "id": "8bIr7q3T_x38"
      }
    },
    {
      "cell_type": "code",
      "source": [
        "X = []\n",
        "try:\n",
        "  n = int(input('Digite a quantidade de alunos que você deseja cadastrar? '))\n",
        "  maior_nota = cont = 0\n",
        "  for i in range(0, n):\n",
        "    X.append([])\n",
        "\n",
        "    X[i].append(i)\n",
        "    X[i].append(int(input('Digite a idade: ')))\n",
        "    X[i].append(int(input('Digite o sexo: [0/1] ')))\n",
        "    X[i].append(int(input('Digite o curso: ')))\n",
        "    X[i].append(int(input('Digite a nota: ')))\n",
        "\n",
        "    if X[i][2] == 0 and X[i][3] == 6 and cont == 0:\n",
        "      cont+=1\n",
        "      maior_nota = X[i][4]\n",
        "      matricula_maior_nota = X[i][0]\n",
        "      if X[i][4] < maior_nota:\n",
        "        maior_nota = X[i][4]\n",
        "        matricula_maior_nota = X[i][0]\n",
        "  for i in X:\n",
        "    print(i)\n",
        "  print(f'A maior nota foi: {maior_nota} e a matrícula do aluno com a maior nota é: {matricula_maior_nota}')\n",
        "except:\n",
        "  print('Houve um erro :(')"
      ],
      "metadata": {
        "id": "3l5lwFelBo35",
        "colab": {
          "base_uri": "https://localhost:8080/"
        },
        "outputId": "515011dc-c4f8-49b3-e3f2-54ff587a1273"
      },
      "execution_count": null,
      "outputs": [
        {
          "output_type": "stream",
          "name": "stdout",
          "text": [
            "Digite a quantidade de alunos que você deseja cadastrar? 2\n",
            "Digite a idade: 1\n",
            "Digite o sexo: [0/1] 0\n",
            "Digite o curso: 6\n",
            "Digite a nota: 2\n",
            "Digite a idade: 0\n",
            "Digite o sexo: [0/1] 0\n",
            "Digite o curso: 6\n",
            "Digite a nota: 1\n",
            "[0, 1, 0, 6, 2]\n",
            "[1, 0, 0, 6, 1]\n",
            "A maior nota foi: 2 e a matrícula do aluno com a maior nota é: 0\n"
          ]
        }
      ]
    },
    {
      "cell_type": "markdown",
      "source": [
        "33. Faça um algoritmo que leia uma matriz QUANT de 10 linhas por 10 colunas e imprima as seguintes características:\n",
        "\n",
        "  a) dê o somatório dos quadrados da 1a coluna;\n",
        "\n",
        "  b) dê o somatório dos cubos da 2a linha;\n",
        "\n",
        "  c) dê o somatório dos elementos da diagonal principal;\n",
        "\n",
        "  d) dê o somatório total dos 100 elementos."
      ],
      "metadata": {
        "id": "OY0c1dLr_1mq"
      }
    },
    {
      "cell_type": "code",
      "source": [
        "from random import randint\n",
        "QUANT = []\n",
        "soma_1a_coluna = soma_2a_linha = soma_diagonal_principal = soma_total = 0\n",
        "for l in range(0, 10):\n",
        "  QUANT.append([])\n",
        "  for c in range(0, 10):\n",
        "    QUANT[l].append(randint(0, 10))\n",
        "    print(f'{QUANT[l][c]:^5}  ', end='')\n",
        "  print()\n",
        "\n",
        "for l in range(0, 10):\n",
        "  for c in range(0, 10):\n",
        "    soma_total += QUANT[l][c]\n",
        "    if QUANT[l][c] == QUANT[l][0]:\n",
        "      soma_1a_coluna += QUANT[l][0]**2\n",
        "    if QUANT[l][c] == QUANT[1][c]:\n",
        "      soma_2a_linha += QUANT[1][c]**3\n",
        "    if QUANT[l][c] == QUANT[l][l]:\n",
        "      soma_diagonal_principal += QUANT[l][c]\n",
        "print()\n",
        "print(f'Somatório dos quadrados da 1a coluna: {soma_1a_coluna}')\n",
        "print(f'Somatório dos cubos da 2a linha: {soma_2a_linha}')\n",
        "print(f'Somatório dos elementos da diagonal principal: {soma_diagonal_principal}')\n",
        "print(f'Somatório total dos 100 elementos: {soma_total}')"
      ],
      "metadata": {
        "id": "jTtu7cU5Bpdx",
        "colab": {
          "base_uri": "https://localhost:8080/"
        },
        "outputId": "c6b2f2c3-52a1-4b21-f410-f385abf677dc"
      },
      "execution_count": null,
      "outputs": [
        {
          "output_type": "stream",
          "name": "stdout",
          "text": [
            " 10      0      8      1      1      7      0      2      8      2    \n",
            "  2      2      4      5      1      8      4      3      8      1    \n",
            "  8      6      6      4      5      0      3     10     10      7    \n",
            "  5      4      1      9      4      0      9      5      6      6    \n",
            "  4      0      6      3      8      6      4      9      3      5    \n",
            "  1      8      6      6      1      1      4      1      4      7    \n",
            "  3      9      4     10     10      4      7     10      5      4    \n",
            "  9      7      5      8      8      1      4      8      3      0    \n",
            "  3      4      0      6      4      3      9     10      6      3    \n",
            "  9      5      1      6      7      1      8      5      8      1    \n",
            "\n",
            "Somatório dos quadrados da 1a coluna: 456\n",
            "Somatório dos cubos da 2a linha: 2605\n",
            "Somatório dos elementos da diagonal principal: 102\n",
            "Somatório total dos 100 elementos: 490\n"
          ]
        }
      ]
    },
    {
      "cell_type": "markdown",
      "source": [
        "34. Sabe-se que a multiplicação de duas matrizes A e B só é possível se o número de colunas da matriz A for igual ao número de linhas da matriz B. Assim, se A é uma matriz m x n e B uma matriz n x p, a multiplicação será possível e o produto será uma matriz Cm x p. O produto matricial pode ser muito útil em várias aplicações como, por exemplo, na situação descrita a seguir.\n",
        "\n",
        "  Uma certa fábrica produziu dois tipos de motores M1 e M2 nos meses de janeiro a dezembro e o número de motores produzidos foi registrado na tabela a seguir:\n",
        "\n",
        "|       | M1 | M2 |\n",
        "|:-----:|:--:|:--:|\n",
        "|**JAN**| 30 | 20 |\n",
        "|**FEV**| 30 | 20 |\n",
        "|**MAR**| 30 | 20 |\n",
        "|**.**| 30 | 20 |\n",
        "|**JAN**| 30 | 20 |\n",
        "\n",
        "  O setor de controle de vendas tem uma tabela do custo e do lucro (em milhares de reais) obtidos com cada motor.\n",
        "\n",
        "|       | CUSTO | LUCRO |\n",
        "|:-----:|:-----:|:-----:|\n",
        "|**M1**|   10  |   3   |\n",
        "|**M2**|   15  |   2   |\n",
        "\n",
        "  Para saber o custo e o lucro nos meses de janeiro a dezembro, basta que se faça o produto matricial das duas tabelas.\n",
        "\n",
        "  Portanto, fazer um algoritmo que, a partir da produção mensal de motores M1 e M2 e seus\n",
        "  respectivos custos e lucros, calcule o custo e o lucro em cada um dos meses e o custo e lucro anuais."
      ],
      "metadata": {
        "id": "4JwgiFJD_4HI"
      }
    },
    {
      "cell_type": "code",
      "source": [
        "A = [[30, 20], [30, 20], [30, 20], [30, 20], [30, 20]]\n",
        "B = [[10, 3], [15, 2]]\n",
        "C = []\n",
        "for l in range(0, 5):\n",
        "  C.append([])\n",
        "  for c in range(0, 2):\n",
        "    C[l].append(A[l][0] * B[0][c] + A[l][1] * B[1][c])\n",
        "print(f'{\"Custo\":^7}  {\"Lucro\":^7}')\n",
        "for l in range(0, 5):\n",
        "  QUANT.append([])\n",
        "  for c in range(0, 2):\n",
        "    print(f'{C[l][c]:^7}  ', end='')\n",
        "  print()"
      ],
      "metadata": {
        "id": "Ej4QNOHgBp-B",
        "colab": {
          "base_uri": "https://localhost:8080/"
        },
        "outputId": "f00bda3b-45d7-45d7-9e40-d234b37bb16d"
      },
      "execution_count": null,
      "outputs": [
        {
          "output_type": "stream",
          "name": "stdout",
          "text": [
            " Custo    Lucro \n",
            "  600      130    \n",
            "  600      130    \n",
            "  600      130    \n",
            "  600      130    \n",
            "  600      130    \n"
          ]
        }
      ]
    }
  ]
}