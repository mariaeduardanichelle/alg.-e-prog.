{
  "nbformat": 4,
  "nbformat_minor": 0,
  "metadata": {
    "colab": {
      "provenance": [],
      "authorship_tag": "ABX9TyMET6czS12/zqPGUFZ5PgU0",
      "include_colab_link": true
    },
    "kernelspec": {
      "name": "python3",
      "display_name": "Python 3"
    },
    "language_info": {
      "name": "python"
    }
  },
  "cells": [
    {
      "cell_type": "markdown",
      "metadata": {
        "id": "view-in-github",
        "colab_type": "text"
      },
      "source": [
        "<a href=\"https://colab.research.google.com/github/mariaeduardanichelle/alg.-e-prog./blob/main/lista4.ipynb\" target=\"_parent\"><img src=\"https://colab.research.google.com/assets/colab-badge.svg\" alt=\"Open In Colab\"/></a>"
      ]
    },
    {
      "cell_type": "markdown",
      "source": [
        "1. Inicializar um vetor de inteiros com números de 0 a 99."
      ],
      "metadata": {
        "id": "XojBPNVq7hFq"
      }
    },
    {
      "cell_type": "code",
      "execution_count": null,
      "metadata": {
        "colab": {
          "base_uri": "https://localhost:8080/"
        },
        "id": "i9i0ObRtmlBp",
        "outputId": "de6617f7-894e-4d60-c614-b19acc30df48"
      },
      "outputs": [
        {
          "output_type": "stream",
          "name": "stdout",
          "text": [
            "[0, 1, 2, 3, 4, 5, 6, 7, 8, 9, 10, 11, 12, 13, 14, 15, 16, 17, 18, 19, 20, 21, 22, 23, 24, 25, 26, 27, 28, 29, 30, 31, 32, 33, 34, 35, 36, 37, 38, 39, 40, 41, 42, 43, 44, 45, 46, 47, 48, 49, 50, 51, 52, 53, 54, 55, 56, 57, 58, 59, 60, 61, 62, 63, 64, 65, 66, 67, 68, 69, 70, 71, 72, 73, 74, 75, 76, 77, 78, 79, 80, 81, 82, 83, 84, 85, 86, 87, 88, 89, 90, 91, 92, 93, 94, 95, 96, 97, 98, 99]\n"
          ]
        }
      ],
      "source": [
        "lista = []\n",
        "for a in range(0, 100):\n",
        "  lista.append(a)\n",
        "print(lista)"
      ]
    },
    {
      "cell_type": "markdown",
      "source": [
        "2. Escreva um algoritmo que leia um conjunto de 10 notas, armazene-as em uma variável\n",
        "composta chamada NOTA e calcule e imprima a sua média."
      ],
      "metadata": {
        "id": "mIqEdTgO7mGp"
      }
    },
    {
      "cell_type": "code",
      "source": [
        "notas = list()\n",
        "for n in range(0, 10):\n",
        "  notas.append(float(input('Digite a nota: ')))\n",
        "media = sum(notas)/10\n",
        "print(f'Notas: ',end='')\n",
        "for i, n in enumerate(notas):\n",
        "  if i < 9:\n",
        "    print(f'{n}, ', end='')\n",
        "  else:\n",
        "    print(f'{n}')\n",
        "print(f'Média: {media}')"
      ],
      "metadata": {
        "colab": {
          "base_uri": "https://localhost:8080/"
        },
        "id": "MVZ4FrZ4nLDW",
        "outputId": "13a10811-52bc-42fd-ad38-00bcef4958a5"
      },
      "execution_count": null,
      "outputs": [
        {
          "output_type": "stream",
          "name": "stdout",
          "text": [
            "Digite a nota: 1\n",
            "Digite a nota: 1\n",
            "Digite a nota: 1\n",
            "Digite a nota: 1\n",
            "Digite a nota: 1\n",
            "Digite a nota: 1\n",
            "Digite a nota: 1\n",
            "Digite a nota: 1\n",
            "Digite a nota: 1\n",
            "Digite a nota: 1\n",
            "Notas: 1.0, 1.0, 1.0, 1.0, 1.0, 1.0, 1.0, 1.0, 1.0, 1.0\n",
            "Média: 1.0\n"
          ]
        }
      ]
    },
    {
      "cell_type": "markdown",
      "source": [
        "3. Repita o algoritmo acima, porém imprima quantos valores estão acima da média."
      ],
      "metadata": {
        "id": "PfVM8l967ogo"
      }
    },
    {
      "cell_type": "code",
      "source": [
        "notas = list()\n",
        "for n in range(0, 10):\n",
        "  notas.append(float(input('Digite a nota: ')))\n",
        "media = sum(notas)/10\n",
        "print(f'Notas: ',end='')\n",
        "for i, n in enumerate(notas):\n",
        "  if i < 9:\n",
        "    print(f'{n}, ', end='')\n",
        "  else:\n",
        "    print(f'{n}')\n",
        "print(f'Média: {media}')\n",
        "for n in notas:\n",
        "  if n > media:\n",
        "    print(f'{n} esta acima da médaia')"
      ],
      "metadata": {
        "colab": {
          "base_uri": "https://localhost:8080/"
        },
        "id": "5lPo8s7fpFu7",
        "outputId": "1c4a5550-f3d6-4f44-ddf0-25fa5dbe0ffc"
      },
      "execution_count": null,
      "outputs": [
        {
          "output_type": "stream",
          "name": "stdout",
          "text": [
            "Digite a nota: 1\n",
            "Digite a nota: 4\n",
            "Digite a nota: 1\n",
            "Digite a nota: 1\n",
            "Digite a nota: 1\n",
            "Digite a nota: 1\n",
            "Digite a nota: 1\n",
            "Digite a nota: 1\n",
            "Digite a nota: 1\n",
            "Digite a nota: 1\n",
            "Notas: 1.0, 4.0, 1.0, 1.0, 1.0, 1.0, 1.0, 1.0, 1.0, 1.0\n",
            "Média: 1.3\n",
            "4.0 esta acima da médaia\n"
          ]
        }
      ]
    },
    {
      "cell_type": "markdown",
      "source": [
        "4. Faça um algoritmo que leia um vetor que contém as notas de 30 alunos. Imprima o maior\n",
        "valor, o menor valor, a média da turma e a quantidade de notas abaixo da média."
      ],
      "metadata": {
        "id": "4b2kqgbE7r4I"
      }
    },
    {
      "cell_type": "code",
      "source": [
        "maior = menor = media = tot = 0\n",
        "alunos = list()\n",
        "for a in range(0, 30):\n",
        "  nota = float(input('Digite a nota: '))\n",
        "  media += nota\n",
        "  if a == 0:\n",
        "    maior = nota\n",
        "  else:\n",
        "    if nota > maior:\n",
        "      maior = nota\n",
        "  if a == 0:\n",
        "    menor = nota\n",
        "  else:\n",
        "    if nota < menor:\n",
        "      menor = nota\n",
        "media /= (a+1)\n",
        "for n in alunos:\n",
        "  if n < media:\n",
        "    tot = tot + 1\n",
        "print(f'A menor nota foi {menor}')\n",
        "print(f'A maior nota foi {maior}')\n",
        "print(f'{tot} notas foram abaixo da média {media}')"
      ],
      "metadata": {
        "id": "ByEIjLaYpcia",
        "colab": {
          "base_uri": "https://localhost:8080/"
        },
        "outputId": "0d0dd6f3-5b60-4f78-e795-542172ecad11"
      },
      "execution_count": null,
      "outputs": [
        {
          "output_type": "stream",
          "name": "stdout",
          "text": [
            "Digite a nota: 1\n",
            "Digite a nota: 2\n",
            "Digite a nota: 3\n",
            "A menor nota foi 1.0\n",
            "A maior nota foi 3.0\n",
            "0 notas foram abaixo da média 2.0\n"
          ]
        }
      ]
    },
    {
      "cell_type": "markdown",
      "source": [
        "5. Ler um vetor de 100 elementos numéricos e verificar se existem elementos iguais a 30. Se\n",
        "existirem, escrever as posições em que estão armazenados."
      ],
      "metadata": {
        "id": "Z8clglax7uUA"
      }
    },
    {
      "cell_type": "code",
      "source": [
        "from random import randint\n",
        "vetor = []\n",
        "for n in range(0, 100):\n",
        "  vetor.append(int(randint(0, 100)))\n",
        "print(vetor)\n",
        "for i, v in enumerate(vetor):\n",
        "  if v == 30:\n",
        "    print(f'Tem um elemento igual a 30 na posição {i}')\n",
        "if not 30 in vetor:\n",
        "  print('Não há elemenos 30 no vetor')"
      ],
      "metadata": {
        "id": "5i4CEzgrBQkG",
        "colab": {
          "base_uri": "https://localhost:8080/"
        },
        "outputId": "5c4da1c3-540d-49d6-eb0e-badf0026e5b1"
      },
      "execution_count": null,
      "outputs": [
        {
          "output_type": "stream",
          "name": "stdout",
          "text": [
            "[12, 51, 57, 9, 66, 88, 11, 50, 53, 94, 100, 85, 70, 16, 14, 17, 4, 27, 15, 90, 57, 46, 40, 97, 79, 33, 62, 14, 30, 82, 95, 95, 22, 11, 92, 58, 92, 97, 96, 17, 58, 57, 48, 59, 42, 49, 49, 55, 74, 92, 3, 65, 26, 68, 57, 96, 73, 13, 26, 96, 46, 11, 31, 18, 21, 11, 25, 54, 61, 12, 61, 2, 22, 6, 86, 46, 56, 36, 38, 13, 6, 98, 7, 42, 26, 48, 28, 30, 16, 18, 38, 65, 92, 67, 80, 65, 66, 93, 23, 19]\n",
            "Tem um elemento igual a 30 na posição 28\n",
            "Tem um elemento igual a 30 na posição 87\n"
          ]
        }
      ]
    },
    {
      "cell_type": "markdown",
      "source": [
        "6. Fazer um algoritmo que calcule e escreva o somatório dos valores armazenados numa variável\n",
        "composta unidimensional (vetor) A, de 100 elementos numéricos a serem lidos do dispositivo\n",
        "de entrada."
      ],
      "metadata": {
        "id": "RDBqFz3c7x5b"
      }
    },
    {
      "cell_type": "code",
      "source": [
        "vetor = []\n",
        "for n in range(0, 100):\n",
        "  vetor.append(int(input('Digite um valor: ')))\n",
        "soma = sum(vetor)\n",
        "print(f'O vetor é {vetor}')\n",
        "print(f'A soma do vetor é {soma}')\n"
      ],
      "metadata": {
        "id": "HHbBDzgcBQ8I",
        "colab": {
          "base_uri": "https://localhost:8080/"
        },
        "outputId": "87edc302-0184-423d-c405-75e8d9b9dfbc"
      },
      "execution_count": null,
      "outputs": [
        {
          "output_type": "stream",
          "name": "stdout",
          "text": [
            "Digite um valor: 1\n",
            "Digite um valor: 2\n",
            "Digite um valor: 3\n",
            "Digite um valor: 4\n",
            "Digite um valor: 5\n",
            "O vetor é [1, 2, 3, 4, 5]\n",
            "A soma do vetor é 15\n"
          ]
        }
      ]
    },
    {
      "cell_type": "markdown",
      "source": [
        "7. Escreva um algoritmo que leia um vetor de 200 valores numéricos reais e os imprima na\n",
        "ordem contrária em que foi lida."
      ],
      "metadata": {
        "id": "uikZMx0J70Q4"
      }
    },
    {
      "cell_type": "code",
      "source": [
        "from random import randint\n",
        "vetor = []\n",
        "for v in range(0, 200):\n",
        "  vetor.append(int(randint(0, 100)))  \n",
        "print(f'O vetor original é {vetor}')\n",
        "\n",
        "print(f'O vetor ao contrário é {list(reversed(vetor))}')      "
      ],
      "metadata": {
        "id": "ikMVt2WIBSi4",
        "colab": {
          "base_uri": "https://localhost:8080/"
        },
        "outputId": "9a586cce-d2e2-4e17-86ce-2eda41c085dd"
      },
      "execution_count": null,
      "outputs": [
        {
          "output_type": "stream",
          "name": "stdout",
          "text": [
            "O vetor original é [67, 16, 61, 34, 83, 41, 59, 68, 41, 21, 73, 31, 54, 72, 77, 93, 77, 61, 11, 81, 76, 21, 72, 4, 20, 34, 28, 54, 55, 71, 74, 80, 64, 74, 49, 3, 81, 98, 12, 4, 48, 99, 17, 32, 95, 12, 98, 70, 45, 45, 4, 55, 64, 45, 20, 67, 11, 24, 73, 58, 74, 49, 58, 50, 51, 15, 96, 88, 53, 35, 5, 100, 24, 45, 88, 39, 75, 80, 100, 98, 8, 61, 0, 39, 83, 14, 12, 91, 82, 89, 63, 70, 12, 89, 22, 15, 97, 68, 46, 74, 83, 54, 14, 44, 40, 17, 41, 97, 27, 98, 65, 20, 56, 16, 31, 91, 95, 14, 46, 58, 51, 21, 98, 40, 69, 8, 27, 26, 7, 53, 95, 39, 12, 88, 80, 76, 57, 32, 70, 93, 65, 83, 16, 92, 35, 0, 30, 0, 97, 36, 6, 77, 27, 49, 33, 2, 2, 67, 90, 98, 54, 23, 63, 23, 54, 54, 76, 77, 77, 77, 42, 20, 57, 43, 72, 37, 14, 67, 87, 93, 58, 31, 24, 65, 63, 61, 69, 68, 80, 84, 22, 84, 33, 23, 12, 95, 1, 25, 59, 15]\n",
            "O vetor ao contrário é [15, 59, 25, 1, 95, 12, 23, 33, 84, 22, 84, 80, 68, 69, 61, 63, 65, 24, 31, 58, 93, 87, 67, 14, 37, 72, 43, 57, 20, 42, 77, 77, 77, 76, 54, 54, 23, 63, 23, 54, 98, 90, 67, 2, 2, 33, 49, 27, 77, 6, 36, 97, 0, 30, 0, 35, 92, 16, 83, 65, 93, 70, 32, 57, 76, 80, 88, 12, 39, 95, 53, 7, 26, 27, 8, 69, 40, 98, 21, 51, 58, 46, 14, 95, 91, 31, 16, 56, 20, 65, 98, 27, 97, 41, 17, 40, 44, 14, 54, 83, 74, 46, 68, 97, 15, 22, 89, 12, 70, 63, 89, 82, 91, 12, 14, 83, 39, 0, 61, 8, 98, 100, 80, 75, 39, 88, 45, 24, 100, 5, 35, 53, 88, 96, 15, 51, 50, 58, 49, 74, 58, 73, 24, 11, 67, 20, 45, 64, 55, 4, 45, 45, 70, 98, 12, 95, 32, 17, 99, 48, 4, 12, 98, 81, 3, 49, 74, 64, 80, 74, 71, 55, 54, 28, 34, 20, 4, 72, 21, 76, 81, 11, 61, 77, 93, 77, 72, 54, 31, 73, 21, 41, 68, 59, 41, 83, 34, 61, 16, 67]\n"
          ]
        }
      ]
    },
    {
      "cell_type": "markdown",
      "source": [
        "8. Escreva um algoritmo para fazer a soma de dois vetores de 10 elementos reais lidos do\n",
        "teclado. O primeiro elemento do primeiro vetor deverá ser adicionado ao primeiro elemento do\n",
        "segundo vetor e, o resultado deverá ser acumulado em um terceiro vetor também de 10\n",
        "elementos. Imprimir os três vetores conforme layout de impressão abaixo:\n",
        "* VETOR 1: __ __ __ __ __ __ __ __ __ __\n",
        "* VETOR 2: __ __ __ __ __ __ __ __ __ __\n",
        "* VETOR 3: __ __ __ __ __ __ __ __ __ __"
      ],
      "metadata": {
        "id": "Fpe1U5od721J"
      }
    },
    {
      "cell_type": "code",
      "source": [
        "vetor1 = []\n",
        "vetor2 = []\n",
        "vetor3 = []\n",
        "for i in range(0, 10):\n",
        "  vetor1.append(int(input('Digite um valor para o vetor 1: ')))\n",
        "for i in range(0, 10):\n",
        "  vetor2.append(int(input('Digite um valor para o vetor 2: ')))\n",
        "for i in range(0, 10):\n",
        "  vetor3.append(vetor1[i]+vetor2[i])\n",
        "print(f\"Vetor 1: {vetor1}\")\n",
        "print(f\"Vetor 2: {vetor2}\") \n",
        "print(f\"Vetor 3: {vetor3}\")"
      ],
      "metadata": {
        "id": "rWkC4_qKBV7Y",
        "colab": {
          "base_uri": "https://localhost:8080/"
        },
        "outputId": "8afdf2ad-8f31-4d94-c984-0ccecb7ba80b"
      },
      "execution_count": null,
      "outputs": [
        {
          "output_type": "stream",
          "name": "stdout",
          "text": [
            "Digite um valor para o vetor 1: 1\n",
            "Digite um valor para o vetor 1: 2\n",
            "Digite um valor para o vetor 1: 3\n",
            "Digite um valor para o vetor 1: 4\n",
            "Digite um valor para o vetor 1: 5\n",
            "Digite um valor para o vetor 1: 6\n",
            "Digite um valor para o vetor 1: 7\n",
            "Digite um valor para o vetor 1: 8\n",
            "Digite um valor para o vetor 1: 9\n",
            "Digite um valor para o vetor 1: 10\n",
            "Digite um valor para o vetor 2: 1\n",
            "Digite um valor para o vetor 2: 2\n",
            "Digite um valor para o vetor 2: 3\n",
            "Digite um valor para o vetor 2: 4\n",
            "Digite um valor para o vetor 2: 5\n",
            "Digite um valor para o vetor 2: 6\n",
            "Digite um valor para o vetor 2: 7\n",
            "Digite um valor para o vetor 2: 8\n",
            "Digite um valor para o vetor 2: 9\n",
            "Digite um valor para o vetor 2: 10\n",
            "Vetor 1: [1, 2, 3, 4, 5, 6, 7, 8, 9, 10]\n",
            "Vetor 2: [1, 2, 3, 4, 5, 6, 7, 8, 9, 10]\n",
            "Vetor 3: [2, 4, 6, 8, 10, 12, 14, 16, 18, 20]\n"
          ]
        }
      ]
    },
    {
      "cell_type": "markdown",
      "source": [
        "9. Fazer um algoritmo que:\n",
        "* a) Leia duas variáveis compostas unidimensionais, contendo, cada uma, 25 elementos numéricos;\n",
        "* b) intercale os elementos desses dois conjuntos formando uma nova variável composta\n",
        "unidimensional de 50 elementos;\n",
        "* c) Escreva o resultado obtido."
      ],
      "metadata": {
        "id": "k8Vt6ffm780J"
      }
    },
    {
      "cell_type": "code",
      "source": [
        "from random import randint\n",
        "vetor1 = []\n",
        "vetor2 = []\n",
        "vetor3 = []\n",
        "for i in range(0, 25):\n",
        "  vetor1.append(int(randint(0, 100)))\n",
        "for i in range(0, 25):\n",
        "  vetor2.append(int(randint(0, 100)))\n",
        "for i in range(0, 25):\n",
        "  vetor3.append(vetor1[i])\n",
        "  vetor3.append(vetor2[i])\n",
        "print(f\"Vetor 1 = {vetor1}\")\n",
        "print(f\"Vetor 2 = {vetor2}\")\n",
        "print(f\"Vetor 3 = {vetor3}\")\n",
        "\n"
      ],
      "metadata": {
        "id": "OxixiQyHBW5I",
        "colab": {
          "base_uri": "https://localhost:8080/"
        },
        "outputId": "b21cb30c-73da-4d34-8465-040226e5459b"
      },
      "execution_count": null,
      "outputs": [
        {
          "output_type": "stream",
          "name": "stdout",
          "text": [
            "Vetor 1 = [25, 4, 1, 95, 100, 13, 74, 27, 33, 23, 95, 4, 61, 59, 96, 32, 43, 10, 61, 73, 64, 28, 89, 99, 3]\n",
            "Vetor 2 = [47, 24, 77, 91, 31, 80, 61, 43, 58, 82, 20, 70, 19, 71, 29, 38, 67, 69, 89, 37, 37, 85, 90, 20, 3]\n",
            "Vetor 3 = [25, 47, 4, 24, 1, 77, 95, 91, 100, 31, 13, 80, 74, 61, 27, 43, 33, 58, 23, 82, 95, 20, 4, 70, 61, 19, 59, 71, 96, 29, 32, 38, 43, 67, 10, 69, 61, 89, 73, 37, 64, 37, 28, 85, 89, 90, 99, 20, 3, 3]\n"
          ]
        }
      ]
    },
    {
      "cell_type": "markdown",
      "source": [
        "10. Escreva um algoritmo que:\n",
        "\n",
        "  a) leia 100 valores numéricos e os armazene numa variável composta unidimensional A;\n",
        "\n",
        "  b) calcule e escreva:\n",
        "\n",
        "  $s=\\sum _{i=0}^{99}\\:=\\frac{i}{a_i}$, onde ai é o i-ésimo valor armazenado na variável A;\n",
        "\n",
        "  c) calcule e escreva quantos termos da série acima têm o numerador menor do que o denominador."
      ],
      "metadata": {
        "id": "2NHBDc4x8DFS"
      }
    },
    {
      "cell_type": "code",
      "source": [],
      "metadata": {
        "id": "dBNXrtbiBYDQ"
      },
      "execution_count": null,
      "outputs": []
    },
    {
      "cell_type": "markdown",
      "source": [
        "11. Faça um algoritmo que leia um conjunto de 10 elementos reais e os coloque em um vetor. Construa um segundo vetor formado da seguinte maneira:\n",
        "\n",
        "  • Os elementos de ordem par são os correspondentes do primeiro vetor multiplicados por 3.\n",
        "\n",
        "  • Os elementos de ordem ímpar são os correspondentes do primeiro vetor divididos por 2.\n",
        "\n",
        "  • Imprima os dois vetores."
      ],
      "metadata": {
        "id": "3k8owepw-pdW"
      }
    },
    {
      "cell_type": "code",
      "source": [],
      "metadata": {
        "id": "_duQzYKXBYtw"
      },
      "execution_count": null,
      "outputs": []
    },
    {
      "cell_type": "markdown",
      "source": [
        "12. Escreva um algoritmo que:\n",
        "\n",
        "  a) leia um conjunto A de 20 elementos a partir de uma unidade de entrada;\n",
        "\n",
        "  b) calcule e imprima o valor de S, onde:\n",
        "\n",
        "  $$s=\\left(A\\left[0\\right]\\:-\\:A\\left[19\\right]\\right)^2+\\left(A\\left[1\\right]\\:-\\:A\\left[18\\right]\\right)^2+...+\\left(A\\left[9\\right]\\:-\\:A\\left[10\\right]\\right)^2$$"
      ],
      "metadata": {
        "id": "Sf7BC86E-uWW"
      }
    },
    {
      "cell_type": "code",
      "source": [],
      "metadata": {
        "id": "KzaZYMx_BZaQ"
      },
      "execution_count": null,
      "outputs": []
    },
    {
      "cell_type": "markdown",
      "source": [
        "13. Escreva um algoritmo que:\n",
        "\n",
        "  a) leia uma frase de 50 caracteres;\n",
        "\n",
        "  b) conte quantos brancos existem na frase;\n",
        "\n",
        "  c) conte quantas vezes a letra “A” aparece;\n",
        "\n",
        "  d) imprima o que foi calculado nos itens b e c."
      ],
      "metadata": {
        "id": "VRuI7JVu-yaG"
      }
    },
    {
      "cell_type": "code",
      "source": [],
      "metadata": {
        "id": "p7SQ72w0BaHK"
      },
      "execution_count": null,
      "outputs": []
    },
    {
      "cell_type": "markdown",
      "source": [
        "14. Um armazém trabalha com 100 mercadorias diferentes identificadas pelos números inteiros de 0 a 99. O dono do armazém anota a quantidade de cada mercadoria vendida durante o mês.\n",
        "\n",
        "  Ele tem uma tabela mensal que indica para cada mercadoria o preço de venda. Escreva o algoritmo para calcular o faturamento mensal do armazém, isto é:\n",
        "\n",
        "  $$FATURAMENTO\\:=\\:\\sum _{I=0}^{99}\\:\\left(QUANTIDADE_i+PREÇO_i\\right)$$\n",
        "\n",
        "  As tabelas de preço e quantidade são fornecidas em dois vetores."
      ],
      "metadata": {
        "id": "qRHbzRSY-1YW"
      }
    },
    {
      "cell_type": "code",
      "source": [],
      "metadata": {
        "id": "Qu6WpB9DBayQ"
      },
      "execution_count": null,
      "outputs": []
    },
    {
      "cell_type": "markdown",
      "source": [
        "15. Classificar um vetor numérico VET de 20 elementos em ordem crescente."
      ],
      "metadata": {
        "id": "19YnhR7q-4pG"
      }
    },
    {
      "cell_type": "code",
      "source": [],
      "metadata": {
        "id": "H7RLJ83gBbPQ"
      },
      "execution_count": null,
      "outputs": []
    },
    {
      "cell_type": "markdown",
      "source": [
        "16. Dado um vetor de 128 elementos, verificar se existe um elemento igual a K (chave) no vetor. Se existir, imprimir a posição onde foi encontrada a chave; se não; imprimir a mensagem: “CHAVE K NÃO ENCONTRADA”. O vetor A e a chave K são lidos a partir de uma unidade de entrada."
      ],
      "metadata": {
        "id": "OUplW4fT-8mf"
      }
    },
    {
      "cell_type": "code",
      "source": [],
      "metadata": {
        "id": "xP8dYBDfBcVJ"
      },
      "execution_count": null,
      "outputs": []
    },
    {
      "cell_type": "markdown",
      "source": [
        "17. Refaça o algoritmo acima otimizando-o usando uma técnica conhecida por Pesquisa Binária. Suponha primeiramente que o vetor já esteja ordenado. Procuramos então o elemento K dividindo o vetor em duas partes e testando em qual das duas partes ele deveria estar. Procede-se então, da mesma forma para a parte provável, e assim sucessivamente.\n",
        "\n",
        "  Obs.: na pesquisa sequencial simples (problema 16), o número médio de comparações que devem ser feitas até encontrar a chave é N/2, onde N é o número de elementos do vetor. No nosso caso, no algoritmo 16, teríamos, em média, 128/2 = 64 comparações. Na pesquisa binária, o número máximo de comparações é log2N. Teríamos, então, log2128=7 comparações, no máximo."
      ],
      "metadata": {
        "id": "j8UeMrmD-_fm"
      }
    },
    {
      "cell_type": "code",
      "source": [],
      "metadata": {
        "id": "91FpqbxZBdFg"
      },
      "execution_count": null,
      "outputs": []
    },
    {
      "cell_type": "markdown",
      "source": [
        "18. Faça um algoritmo qualquer que leia uma matriz A de 15 linhas por 25 colunas e imprima o seu conteúdo."
      ],
      "metadata": {
        "id": "jYUyFbqZ_D_X"
      }
    },
    {
      "cell_type": "code",
      "source": [],
      "metadata": {
        "id": "gnaipYuWBd0A"
      },
      "execution_count": null,
      "outputs": []
    },
    {
      "cell_type": "markdown",
      "source": [
        "19. Dada uma matriz B, de 10 linhas por 20 colunas, escrever um algoritmo que calcula e imprima o somatório dos elementos da quinta linha."
      ],
      "metadata": {
        "id": "AjB4yZvT_HCP"
      }
    },
    {
      "cell_type": "code",
      "source": [],
      "metadata": {
        "id": "1aZ_gLU1BeQp"
      },
      "execution_count": null,
      "outputs": []
    },
    {
      "cell_type": "markdown",
      "source": [
        "20. Dada uma tabela de 4 x 5 elementos, calcular a soma de cada linha e a soma de todos os elementos."
      ],
      "metadata": {
        "id": "SpXCHBaq_Kgv"
      }
    },
    {
      "cell_type": "code",
      "source": [],
      "metadata": {
        "id": "vXxksBEjBeu5"
      },
      "execution_count": null,
      "outputs": []
    },
    {
      "cell_type": "markdown",
      "source": [
        "21. Elabore um algoritmo que leia uma matriz 4 x 4 e escreva a matriz resultante após ter multiplicado os elementos da diagonal principal por uma constante k."
      ],
      "metadata": {
        "id": "ePUpNFaF_OPX"
      }
    },
    {
      "cell_type": "code",
      "source": [],
      "metadata": {
        "id": "o5u86b-kBfbI"
      },
      "execution_count": null,
      "outputs": []
    },
    {
      "cell_type": "markdown",
      "source": [
        "22. Escreva um algoritmo que:\n",
        "\n",
        "  a) leia uma matriz quadrada 20 x 20 de elementos reais;\n",
        "\n",
        "  b) divida cada elemento de uma linha da matriz pelo elemento da diagonal principal dessa linha;\n",
        "\n",
        "  c) imprima a matriz assim modificada;"
      ],
      "metadata": {
        "id": "jaTPhcgS_RHg"
      }
    },
    {
      "cell_type": "code",
      "source": [],
      "metadata": {
        "id": "oLSs4nYmBgGg"
      },
      "execution_count": null,
      "outputs": []
    },
    {
      "cell_type": "markdown",
      "source": [
        "23. Faça um algoritmo que:\n",
        "\n",
        "  a) leia uma matriz 10 x 10 de elementos inteiros;\n",
        "\n",
        "  b) imprima essa matriz;\n",
        "\n",
        "  c) calcule e imprima a soma dos elementos situados abaixo da diagonal principal da matriz, incluindo os elementos da própria diagonal principal."
      ],
      "metadata": {
        "id": "FPaMjqL9_Uh4"
      }
    },
    {
      "cell_type": "code",
      "source": [],
      "metadata": {
        "id": "bQM-kt6ZBg6x"
      },
      "execution_count": null,
      "outputs": []
    },
    {
      "cell_type": "markdown",
      "source": [
        "24. Escreva um algoritmo que leia duas matrizes reais de dimensão 3 x 5, calcule e imprima a sua soma."
      ],
      "metadata": {
        "id": "ujy0HK7V_Xbo"
      }
    },
    {
      "cell_type": "code",
      "source": [],
      "metadata": {
        "id": "mQ9uhds6BhdR"
      },
      "execution_count": null,
      "outputs": []
    },
    {
      "cell_type": "markdown",
      "source": [
        "25. Dada uma matriz MAT de 4 x 5 elementos, faça um algoritmo para somar os elementos de cada linha gerando o vetor SOMALINHA. Em seguida, somar os elementos do vetor SOMALINHA na variável TOTAL que deve ser impressa no final."
      ],
      "metadata": {
        "id": "xlLgUmWD_bS8"
      }
    },
    {
      "cell_type": "code",
      "source": [],
      "metadata": {
        "id": "e_5iolROBiOz"
      },
      "execution_count": null,
      "outputs": []
    },
    {
      "cell_type": "markdown",
      "source": [
        "26. Escreva um algoritmo para calcular e imprimir a soma de duas matrizes. Seja matriz A (m x n) e a matriz B (n x p). Deverão ser impressas as matrizes A, B e a matriz produto obtida (C). Obs.:\n",
        "\n",
        "$$\\left(C_{ij}=\\sum _{k=0}^{n-1}\\:A_{kj}\\cdot \\:B_{kj}\\right)\\left(i=0,\\:1,\\:...,\\:m-1\\right)\\left(j=0,\\:1,\\:...,\\:p-1\\right)$$"
      ],
      "metadata": {
        "id": "Shmdz0rP_dxR"
      }
    },
    {
      "cell_type": "code",
      "source": [],
      "metadata": {
        "id": "TXPwJvoVBi7p"
      },
      "execution_count": null,
      "outputs": []
    },
    {
      "cell_type": "markdown",
      "source": [
        "27. A tabela dada a seguir contém vários itens que estão estocados em vários armazéns de uma companhia. É fornecido, também, o custo de cada um dos produtos armazenados.\n",
        "\n",
        "|            | Produto 1 (unidades) | Produto 2 (unidades) | Produto 3 (unidades) |\n",
        "|:----------:|:--------------------:|:--------------------:|:--------------------:|\n",
        "|**Armazém 1**|         1200         |         3700         |         3737         |\n",
        "|**Armazém 2**|         1400         |         4210         |         4224         |\n",
        "|**Armazém 3**|         200          |         2240         |         2444         |\n",
        "|**Custo (R$)**|        260,00        |        420,00        |        330,00        |\n",
        "\n",
        "Fazer um algoritmo que:\n",
        "\n",
        "a) leia o estoque inicial;\n",
        "\n",
        "b) determine e imprima quantos itens estão armazenados em cada armazém;\n",
        "\n",
        "c) qual o armazém que possui a maior quantidade de produto 2 armazenado;\n",
        "\n",
        "d) o custo total de:\n",
        "\n",
        "  d.1) cada produto em cada armazém;\n",
        "\n",
        "  d.2) estoque em cada armazém;\n",
        "\n",
        "  d.3) cada produto em todos os armazéns."
      ],
      "metadata": {
        "id": "ecxlrJ_2_g_x"
      }
    },
    {
      "cell_type": "code",
      "source": [],
      "metadata": {
        "id": "k_qP3UONBjtR"
      },
      "execution_count": null,
      "outputs": []
    },
    {
      "cell_type": "markdown",
      "source": [
        "28. Faça um algoritmo que monte uma estrutura de dados homogênea 10 x 30, onde o conteúdo de cada elemento é igual à soma dos valores de seus índices."
      ],
      "metadata": {
        "id": "Mt9HCIni_kvY"
      }
    },
    {
      "cell_type": "code",
      "source": [],
      "metadata": {
        "id": "FUbPQ2fXBkHj"
      },
      "execution_count": null,
      "outputs": []
    },
    {
      "cell_type": "markdown",
      "source": [
        "29. Ler duas matrizes A e B, cada uma com 7 linhas e 1 coluna. Construir uma matriz C de 7 x 2, onde a primeira coluna deverá ser formada pelos elementos da matriz A e a segunda coluna deverá ser formada pelos elementos da matriz B."
      ],
      "metadata": {
        "id": "3oRooqN__omK"
      }
    },
    {
      "cell_type": "code",
      "source": [],
      "metadata": {
        "id": "dGrQi4vUBkv4"
      },
      "execution_count": null,
      "outputs": []
    },
    {
      "cell_type": "markdown",
      "source": [
        "30. Suponha que nos é dada uma matriz de inteiros A com m=20 linhas e n=30 colunas, e um vetor de inteiros X com n=30 elementos. Deseja-se gerar um novo vetor de inteiros Y, formado a partir das seguintes operações:\n",
        "\n",
        "  $Y\\left[0\\right]=A\\left[0\\right]\\left[0\\right]\\cdot X\\left[0\\right]+A\\left[0\\right]\\left[1\\right]\\cdot X\\left[1\\right]+...+A\\left[0\\right]\\left[N-1\\right]\\cdot X\\left[N-1\\right]$\n",
        "\n",
        "  $Y\\left[1\\right]=A\\left[1\\right]\\left[0\\right]\\cdot X\\left[0\\right]+A\\left[1\\right]\\left[1\\right]\\cdot X\\left[1\\right]+...+A\\left[1\\right]\\left[N-1\\right]\\cdot X\\left[N-1\\right]$\n",
        "\n",
        "  . <br>\n",
        "  . <br>\n",
        "  .\n",
        "\n",
        "  $Y\\left[m-1\\right]=A\\left[m-1\\right]\\left[0\\right]\\cdot X\\left[0\\right]+A\\left[m-1\\right]\\left[1\\right]\\cdot X\\left[1\\right]+...+A\\left[m-1\\right]\\left[N-1\\right]\\cdot X\\left[N-1\\right]$\n",
        "\n",
        "  <br>\n",
        "  Escreva os dados de entrada (os valores de A e X) seguidos pelos valores dos elementos de Y"
      ],
      "metadata": {
        "id": "uLyoUG2B_rMq"
      }
    },
    {
      "cell_type": "code",
      "source": [],
      "metadata": {
        "id": "PVtKFTOkBn_Z"
      },
      "execution_count": null,
      "outputs": []
    },
    {
      "cell_type": "markdown",
      "source": [
        "31. Preencher e imprimir os elementos de uma matriz A10 x 6 de elementos reais com valores tais que:\n",
        "\n",
        "  • Se I < J, A[I][J] = I / J;\n",
        "\n",
        "  • Se I = J, A[I][J] = 0;\n",
        "\n",
        "  • Se I > J, A[I][J] = J / I;"
      ],
      "metadata": {
        "id": "u93VSoKX_upb"
      }
    },
    {
      "cell_type": "code",
      "source": [],
      "metadata": {
        "id": "DrfXvgpaBodQ"
      },
      "execution_count": null,
      "outputs": []
    },
    {
      "cell_type": "markdown",
      "source": [
        "32. Uma matriz X[n][4] contém informações sobre alunos de uma universidade. Os índices das linhas são os números de matrícula e os elementos da 1a, 2a, 3a e 4a colunas são, respectivamente, idade, sexo (0 ou 1), curso (no. do curso) e nota. Fazer um algoritmo para obter o aluno do sexo 0, curso 6, que obteve a melhor nota. Supor a inexistência de empate."
      ],
      "metadata": {
        "id": "8bIr7q3T_x38"
      }
    },
    {
      "cell_type": "code",
      "source": [],
      "metadata": {
        "id": "3l5lwFelBo35"
      },
      "execution_count": null,
      "outputs": []
    },
    {
      "cell_type": "markdown",
      "source": [
        "33. Faça um algoritmo que leia uma matriz QUANT de 10 linhas por 10 colunas e imprima as seguintes características:\n",
        "\n",
        "  a) dê o somatório dos quadrados da 1a coluna;\n",
        "\n",
        "  b) dê o somatório dos cubos da 2a linha;\n",
        "\n",
        "  c) dê o somatório dos elementos da diagonal principal;\n",
        "\n",
        "  d) dê o somatório total dos 100 elementos."
      ],
      "metadata": {
        "id": "OY0c1dLr_1mq"
      }
    },
    {
      "cell_type": "code",
      "source": [],
      "metadata": {
        "id": "jTtu7cU5Bpdx"
      },
      "execution_count": null,
      "outputs": []
    },
    {
      "cell_type": "markdown",
      "source": [
        "34. Sabe-se que a multiplicação de duas matrizes A e B só é possível se o número de colunas da matriz A for igual ao número de linhas da matriz B. Assim, se A é uma matriz m x n e B uma matriz n x p, a multiplicação será possível e o produto será uma matriz Cm x p. O produto matricial pode ser muito útil em várias aplicações como, por exemplo, na situação descrita a seguir.\n",
        "\n",
        "  Uma certa fábrica produziu dois tipos de motores M1 e M2 nos meses de janeiro a dezembro e o número de motores produzidos foi registrado na tabela a seguir:\n",
        "\n",
        "|       | M1 | M2 |\n",
        "|:-----:|:--:|:--:|\n",
        "|**JAN**| 30 | 20 |\n",
        "|**FEV**| 30 | 20 |\n",
        "|**MAR**| 30 | 20 |\n",
        "|**.**| 30 | 20 |\n",
        "|**JAN**| 30 | 20 |\n",
        "\n",
        "  O setor de controle de vendas tem uma tabela do custo e do lucro (em milhares de reais) obtidos com cada motor.\n",
        "\n",
        "|       | CUSTO | LUCRO |\n",
        "|:-----:|:-----:|:-----:|\n",
        "|**M1**|   10  |   3   |\n",
        "|**M2**|   15  |   2   |\n",
        "\n",
        "  Para saber o custo e o lucro nos meses de janeiro a dezembro, basta que se faça o produto matricial das duas tabelas.\n",
        "  \n",
        "  Portanto, fazer um algoritmo que, a partir da produção mensal de motores M1 e M2 e seus\n",
        "  respectivos custos e lucros, calcule o custo e o lucro em cada um dos meses e o custo e lucro anuais."
      ],
      "metadata": {
        "id": "4JwgiFJD_4HI"
      }
    },
    {
      "cell_type": "code",
      "source": [],
      "metadata": {
        "id": "Ej4QNOHgBp-B"
      },
      "execution_count": null,
      "outputs": []
    }
  ]
}