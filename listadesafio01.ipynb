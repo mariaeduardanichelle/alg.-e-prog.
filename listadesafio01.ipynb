{
  "nbformat": 4,
  "nbformat_minor": 0,
  "metadata": {
    "colab": {
      "provenance": []
    },
    "kernelspec": {
      "name": "python3",
      "display_name": "Python 3"
    },
    "language_info": {
      "name": "python"
    }
  },
  "cells": [
    {
      "cell_type": "code",
      "execution_count": null,
      "metadata": {
        "colab": {
          "base_uri": "https://localhost:8080/"
        },
        "id": "Gl2HkFGkidgO",
        "outputId": "de22d988-3455-472d-8825-ef8a58f0e69a"
      },
      "outputs": [
        {
          "output_type": "stream",
          "name": "stdout",
          "text": [
            "Digite o lado do quadrado: 2\n",
            "A área do quadrado é: 4.0m²\n",
            "O perímetro do quadrado é 8.0\n"
          ]
        }
      ],
      "source": [
        "lado = float(input('Digite o lado do quadrado: '))\n",
        "area = lado * lado\n",
        "peri = lado *4\n",
        "print(f'A área do quadrado é: {area}m²\\nO perímetro do quadrado é {peri}')"
      ]
    },
    {
      "cell_type": "code",
      "source": [
        "seunome = str(input('Qual é o seu nome? ')).capitalize()\n",
        "quant = int(input('Digite a quantidade de filhos: '))\n",
        "print(f'{seunome} tem {quant} filhos.')"
      ],
      "metadata": {
        "colab": {
          "base_uri": "https://localhost:8080/"
        },
        "id": "9aShiPM0jFa2",
        "outputId": "3b88f6be-47b6-4a2c-d346-53cb488c89f3"
      },
      "execution_count": 12,
      "outputs": [
        {
          "output_type": "stream",
          "name": "stdout",
          "text": [
            "Qual é o seu nome? fulano\n",
            "Digite a quantidade de filhos: 6\n",
            "Fulano tem 6 filhos.\n"
          ]
        }
      ]
    },
    {
      "cell_type": "code",
      "source": [
        "seunome = str(input('Digite o nome: ')).capitalize()\n",
        "quant = int(input('Digite a quantidade de filhos: '))\n",
        "nome = list()\n",
        "for c in range(1, quant + 1):\n",
        "  nome.append(str(input('Digite o nome do seu filho: ')))\n",
        "if quant == 1:\n",
        "  print(f'{seunome} tem 1 filho chamado de: ', end = ' ')\n",
        "else: \n",
        "  print(f'{seunome} tem {quant} filhos chamados de:', end = ' ')\n",
        "for i, n in enumerate(nome):\n",
        "  if i == quant - 1:\n",
        "    print(f'{n.capitalize()}.', end = ' ')\n",
        "  else: \n",
        "    print(f'{n.capitalize()},', end = ' ')"
      ],
      "metadata": {
        "colab": {
          "base_uri": "https://localhost:8080/"
        },
        "id": "znsHNMOAZROm",
        "outputId": "533ff297-2641-4441-8fb3-1cee217e7cc1"
      },
      "execution_count": 11,
      "outputs": [
        {
          "output_type": "stream",
          "name": "stdout",
          "text": [
            "Digite o nome: a\n",
            "Digite a quantidade de filhos: 5\n",
            "Digite o nome do seu filho: b\n",
            "Digite o nome do seu filho: c\n",
            "Digite o nome do seu filho: d\n",
            "Digite o nome do seu filho: e\n",
            "Digite o nome do seu filho: f\n",
            "A tem 5 filhos chamados de: B, C, D, E, F. "
          ]
        }
      ]
    },
    {
      "cell_type": "code",
      "source": [
        "base = float(input('Digite a base: '))\n",
        "altu = float(input('Digite a altura: '))\n",
        "peri = 2*(base + altu)\n",
        "area = base * altu\n",
        "print(f'O perímetro do retângulo é {peri} e a área é {area}.')"
      ],
      "metadata": {
        "colab": {
          "base_uri": "https://localhost:8080/"
        },
        "id": "AsdOuErzk9xr",
        "outputId": "1579fbd1-89c4-4c69-8258-76220fe0a007"
      },
      "execution_count": null,
      "outputs": [
        {
          "output_type": "stream",
          "name": "stdout",
          "text": [
            "Digite a base: 2\n",
            "Digite a altura: 4\n",
            "O perímetro do retângulo é 12.0 e a área é 8.0.\n"
          ]
        }
      ]
    },
    {
      "cell_type": "code",
      "source": [
        "lado = float(input('Digite o lado: '))\n",
        "area = 6 * lado **2\n",
        "peri = lado ** 3\n",
        "print(f'A área do cubo é {area} e o perímetro é {peri}')"
      ],
      "metadata": {
        "colab": {
          "base_uri": "https://localhost:8080/"
        },
        "id": "fIiFgz8KlqQ4",
        "outputId": "4b10dbc9-72be-4345-cbc1-38bcd930c27c"
      },
      "execution_count": null,
      "outputs": [
        {
          "output_type": "stream",
          "name": "stdout",
          "text": [
            "Digite o lado: 2\n",
            "A área do cubo é 24.0 e o perímetro é 8.0\n"
          ]
        }
      ]
    },
    {
      "cell_type": "code",
      "source": [
        "n1 = float(input('Digite um número: '))\n",
        "n2 = float(input('Digite um número: '))\n",
        "quociente = n1 // n2\n",
        "resto = n1 % n2\n",
        "print(f'O quociente da divisão inteira é {quociente} e o resto da divisão inteira é {resto}')"
      ],
      "metadata": {
        "colab": {
          "base_uri": "https://localhost:8080/"
        },
        "id": "YWHRzXxImMZ6",
        "outputId": "df0be83f-2fd4-4c70-d3ff-11b57e948557"
      },
      "execution_count": null,
      "outputs": [
        {
          "output_type": "stream",
          "name": "stdout",
          "text": [
            "Digite um número: 2\n",
            "Digite um número: 1\n",
            "O quociente da divisão inteira é 2.0 e o resto da divisão inteira é 0.0\n"
          ]
        }
      ]
    },
    {
      "cell_type": "code",
      "source": [
        "b = float(input('Digite a base do triângulo: '))\n",
        "h = float(input('Digite a altura do triângulo: '))\n",
        "area = (b * h) / 2\n",
        "print(f'A área do triângulo é {area}')"
      ],
      "metadata": {
        "colab": {
          "base_uri": "https://localhost:8080/"
        },
        "id": "8_IeO8VRnC8D",
        "outputId": "bfe8cf31-3348-463e-93ce-f63d6cdc0280"
      },
      "execution_count": null,
      "outputs": [
        {
          "output_type": "stream",
          "name": "stdout",
          "text": [
            "Digite a base do triângulo: 2\n",
            "Digite a altura do triângulo: 2\n",
            "A área do triângulo é 2.0\n"
          ]
        }
      ]
    },
    {
      "cell_type": "code",
      "source": [
        "import math\n",
        "raio = float(input('Digite o raio: '))\n",
        "peri = 2 * math.pi * raio\n",
        "area = math.pi * raio ** 2\n",
        "print(f'O perímetro do circulo é {peri} e a área é {area}')"
      ],
      "metadata": {
        "colab": {
          "base_uri": "https://localhost:8080/"
        },
        "id": "2U17F5xtnjYK",
        "outputId": "820e8c35-c459-4b65-93bd-0778869924b3"
      },
      "execution_count": null,
      "outputs": [
        {
          "output_type": "stream",
          "name": "stdout",
          "text": [
            "Digite o raio: 2\n",
            "O perímetro do circulo é 12.566370614359172 e a área é 12.566370614359172\n"
          ]
        }
      ]
    },
    {
      "cell_type": "code",
      "source": [
        "from math import pi\n",
        "raio = float(input('Digite o raio: '))\n",
        "peri = 2 * pi * raio\n",
        "area = pi * raio ** 2\n",
        "print(f'O perímetro do circulo é {peri} e a área é {area}')"
      ],
      "metadata": {
        "colab": {
          "base_uri": "https://localhost:8080/"
        },
        "id": "IjlkMgORoPhz",
        "outputId": "7fb2ac1b-feb6-4fb5-d3ee-bc0ffccde08b"
      },
      "execution_count": null,
      "outputs": [
        {
          "output_type": "stream",
          "name": "stdout",
          "text": [
            "Digite o raio: 2\n",
            "O perímetro do circulo é 12.566370614359172 e a área é 12.566370614359172\n"
          ]
        }
      ]
    }
  ]
}