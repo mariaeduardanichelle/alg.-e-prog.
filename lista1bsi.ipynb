{
  "nbformat": 4,
  "nbformat_minor": 0,
  "metadata": {
    "colab": {
      "provenance": []
    },
    "kernelspec": {
      "name": "python3",
      "display_name": "Python 3"
    },
    "language_info": {
      "name": "python"
    }
  },
  "cells": [
    {
      "cell_type": "markdown",
      "source": [
        "<font color=cyan>1) <font color=cyan/>Faça um programa que peça dois números inteiros e imprima a soma desses dois números.\n",
        "\n",
        "\n"
      ],
      "metadata": {
        "id": "xWlmr7hsAiYL"
      }
    },
    {
      "cell_type": "code",
      "execution_count": null,
      "metadata": {
        "colab": {
          "base_uri": "https://localhost:8080/"
        },
        "id": "D0yirQj_-t78",
        "outputId": "248624af-b310-4eef-8750-da7a92fd56de"
      },
      "outputs": [
        {
          "output_type": "stream",
          "name": "stdout",
          "text": [
            "Digite um valor: 1\n",
            "Digite um valor: 1\n",
            "A soma de 1 + 1 = 2\n"
          ]
        }
      ],
      "source": [
        "n1 = int(input('Digite um valor: '))\n",
        "n2 = int(input('Digite um valor: '))\n",
        "soma = n1 + n2\n",
        "print(f'A soma de {n1} + {n2} = {soma}')"
      ]
    },
    {
      "cell_type": "markdown",
      "source": [
        "<font color=cyan> 2) <font color=cyan/> Escreva um programa que leia um valor em metros e o exiba convertido em milímetros."
      ],
      "metadata": {
        "id": "W-ewklRyDQ7j"
      }
    },
    {
      "cell_type": "code",
      "source": [
        "num = float(input('Digite um valor em metros para ser convertido para milímetros: '))\n",
        "conv = num * 1000\n",
        "print(f'{num}m é igual a {conv}mm')"
      ],
      "metadata": {
        "colab": {
          "base_uri": "https://localhost:8080/"
        },
        "id": "S8FmmLvYDQkv",
        "outputId": "c5300014-fb75-4b36-c154-dc308c8feca3"
      },
      "execution_count": null,
      "outputs": [
        {
          "output_type": "stream",
          "name": "stdout",
          "text": [
            "Digite um valor em metros para ser convertido para milímetros: 1\n",
            "1.0m é igual a 1000.0mm\n"
          ]
        }
      ]
    },
    {
      "cell_type": "markdown",
      "source": [
        "<font color=cyan>3) <font color=cyan/>Escreva um programa que leia a quantidade de dias, horas, minutos e segundos do usuário. Calcule o\n",
        "total em segundos."
      ],
      "metadata": {
        "id": "5u3HN-vDEpzk"
      }
    },
    {
      "cell_type": "code",
      "source": [
        "dia = int(input('Digite a quantidade de dias: '))\n",
        "hor = int(input('Digite a quantidade de horas: '))\n",
        "min = int(input('Digite a quantidade de minutos: '))\n",
        "seg = int(input('Digite a quntidade de segundos: '))\n",
        "diac = dia * 24 * 60 * 60\n",
        "horc = hor * 60 * 60\n",
        "minc = min * 60\n",
        "tot = diac + horc + minc + seg\n",
        "print(f'O total em segundos é {tot}s')"
      ],
      "metadata": {
        "colab": {
          "base_uri": "https://localhost:8080/"
        },
        "id": "Tf4G-e0UE0AM",
        "outputId": "636a1435-5744-4f47-e418-158377efc992"
      },
      "execution_count": null,
      "outputs": [
        {
          "output_type": "stream",
          "name": "stdout",
          "text": [
            "Digite a quantidade de dias: 1\n",
            "Digite a quantidade de horas: 1\n",
            "Digite a quantidade de minutos: 1\n",
            "Digite a quntidade de segundos: 1\n",
            "O total em segundos é 90061s\n"
          ]
        }
      ]
    },
    {
      "cell_type": "markdown",
      "source": [
        "<font color=cyan>4) <font color=cyan/>Faça um programa que calcule o aumento de um salário. Ele deve solicitar o valor do salário e a\n",
        "porcentagem do aumento. Exiba o valor do aumento e do novo salário."
      ],
      "metadata": {
        "id": "iTd5MksKG15K"
      }
    },
    {
      "cell_type": "code",
      "source": [
        "sal = float(input('Digite o valor do salário: '))\n",
        "por = float(input('Digite a porcentagem do aumento: '))\n",
        "aum = (sal * por)/100\n",
        "nsal = ((sal * por)/100) + sal\n",
        "print(f'O aumento foi de R${aum:.2f} totalizando R${nsal:.2f}')"
      ],
      "metadata": {
        "colab": {
          "base_uri": "https://localhost:8080/"
        },
        "id": "BSfRP7_UHEp5",
        "outputId": "c81019da-e559-46b6-cea2-6f97babc4d9c"
      },
      "execution_count": null,
      "outputs": [
        {
          "output_type": "stream",
          "name": "stdout",
          "text": [
            "Digite o valor do salário: 1000\n",
            "Digite a porcentagem do aumento: 10\n",
            "O aumento foi de R$100.00 totalizando R$1100.00\n"
          ]
        }
      ]
    },
    {
      "cell_type": "markdown",
      "source": [
        "<font color=cyan>5)<font color=cyan/> Solicite o preço de uma mercadoria e o percentual de desconto. Exiba o valor do desconto e o preço a\n",
        "pagar."
      ],
      "metadata": {
        "id": "dFoYmPZIINpX"
      }
    },
    {
      "cell_type": "code",
      "source": [
        "merc = float(input('Digite o valor da mercadoria: R$'))\n",
        "desc = float(input('Digite o percentual do desconto: '))\n",
        "desc = (merc * desc) / 100\n",
        "prec = merc - desc\n",
        "print(f'O valor do desconto foi de R${desc:.2f} e o preço a pagar é R${prec:.2f}')"
      ],
      "metadata": {
        "id": "jftQaBPSIdn_",
        "colab": {
          "base_uri": "https://localhost:8080/"
        },
        "outputId": "80bd8f7c-c5d5-4893-f473-40fdcc93e73d"
      },
      "execution_count": null,
      "outputs": [
        {
          "output_type": "stream",
          "name": "stdout",
          "text": [
            "Digite o valor da mercadoria: R$1000\n",
            "Digite o percentual do desconto: 10\n",
            "O valor do desconto foi de R$100.00 e o preço a pagar é R$900.00\n"
          ]
        }
      ]
    },
    {
      "cell_type": "markdown",
      "source": [
        "<font color=cyan>6) <font color=cyan/> Calcule o tempo de uma viagem de carro. Pergunte a distância a percorrer e a velocidade média\n",
        "esperada para a viagem."
      ],
      "metadata": {
        "id": "CHUa0pwDJnwU"
      }
    },
    {
      "cell_type": "code",
      "source": [
        "dist = float(input('Digite a distância a ser percorrida: [km] '))\n",
        "vel = float(input('Digite a velocidade média esperada para a viagem: [km/h] '))\n",
        "tempo = dist / vel\n",
        "print(f'A viagem irá durar {tempo}h')"
      ],
      "metadata": {
        "colab": {
          "base_uri": "https://localhost:8080/"
        },
        "id": "WetZf0xJJ1hj",
        "outputId": "9fc1c623-34fc-40fb-bb9d-dd05c3ef9333"
      },
      "execution_count": null,
      "outputs": [
        {
          "output_type": "stream",
          "name": "stdout",
          "text": [
            "Digite a distância a ser percorrida: [km] 100\n",
            "Digite a velocidade média esperada para a viagem: [km/h] 10\n",
            "A viagem irá durar 10.0h\n"
          ]
        }
      ]
    },
    {
      "cell_type": "markdown",
      "source": [
        "<font color=cyan>7)<font color=cyan/> Converta uma temperatura digitada em Celsius para Fahrenheit. F = 9*C/5 + 32 . Faça agora o\n",
        "contrário, de Fahrenheit para Celsius."
      ],
      "metadata": {
        "id": "uzMsDUAAK4rX"
      }
    },
    {
      "cell_type": "code",
      "source": [
        "cel = float(input('Digite uma temperatura em celsius: '))\n",
        "fah = float(input('Digite uma temperatura em fahrenheit: '))\n",
        "fahc = (9 * cel) / 5 + 32\n",
        "celc = (fah - 32) / 1.8\n",
        "print(f'{cel}°C para Fahrenheit é: {fahc}°F')\n",
        "print(f'{fah}°F para Celsius é: {celc}°C')"
      ],
      "metadata": {
        "colab": {
          "base_uri": "https://localhost:8080/"
        },
        "id": "tDXtmSTWLGyo",
        "outputId": "344d6bc5-6319-4521-e8d4-02673575d691"
      },
      "execution_count": null,
      "outputs": [
        {
          "output_type": "stream",
          "name": "stdout",
          "text": [
            "Digite uma temperatura em celsius: 20\n",
            "Digite uma temperatura em fahrenheit: 68\n",
            "20.0°C para Fahrenheit é: 68.0°F\n",
            "68.0°F para Celsius é: 20.0°C\n"
          ]
        }
      ]
    },
    {
      "cell_type": "markdown",
      "source": [
        "<font color=cyan>8)<font color=cyan/> Escreva um programa que pergunte a quantidade de km percorridos por um carro alugado pelo usuário,\n",
        "assim como a quantidade de dias pelos quais o carro foi alugado. Calcule o preço a pagar, sabendo que o\n",
        "carro custa R$ 60,00 por dia e R$ 0,15 por km rodado."
      ],
      "metadata": {
        "id": "BZmxDVAiNZ_I"
      }
    },
    {
      "cell_type": "code",
      "source": [
        "km = float(input('Digite a quantidade de km rodados: '))\n",
        "di = int(input('Digite a quantidade de dias pelos quais o carro foi alugado: '))\n",
        "pre = (km * 0.15) + (di * 60)\n",
        "print(f'O preço a pagar é R${pre:.2f}')"
      ],
      "metadata": {
        "colab": {
          "base_uri": "https://localhost:8080/"
        },
        "id": "0oMMUnsRNjen",
        "outputId": "8e4438fa-63b1-4857-8172-8abf412a8c13"
      },
      "execution_count": null,
      "outputs": [
        {
          "output_type": "stream",
          "name": "stdout",
          "text": [
            "Digite a quantidade de km rodados: 1\n",
            "Digite a quantidade de dias pelos quais o carro foi alugado: 1\n",
            "O preço a pagar é R$60.15\n"
          ]
        }
      ]
    },
    {
      "cell_type": "markdown",
      "source": [
        "<font color=cyan>9)<font color=cyan/> Escreva um programa para calcular a redução do tempo de vida de um fumante. Pergunte a quantidade\n",
        "de cigarros fumados por dia e quantos anos ele já fumou. Considere que um fumante perde 10 minutos\n",
        "de vida a cada cigarro, calcule quantos dias de vida um fumante perderá. Exiba o total de dias."
      ],
      "metadata": {
        "id": "f9He_213OZ7a"
      }
    },
    {
      "cell_type": "code",
      "source": [
        "cig = int(input('Digite a quantidade de cigarros fumados por dia: '))\n",
        "tem = int(input('Digite a quantidade de anos que você fumou: '))\n",
        "vida = ((tem * 365 * cig * 10) / 60) / 24\n",
        "print(f'Você perdeu {round(vida)} dias de vida pro fumar.\\nPARE DE FUMAR!!!!!!!!!!!')"
      ],
      "metadata": {
        "colab": {
          "base_uri": "https://localhost:8080/"
        },
        "id": "04p8XsbCOisy",
        "outputId": "967326de-2412-4e00-a0a4-1c49cca05a48"
      },
      "execution_count": null,
      "outputs": [
        {
          "output_type": "stream",
          "name": "stdout",
          "text": [
            "Digite a quantidade de cigarros fumados por dia: 1\n",
            "Digite a quantidade de anos que você fumou: 1\n",
            "Você perdeu 3 dias de vida pro fumar.\n",
            "PARE DE FUMAR!!!!!!!!!!!\n"
          ]
        }
      ]
    },
    {
      "cell_type": "markdown",
      "source": [
        "<font color=cyan>10)<font color=cyan/>Sabendo que str( ) converte valores numéricos para string, calcule quantos dígitos há em 2 elevado a um\n",
        "milhão."
      ],
      "metadata": {
        "id": "QvSo0AcGRXeU"
      }
    },
    {
      "cell_type": "code",
      "source": [
        "import sys\n",
        "sys.set_int_max_str_digits(0)\n",
        "num = 2 ** 1000000\n",
        "print(f'2¹⁰⁰⁰⁰⁰⁰ tem {len(str(num))} dígitos')"
      ],
      "metadata": {
        "colab": {
          "base_uri": "https://localhost:8080/"
        },
        "outputId": "5c526a52-edfe-480d-e1f5-a21112f26d55",
        "id": "r7azpZWLg6tw"
      },
      "execution_count": null,
      "outputs": [
        {
          "output_type": "stream",
          "name": "stdout",
          "text": [
            "2¹⁰⁰⁰⁰⁰⁰ tem 301030 dígitos\n"
          ]
        }
      ]
    }
  ]
}